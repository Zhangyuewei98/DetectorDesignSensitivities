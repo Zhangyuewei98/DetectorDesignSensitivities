{
 "cells": [
  {
   "cell_type": "code",
   "execution_count": 14,
   "metadata": {},
   "outputs": [
    {
     "name": "stdout",
     "output_type": "stream",
     "text": [
      "The autoreload extension is already loaded. To reload it, use:\n",
      "  %reload_ext autoreload\n"
     ]
    }
   ],
   "source": [
    "%load_ext autoreload\n",
    "%autoreload 2"
   ]
  },
  {
   "cell_type": "code",
   "execution_count": 15,
   "metadata": {},
   "outputs": [],
   "source": [
    "import numpy as np\n",
    "import matplotlib.pyplot as plt\n",
    "import matplotlib.colors as colors\n",
    "from matplotlib import cm\n",
    "import matplotlib.ticker as ticker\n",
    "import os,sys\n",
    "import struct\n",
    "import scipy.integrate as integrate\n",
    "\n",
    "import astropy.constants as const\n",
    "import astropy.units as u\n",
    "from astropy.cosmology import z_at_value\n",
    "from astropy.cosmology import WMAP9 as cosmo\n",
    "from fractions import Fraction\n",
    "\n",
    "import StrainandNoise as SnN"
   ]
  },
  {
   "cell_type": "code",
   "execution_count": 16,
   "metadata": {},
   "outputs": [],
   "source": [
    "current_path = os.path.dirname(os.path.abspath('__file__'))\n",
    "splt_path = current_path.split(\"/\")\n",
    "top_path_idx = splt_path.index('LisaParameterization')\n",
    "top_directory = \"/\".join(splt_path[0:top_path_idx+1])\n",
    "top_directory += '/lisaparameterization'"
   ]
  },
  {
   "cell_type": "code",
   "execution_count": 17,
   "metadata": {},
   "outputs": [],
   "source": [
    "LISA_Other_filedirectory = top_directory + '/CommonLoadFiles/InstrumentStrainFiles/LISA_Other/'\n",
    "LISA_Neil_filedirectory = top_directory + '/CommonLoadFiles/InstrumentStrainFiles/LISA_Neil/'\n",
    "ET_filedirectory = top_directory + '/CommonLoadFiles/InstrumentStrainFiles/EinsteinTelescope/'\n",
    "aLIGO_filedirectory = top_directory + '/CommonLoadFiles/InstrumentStrainFiles/aLIGO/'\n",
    "NANOGrav_filedirectory = top_directory + '/CommonLoadFiles/InstrumentStrainFiles/NANOGrav/'\n",
    "LISA_Transfer_Function_filedirectory = top_directory + '/CommonLoadFiles/LISATransferFunction/'\n",
    "Numerical_Strain_filedirectory = top_directory + '/CommonLoadFiles/NumericalStrain/'\n",
    "fit_coeffs_filedirectory = top_directory + '/CommonLoadFiles/PhenomDFiles/'\n",
    "phenomD_filedirectory = top_directory + '/IMRPhenomD/'\n",
    "fig_filedirectory = top_directory + '/StrainandNoiseCurves/PlottedStrainCurves/'    "
   ]
  },
  {
   "cell_type": "code",
   "execution_count": 18,
   "metadata": {},
   "outputs": [],
   "source": [
    "#load python phenomD function\n",
    "sys.path.insert(0,phenomD_filedirectory)\n",
    "import pyFunPhenomDver1 as PhenomD"
   ]
  },
  {
   "cell_type": "code",
   "execution_count": 19,
   "metadata": {},
   "outputs": [],
   "source": [
    "#Selects contour levels to separate sections into\n",
    "#contLevels = np.array([10, 1e2, 1e3, 1e4, 1e5, 1e6, 1e7, 1e8])\n",
    "contLevels = np.array([10, 1e2, 1e3, 1e4, 1e5])\n",
    "logLevels = np.log10(contLevels)\n",
    "\n",
    "contourcolorPresent = 'plasma'\n",
    "transparencyPresent = 1.0\n",
    "contourcolorFuture = 'plasma'\n",
    "transparencyFuture = 1.0\n",
    "axissize = 14\n",
    "labelsize = 16\n",
    "legendsize = 12\n",
    "figsize = (10,8)\n",
    "colornorm = colors.Normalize(vmin=0.0, vmax=5.0)\n",
    "linesize = 2"
   ]
  },
  {
   "cell_type": "code",
   "execution_count": 20,
   "metadata": {},
   "outputs": [],
   "source": [
    "L = 2.5*u.Gm  #armlength in Gm\n",
    "L = L.to('m')\n",
    "\n",
    "M = 1e6\n",
    "q = 1.0\n",
    "chi1 = 0.0\n",
    "chi2 = 0.0\n",
    "z = 5.0\n",
    "\n",
    "S_acc_0 = 3e-15 #Unmodeled flat part of acceleration noise\n",
    "S_imo_0 = 10e-12\n",
    "\n",
    "nfreqs = int(1e3)\n",
    "\n",
    "model = 2\n",
    "recalculate = 'no'\n",
    "\n",
    "isitsavetime = False\n",
    "\n",
    "#Save Figure Name\n",
    "figname = 'SensitivitySpectrum.eps'\n",
    "figdpi = 1200\n",
    "figformat = 'eps'"
   ]
  },
  {
   "cell_type": "code",
   "execution_count": 21,
   "metadata": {},
   "outputs": [],
   "source": [
    "def calcPTAstrain(sigma_rms,cadence,T_obs,ndetectors,nfreqs):\n",
    "    #####################################################\n",
    "    #PSD of a PTA taken from eqn 40 of Thrane & Romano 2013\n",
    "    #Equation 5 from https://arxiv.org/pdf/1808.10071.pdf\n",
    "    \n",
    "    #frequency range of full PTA\n",
    "    f_year = 1/u.yr\n",
    "    P_w_tot = 0\n",
    "    T_obs_tot = 0\n",
    "    if ndetectors != 1:\n",
    "        #Sum of pulsar noises in different time periods divided by total time\n",
    "        for i in range(ndetectors):\n",
    "            P_w_n = sigma_rms[i]**2*(T_obs[i]/cadence[i]) #Avg white noise from pulsar arrays [s**2/Hz]\n",
    "            P_w_tot += P_w_n\n",
    "            T_obs_tot += T_obs[i]\n",
    "        P_w = 2*P_w_tot/T_obs_tot\n",
    "        f = np.logspace(np.log10(1/T_obs_tot.value),np.log10(min(cadence).value/2),nfreqs)*u.Hz\n",
    "    else:\n",
    "        P_w = 2*sigma_rms**2/cadence #Avg white noise from pulsar array [s**2/Hz]\n",
    "        f = np.logspace(np.log10(1/T_obs.value),np.log10(cadence.value/2),nfreqs)*u.Hz\n",
    "        \n",
    "    #P_red = A_red.*(f./f_year).**(-gamma) # red noise for some pulsar\n",
    "    P_red = 0.0*u.s*u.s/u.Hz #Assume no pulsar red noise for simplicity\n",
    "    \n",
    "    #eqn 42 of T&R\n",
    "    #h_inst = np.sqrt((12*np.pi**2*(P_w+P_red))*f**3)\n",
    "    ##################################################\n",
    "    #Stochastic background amplitude from https://arxiv.org/pdf/1603.09348.pdf\n",
    "    P_sb = (A_stoch_back**2/12/np.pi**2)*f**(-3)*(f/f_year.to('Hz'))**(-4/3)\n",
    "    #h_sb = A_stoch_back*(f/f_year)**(-2/3)\n",
    "    ####################################################\n",
    "    #PSD of the full PTA from Lam 2018\n",
    "    P_n = P_w + P_red + P_sb\n",
    "    \n",
    "    #strain of the full PTA\n",
    "    h_f = np.sqrt((12*np.pi**2)*f**3*P_n)\n",
    "    \n",
    "    return f,h_f"
   ]
  },
  {
   "cell_type": "markdown",
   "metadata": {},
   "source": [
    "#####################################################################\n",
    "# Functions for Spectral Density Calculations"
   ]
  },
  {
   "cell_type": "code",
   "execution_count": 22,
   "metadata": {},
   "outputs": [],
   "source": [
    "def calcASD(Sacc,Sims,L,fT, T):\n",
    "    ASD = np.sqrt(20/3/T**2*(4*Sacc+Sims)/L**2)\n",
    "    return np.sqrt(ASD**2+Sgal4yr(fT)) #Sqrt of PSD"
   ]
  },
  {
   "cell_type": "code",
   "execution_count": 23,
   "metadata": {},
   "outputs": [],
   "source": [
    "def NeilSensitivity(Sacc,Soms,L,f,T):   \n",
    "    #Uses Calculation described by Neil Cornish (unpublished)\n",
    "    f_L = const.c/2/np.pi/L #Transfer frequency\n",
    "    Pacc = (Sacc)**2*(1+(0.4e-3*u.Hz/f)**2)*(1+(f/(8e-3*u.Hz))**4) #acceleration noise [Hz]**-1\n",
    "    Poms = (Soms)**2*(1+(2e-3*u.Hz/f)**4) #Optical metrology noise [Hz]**-1\n",
    "    \n",
    "    P_n_f = Poms/L**2 + 2*(1.0+(np.cos(f.value/f_L.value))**2)*Pacc/(2*np.pi*f)**4/L**2 #Total noise\n",
    "    R_f = 3/10/(1+0.6*(f/f_L)**2) #Response function approximation\n",
    "    #ASD = sqrt(P_n_f./R_f+S_c) #Amplitude Spectral Density\n",
    "    return np.sqrt(10/3/T**2*P_n_f+Sgal4yr(f))"
   ]
  },
  {
   "cell_type": "code",
   "execution_count": 24,
   "metadata": {},
   "outputs": [],
   "source": [
    "def Sgal4yr(f):\n",
    "    #4 year Galactic confusions noise parameters\n",
    "    A = 9e-45\n",
    "    a = 0.138\n",
    "    b = -221\n",
    "    k = 521\n",
    "    g = 1680\n",
    "    f_k = 0.00113\n",
    "    return A*np.exp(-(f.value**a)+(b*f.value*np.sin(k*f.value)))*(f.value**(-7/3))*(1 + np.tanh(g*(f_k-f.value))) #White Dwarf Background Noise\n"
   ]
  },
  {
   "cell_type": "code",
   "execution_count": 25,
   "metadata": {},
   "outputs": [],
   "source": [
    "def Get_CharStrain(Vars,f,h):\n",
    "    [M,q,chi1,chi2,z] = np.split(Vars,len(Vars))\n",
    "    DL = cosmo.luminosity_distance(z)\n",
    "    \n",
    "    m_conv = const.G*const.M_sun/const.c**3 #Converts M = [M] to M = [sec]\n",
    "\n",
    "    eta = q/(1+q)**2\n",
    "    M_redshifted_time = M*(1+z)*m_conv\n",
    "    M_chirp = eta**(3/5)*M_redshifted_time\n",
    "    \n",
    "    freq_conv = 1/M_redshifted_time\n",
    "    strain_conv = np.sqrt(5/16/np.pi)*(const.c/DL.to('m'))*M_redshifted_time**2\n",
    "    \n",
    "    f = f*freq_conv\n",
    "    h = h*strain_conv\n",
    "    h_char = np.sqrt(4*f**2*h**2)\n",
    "    return [f,h_char]"
   ]
  },
  {
   "cell_type": "code",
   "execution_count": 26,
   "metadata": {},
   "outputs": [],
   "source": [
    "def Get_Waveform(Vars,nfreqs):\n",
    "    fit_coeffs_filename = 'fitcoeffsWEB.dat'\n",
    "    fit_coeffs_file = fit_coeffs_filedirectory + fit_coeffs_filename\n",
    "    fitcoeffs = np.loadtxt(fit_coeffs_file) #load QNM fitting files for speed later\n",
    "\n",
    "    [phenomD_f,phenomD_h] = PhenomD.FunPhenomDver8(Vars,fitcoeffs,nfreqs)\n",
    "    return Get_CharStrain(Vars,phenomD_f,phenomD_h)"
   ]
  },
  {
   "cell_type": "markdown",
   "metadata": {},
   "source": [
    "####################################################################\n",
    "# Load data files for transfer function and other sensitivity curves"
   ]
  },
  {
   "cell_type": "markdown",
   "metadata": {},
   "source": [
    "### LISA Transfer Function"
   ]
  },
  {
   "cell_type": "code",
   "execution_count": 27,
   "metadata": {},
   "outputs": [],
   "source": [
    "LISA_Transfer_Function_filename = 'transfer.dat' #np.loadtxting transfer function for Lisa noise curve\n",
    "LISA_Transfer_Function_filelocation = LISA_Transfer_Function_filedirectory + LISA_Transfer_Function_filename\n",
    "LISA_Transfer_Function_data = np.loadtxt(LISA_Transfer_Function_filelocation)\n",
    "fc = const.c/(2*L)  #light round trip freq\n",
    "LISA_Transfer_Function_f = fc*LISA_Transfer_Function_data[:,0]\n",
    "\n",
    "idx_f_5 = np.abs(LISA_Transfer_Function_f-1e-5*u.Hz).argmin()\n",
    "idx_f_1 = np.abs(LISA_Transfer_Function_f-1.0*u.Hz).argmin()\n",
    "\n",
    "LISA_Transfer_Function = LISA_Transfer_Function_data[idx_f_5:idx_f_1,1]\n",
    "LISA_Transfer_Function_f = LISA_Transfer_Function_f[idx_f_5:idx_f_1]"
   ]
  },
  {
   "cell_type": "markdown",
   "metadata": {},
   "source": [
    "### aLIGO"
   ]
  },
  {
   "cell_type": "code",
   "execution_count": 28,
   "metadata": {},
   "outputs": [],
   "source": [
    "#aLIGO\n",
    "aLIGO_filename = 'aLIGODesign.txt'\n",
    "aLIGO_filelocation = aLIGO_filedirectory + aLIGO_filename\n",
    "aLIGO_data = np.loadtxt(aLIGO_filelocation)\n",
    "aLIGO_f = aLIGO_data[:,0]*u.Hz\n",
    "aLIGO_S_n_f = aLIGO_data[:,1]"
   ]
  },
  {
   "cell_type": "markdown",
   "metadata": {},
   "source": [
    "### Einstein Telescope"
   ]
  },
  {
   "cell_type": "code",
   "execution_count": 29,
   "metadata": {},
   "outputs": [],
   "source": [
    "#Einstein Telescope\n",
    "ET_filename = 'ET_B_data.txt'\n",
    "ET_filelocation = ET_filedirectory + ET_filename\n",
    "ET_data = np.loadtxt(ET_filelocation)\n",
    "ET_f = ET_data[:,0]*u.Hz\n",
    "ET_S_n_f = ET_data[:,1]"
   ]
  },
  {
   "cell_type": "markdown",
   "metadata": {},
   "source": [
    "### LISA Martin data"
   ]
  },
  {
   "cell_type": "code",
   "execution_count": 30,
   "metadata": {},
   "outputs": [],
   "source": [
    "#Martin data\n",
    "LISA_Martin_filename = 'LISA_Allocation_S_h_tot.txt'\n",
    "LISA_Martin_filelocation = LISA_Other_filedirectory + LISA_Martin_filename\n",
    "LISA_Martin_data = np.loadtxt(LISA_Martin_filelocation)\n",
    "LISA_Martin_f = LISA_Martin_data[:,0]*u.Hz\n",
    "LISA_Martin_S_n_f = LISA_Martin_data[:,1]/u.Hz"
   ]
  },
  {
   "cell_type": "markdown",
   "metadata": {},
   "source": [
    "### LISA Neil Cornish data"
   ]
  },
  {
   "cell_type": "code",
   "execution_count": 31,
   "metadata": {},
   "outputs": [],
   "source": [
    "#Neil Cornish data\n",
    "LISA_Neil_filename = 'LISA_sensitivity.txt'\n",
    "LISA_Neil_filelocation = LISA_Neil_filedirectory + LISA_Neil_filename\n",
    "LISA_Neil_data = np.loadtxt(LISA_Neil_filelocation)\n",
    "LISA_Neil_f = LISA_Neil_data[:,0]*u.Hz\n",
    "LISA_Neil_S_n_f = LISA_Neil_data[:,1]/u.Hz"
   ]
  },
  {
   "cell_type": "markdown",
   "metadata": {},
   "source": [
    "### LISA Larson Sensitivity Curve"
   ]
  },
  {
   "cell_type": "code",
   "execution_count": 32,
   "metadata": {},
   "outputs": [],
   "source": [
    "#Larson Sensitivity Curve\n",
    "LISA_Larson_filename = 'scg_6981.dat'\n",
    "LISA_Larson_filelocation = LISA_Other_filedirectory + LISA_Larson_filename\n",
    "LISA_Larson_data = np.loadtxt(LISA_Larson_filelocation)\n",
    "LISA_Larson_f = LISA_Larson_data[:,0]*u.Hz\n",
    "LISA_Larson_S_n_f = LISA_Larson_data[:,1]/u.Hz #May be wrong units"
   ]
  },
  {
   "cell_type": "markdown",
   "metadata": {},
   "source": [
    "### NANOGrav continuous wave sensitivity"
   ]
  },
  {
   "cell_type": "code",
   "execution_count": 33,
   "metadata": {},
   "outputs": [],
   "source": [
    "#NANOGrav continuous wave sensitivity\n",
    "NANOGrav_filename = 'cw_simulation_Ared_0_dp_0.5_fap_0.0001_T_15.txt'\n",
    "NANOGrav_filelocation = NANOGrav_filedirectory + NANOGrav_filename\n",
    "NANOGrav_data = np.loadtxt(NANOGrav_filelocation)\n",
    "NANOGrav_f = NANOGrav_data[:,0]*u.Hz\n",
    "NANOGrav_h_f = NANOGrav_data[:,1]"
   ]
  },
  {
   "cell_type": "markdown",
   "metadata": {},
   "source": [
    "### SKA  parameters and methods from arXiv:0804.4476 section 7.1"
   ]
  },
  {
   "cell_type": "code",
   "execution_count": 34,
   "metadata": {},
   "outputs": [],
   "source": [
    "###############################################\n",
    "#SKA calculation using parameters and methods from arXiv:0804.4476 section 7.1\n",
    "deltrms_SKA = 10*u.ns #rms timing residuals in nanoseconds\n",
    "deltrms_SKA = deltrms_SKA.to('s')\n",
    "\n",
    "T_SKA = 20*u.yr #Observing time in years\n",
    "T_SKA = T_SKA.to('s') #Observing time in seconds\n",
    "\n",
    "Np_SKA = 20 #Number of pulsars\n",
    "cadence_SKA = 1/u.wk #Avg observation cadence of 1 every week in seconds\n",
    "cadence_SKA = cadence_SKA.to('1/s')\n",
    "A_stoch_back = 4e-16 #Stochastic background amplitude from https://arxiv.org/pdf/1603.09348.pdf"
   ]
  },
  {
   "cell_type": "markdown",
   "metadata": {},
   "source": [
    "### NANOGrav 11.5yr parameters https://arxiv.org/abs/1801.01837"
   ]
  },
  {
   "cell_type": "code",
   "execution_count": 47,
   "metadata": {},
   "outputs": [],
   "source": [
    "###############################################\n",
    "#NANOGrav calculation using 11.5yr parameters https://arxiv.org/abs/1801.01837\n",
    "deltrms_nano = 100*u.ns #rms timing residuals in seconds\n",
    "deltrms_nano = deltrms_nano.to('s')\n",
    "\n",
    "T_nano = 11.4*u.yr #Observing time in years\n",
    "T_nano = T_nano.to('s') #Observing time in seconds\n",
    "Np_nano = 45 #Number of pulsars\n",
    "cadence_nano = 1/(2*u.wk) #Avg observation cadence of 1 every 2 weeks in seconds\n",
    "cadence_nano = cadence_nano.to('1/s')"
   ]
  },
  {
   "cell_type": "markdown",
   "metadata": {},
   "source": [
    "# Calculate PTA Strains using Lam, M.T. 2018 https://arxiv.org/pdf/1808.10071.pdf"
   ]
  },
  {
   "cell_type": "code",
   "execution_count": 45,
   "metadata": {},
   "outputs": [],
   "source": [
    "ndetectors = 2\n",
    "#Sample from 1/Tobs to nyquist freq\n",
    "T_obs_full = [T_nano, T_SKA]\n",
    "cadence_full = [cadence_nano, cadence_SKA]\n",
    "sigma_rms_full = [deltrms_nano, deltrms_SKA]\n",
    "\n",
    "SKA_f,SKA_h_f = calcPTAstrain(sigma_rms_full,cadence_full,T_obs_full,ndetectors,nfreqs)"
   ]
  },
  {
   "cell_type": "code",
   "execution_count": 48,
   "metadata": {},
   "outputs": [],
   "source": [
    "SKA_f_tmp,SKA_h_f_tmp = SnN.calcPTAstrain(sigma_rms_full,cadence_full,T_obs_full,ndetectors,nfreqs)"
   ]
  },
  {
   "cell_type": "code",
   "execution_count": 37,
   "metadata": {},
   "outputs": [],
   "source": [
    "#Sample from 1/Tobs to nyquist freq\n",
    "ndetectors = 1\n",
    "\n",
    "NANOGrav_approx_f,NANOGrav_approx_h_f = calcPTAstrain(deltrms_nano,cadence_nano,T_nano,ndetectors,nfreqs)"
   ]
  },
  {
   "cell_type": "code",
   "execution_count": 51,
   "metadata": {},
   "outputs": [
    {
     "data": {
      "image/png": "[encoded data removed]",
      "text/plain": [
       "<Figure size 432x288 with 1 Axes>"
      ]
     },
     "metadata": {
      "needs_background": "light"
     },
     "output_type": "display_data"
    }
   ],
   "source": [
    "plt.figure()\n",
    "plt.loglog(SKA_f,SKA_h_f, linewidth = linesize,color = cm.hsv(colornorm(0.0)),label = 'IPTA ~2030s')\n",
    "plt.loglog(SKA_f_tmp,SKA_h_f_tmp, linewidth = linesize,color = cm.hsv(colornorm(1.0)),label = 'SKA ~2030s')\n",
    "plt.show()"
   ]
  },
  {
   "cell_type": "markdown",
   "metadata": {},
   "source": [
    "####################################################################\n",
    "# Calculate LISA amplitude spectral densities for various models"
   ]
  },
  {
   "cell_type": "markdown",
   "metadata": {},
   "source": [
    "### LISA Calculation without pathfinder correction (2016 model)"
   ]
  },
  {
   "cell_type": "code",
   "execution_count": null,
   "metadata": {},
   "outputs": [],
   "source": [
    "#LISA Calculation without pathfinder correction (2016 model)\n",
    "Ssci = 8.9e-12**2*u.m*u.m\n",
    "Sloc = 1.7e-12**2*u.m*u.m\n",
    "Sother = 2e-12**2*u.m*u.m\n",
    "k2016_S_ims = Ssci+2*Sloc+Sother\n",
    "k2016_S_acc = ((1.8e-14*u.m/u.s/u.s)**2*((3e-5*u.Hz/LISA_Transfer_Function_f)**10 + (1e-4*u.Hz/LISA_Transfer_Function_f)**2) + (3e-15*u.m/u.s/u.s)**2)/(2*np.pi*LISA_Transfer_Function_f)**4   #red below 1e-4, white above\n",
    "k2016_S_n_f = calcASD(k2016_S_acc,k2016_S_ims,L,LISA_Transfer_Function_f,LISA_Transfer_Function)"
   ]
  },
  {
   "cell_type": "markdown",
   "metadata": {},
   "source": [
    "### LISA Calculation WITH (Sean's) pathfinder correction"
   ]
  },
  {
   "cell_type": "code",
   "execution_count": null,
   "metadata": {},
   "outputs": [],
   "source": [
    "#LISA Calculation WITH (Sean's) pathfinder correction\n",
    "pathfinder_S_acc = ((60e-15*u.m/u.s/u.s)**2*(20e-6*u.Hz/LISA_Transfer_Function_f)**10 + (1.74e-15*u.m/u.s/u.s)**2)/(2*np.pi*LISA_Transfer_Function_f)**4 #Update Pathfinder Acceleration Noise\n",
    "pathfinder_S_n_f = calcASD(pathfinder_S_acc,k2016_S_ims,L,LISA_Transfer_Function_f,LISA_Transfer_Function) #Updated LISA noise curve with Pathfinder Acc noise"
   ]
  },
  {
   "cell_type": "markdown",
   "metadata": {},
   "source": [
    "### LISA Calculation from https://arxiv.org/pdf/1702.00786.pdf (Amaro-Seaone 2017)"
   ]
  },
  {
   "cell_type": "code",
   "execution_count": 75,
   "metadata": {},
   "outputs": [],
   "source": [
    "#LISA Calculation from https://arxiv.org/pdf/1702.00786.pdf (Amaro-Seaone 2017)\n",
    "ESA_S_acc = (3e-15*u.m/u.s/u.s)**2*(1+(0.4e-3*u.Hz/LISA_Transfer_Function_f)**2)*(1+(LISA_Transfer_Function_f/(8e-3*u.Hz))**4)/(2*np.pi*LISA_Transfer_Function_f)**4 #Acceleration Noise \n",
    "ESA_S_ifo = (10e-12*u.m)**2*(1+(2e-3*u.Hz/LISA_Transfer_Function_f)**4) #Displacement noise of the interferometric TM--to-TM \n",
    "ESA_S_n_f = calcASD(ESA_S_acc,ESA_S_ifo,L,LISA_Transfer_Function_f,LISA_Transfer_Function)"
   ]
  },
  {
   "cell_type": "code",
   "execution_count": 80,
   "metadata": {},
   "outputs": [],
   "source": [
    "S_acc_low_knee = .4*u.mHz\n",
    "S_acc_high_knee = 8.*u.mHz\n",
    "S_oms_knee = 2.*u.mHz\n",
    "ESA_S_n_f_tmp = SnN.LisaSensitivity(LISA_Transfer_Function_f,LISA_Transfer_Function)"
   ]
  },
  {
   "cell_type": "code",
   "execution_count": 81,
   "metadata": {},
   "outputs": [
    {
     "data": {
      "image/png": "[encoded data removed]",
      "text/plain": [
       "<Figure size 432x288 with 1 Axes>"
      ]
     },
     "metadata": {
      "needs_background": "light"
     },
     "output_type": "display_data"
    }
   ],
   "source": [
    "plt.figure()\n",
    "plt.loglog(LISA_Transfer_Function_f,np.sqrt(LISA_Transfer_Function_f)*ESA_S_n_f, linewidth = linesize,color = cm.hsv(colornorm(1.75)),label = 'LISA')\n",
    "plt.loglog(LISA_Transfer_Function_f,np.sqrt(LISA_Transfer_Function_f)*ESA_S_n_f_tmp, linewidth = linesize,color = cm.hsv(colornorm(0.0)),label = 'LISA2')\n",
    "plt.legend()\n",
    "plt.show()"
   ]
  },
  {
   "cell_type": "markdown",
   "metadata": {},
   "source": [
    "### Neil Calculation from https://arxiv.org/pdf/1803.01944.pdf"
   ]
  },
  {
   "cell_type": "code",
   "execution_count": 82,
   "metadata": {},
   "outputs": [],
   "source": [
    "#Neil Calculation from https://arxiv.org/pdf/1803.01944.pdf\n",
    "Neil_S_acc = 3e-15*u.m/u.s/u.s #M/sqrt(Hz)\n",
    "Neil_S_oms = 1.5e-11*u.m\n",
    "Neil_L = 2.5e9*u.m\n",
    "Neil_S_n_f = NeilSensitivity(Neil_S_acc,Neil_S_oms,Neil_L,LISA_Transfer_Function_f,LISA_Transfer_Function)"
   ]
  },
  {
   "cell_type": "code",
   "execution_count": 87,
   "metadata": {},
   "outputs": [],
   "source": [
    "Neil_S_n_f_tmp1 = SnN.NeilSensitivity(LISA_Transfer_Function_f,LISA_Transfer_Function)\n",
    "Neil_S_n_f_tmp2 = SnN.LisaSensitivity(LISA_Transfer_Function_f,LISA_Transfer_Function,S_ims=Neil_S_oms,)"
   ]
  },
  {
   "cell_type": "code",
   "execution_count": 88,
   "metadata": {},
   "outputs": [
    {
     "data": {
      "image/png": "[encoded data removed]",
      "text/plain": [
       "<Figure size 432x288 with 1 Axes>"
      ]
     },
     "metadata": {
      "needs_background": "light"
     },
     "output_type": "display_data"
    }
   ],
   "source": [
    "plt.figure()\n",
    "plt.loglog(LISA_Transfer_Function_f,np.sqrt(LISA_Transfer_Function_f)*Neil_S_n_f, linewidth = linesize,color = cm.hsv(colornorm(1.75)),label = 'LISA')\n",
    "plt.loglog(LISA_Transfer_Function_f,np.sqrt(LISA_Transfer_Function_f)*Neil_S_n_f_tmp1, linewidth = linesize,color = cm.hsv(colornorm(0.0)),label = 'LISA2')\n",
    "plt.loglog(LISA_Transfer_Function_f,np.sqrt(LISA_Transfer_Function_f)*Neil_S_n_f_tmp2, linewidth = linesize,color = cm.hsv(colornorm(3.0)),label = 'LISA3')\n",
    "plt.legend()\n",
    "plt.show()"
   ]
  },
  {
   "cell_type": "markdown",
   "metadata": {},
   "source": [
    "#######################################################################\n",
    "# BBH strain calculation"
   ]
  },
  {
   "cell_type": "code",
   "execution_count": null,
   "metadata": {},
   "outputs": [],
   "source": [
    "#Vars = [M,q,chi1,chi2,z]\n",
    "M = [1e6,65.0,1e10]\n",
    "q = [1.0,1.0,1.0]\n",
    "x1 = [0.0,0.0,0.0]\n",
    "x2 = [0.0,0.0,0.0]\n",
    "z = [3.0,0.093,20.0]\n",
    "\n",
    "Vars1 = np.array([M[0],q[0],x1[0],x2[0],z[0]])\n",
    "Vars2 = np.array([M[1],q[1],x1[1],x2[1],z[1]])\n",
    "Vars3 = np.array([M[2],q[2],x1[2],x2[2],z[2]])"
   ]
  },
  {
   "cell_type": "code",
   "execution_count": null,
   "metadata": {},
   "outputs": [],
   "source": [
    "#From File/Numerical simulation\n",
    "numericalStrain_filename = 'hmbhfft.dat'\n",
    "numericalStrain_filelocation = Numerical_Strain_filedirectory + numericalStrain_filename\n",
    "numericalStrain_data = np.loadtxt(numericalStrain_filelocation)\n",
    "numericalStrain_f = numericalStrain_data[:,0]*u.Hz\n",
    "numericalStrain_h = numericalStrain_data[:,1]"
   ]
  },
  {
   "cell_type": "code",
   "execution_count": null,
   "metadata": {},
   "outputs": [],
   "source": [
    "[numericalStrain_f, numericalStrain_h_char] = Get_CharStrain(Vars1,numericalStrain_f,np.sqrt(2)*numericalStrain_h) #Unsure why sqrt(2)"
   ]
  },
  {
   "cell_type": "code",
   "execution_count": null,
   "metadata": {},
   "outputs": [],
   "source": [
    "#From PhenomD\n",
    "[phenomD_f_1,phenomD_h_char_1] = Get_Waveform(Vars1,nfreqs)\n",
    "[phenomD_f_2,phenomD_h_char_2] = Get_Waveform(Vars2,nfreqs)\n",
    "[phenomD_f_3,phenomD_h_char_3] = Get_Waveform(Vars3,nfreqs)"
   ]
  },
  {
   "cell_type": "code",
   "execution_count": null,
   "metadata": {},
   "outputs": [],
   "source": [
    "plt.figure(figsize = figsize)\n",
    "#plt.loglog(NANOGrav_f,NANOGrav_h_f)\n",
    "plt.loglog(SKA_f,SKA_h_f, linewidth = linesize,color = cm.hsv(colornorm(0.0)),label = 'IPTA ~2030s')\n",
    "plt.loglog(NANOGrav_approx_f,NANOGrav_approx_h_f, linewidth = linesize,color = cm.hsv(colornorm(0.5)),label = 'NANOGrav (11yr)')\n",
    "plt.loglog(LISA_Transfer_Function_f,np.sqrt(LISA_Transfer_Function_f)*ESA_S_n_f, linewidth = linesize,color = cm.hsv(colornorm(1.75)),label = 'LISA')\n",
    "plt.loglog(aLIGO_f,np.sqrt(aLIGO_f)*aLIGO_S_n_f,color = cm.hsv(colornorm(2.8)),label = 'aLIGO')\n",
    "plt.loglog(ET_f,np.sqrt(ET_f)*ET_S_n_f, linewidth = linesize,color = cm.hsv(colornorm(2.5)),label = 'Einstein Telescope')\n",
    "plt.loglog(phenomD_f_1,phenomD_h_char_1, linewidth = linesize,color = cm.hsv(colornorm(0.8)),label = r'$M = %.1e$ $M_{\\odot}$, $q = %.1f$, $z = %.1f$, $\\chi_{i} = %.1f$' %(M[0],q[0],z[0],x1[0]))\n",
    "plt.loglog(phenomD_f_2,phenomD_h_char_2, linewidth = linesize,color = cm.hsv(colornorm(3.0)),label = r'$M = %.1e$ $M_{\\odot}$, $q = %.1f$, $z = %.1f$, $\\chi_{i} = %.1f$' %(M[1],q[1],z[1],x1[1]))\n",
    "plt.loglog(phenomD_f_3,phenomD_h_char_3, linewidth = linesize,color = cm.hsv(colornorm(4.5)),label = r'$M = %.1e$ $M_{\\odot}$, $q = %.1f$, $z = %.1f$, $\\chi_{i} = %.1f$' %(M[2],q[2],z[2],x1[2]))\n",
    "#plt.loglog(numericalStrain_f,numericalStrain_h_char)\n",
    "\n",
    "plt.xlim([8e-10, 1e4])\n",
    "plt.ylim([1e-24, 1e-11])\n",
    "plt.tick_params(axis = 'both',which = 'major', labelsize = axissize)\n",
    "\n",
    "plt.xlabel('Frequency [Hz]',fontsize = labelsize)\n",
    "plt.ylabel('Characteristic Strain',fontsize = labelsize)\n",
    "plt.legend(loc='upper right', fontsize = legendsize)\n",
    "plt.show()"
   ]
  },
  {
   "cell_type": "code",
   "execution_count": null,
   "metadata": {},
   "outputs": [],
   "source": [
    "#########################\n",
    "#Save Figure to File\n",
    "figloc = fig_filedirectory+figname\n",
    "if isitsavetime:\n",
    "    plt.savefig(figloc, format=figformat, dpi=figdpi)"
   ]
  }
 ],
 "metadata": {
  "kernelspec": {
   "display_name": "Python 3",
   "language": "python",
   "name": "python3"
  },
  "language_info": {
   "codemirror_mode": {
    "name": "ipython",
    "version": 3
   },
   "file_extension": ".py",
   "mimetype": "text/x-python",
   "name": "python",
   "nbconvert_exporter": "python",
   "pygments_lexer": "ipython3",
   "version": "3.7.0"
  }
 },
 "nbformat": 4,
 "nbformat_minor": 2
}
