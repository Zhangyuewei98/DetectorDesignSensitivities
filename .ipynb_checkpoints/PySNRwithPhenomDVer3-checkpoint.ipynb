{
 "cells": [
  {
   "cell_type": "code",
   "execution_count": 217,
   "metadata": {},
   "outputs": [
    {
     "name": "stdout",
     "output_type": "stream",
     "text": [
      "The autoreload extension is already loaded. To reload it, use:\n",
      "  %reload_ext autoreload\n"
     ]
    }
   ],
   "source": [
    "%load_ext autoreload\n",
    "%autoreload 2"
   ]
  },
  {
   "cell_type": "code",
   "execution_count": 218,
   "metadata": {},
   "outputs": [],
   "source": [
    "import numpy as np\n",
    "import matplotlib.pyplot as plt\n",
    "import matplotlib.colors as colors\n",
    "from matplotlib.image import NonUniformImage\n",
    "import matplotlib.ticker as ticker\n",
    "from matplotlib import cm\n",
    "import os, time, sys\n",
    "import struct\n",
    "import scipy.interpolate as interp\n",
    "import scipy.integrate as integrate\n",
    "import astropy.constants as const\n",
    "import astropy.units as u\n",
    "from astropy.cosmology import z_at_value\n",
    "from astropy.cosmology import WMAP9 as cosmo\n",
    "from fractions import Fraction\n",
    "\n",
    "import StrainandNoise as SnN"
   ]
  },
  {
   "cell_type": "markdown",
   "metadata": {},
   "source": [
    "# Directory Names"
   ]
  },
  {
   "cell_type": "code",
   "execution_count": 219,
   "metadata": {},
   "outputs": [],
   "source": [
    "top_directory = os.getcwd()\n",
    "LISA_Other_filedirectory = top_directory + '/LoadFiles/InstrumentStrainFiles/LISA_Other/'\n",
    "LISA_Neil_filedirectory = top_directory + '/LoadFiles/InstrumentStrainFiles/LISA_Neil/'\n",
    "LISA_ESA_filedirectory = top_directory + '/LoadFiles/InstrumentStrainFiles/LISA_ESA/'\n",
    "ET_filedirectory = top_directory + '/LoadFiles/InstrumentStrainFiles/EinsteinTelescope/'\n",
    "aLIGO_filedirectory = top_directory + '/LoadFiles/InstrumentStrainFiles/aLIGO/'\n",
    "NANOGrav_filedirectory = top_directory + '/LoadFiles/InstrumentStrainFiles/NANOGrav/' "
   ]
  },
  {
   "cell_type": "markdown",
   "metadata": {},
   "source": [
    "# Constants and Initial Parameters"
   ]
  },
  {
   "cell_type": "code",
   "execution_count": 220,
   "metadata": {},
   "outputs": [],
   "source": [
    "#Selects contour levels to separate sections into\n",
    "contLevels = np.array([10, 1e2, 1e3, 1e4, 1e5, 1e6, 1e7])\n",
    "axissize = 14\n",
    "labelsize = 16\n",
    "legendsize = 12\n",
    "textsize = 11\n",
    "textcolor = 'k'\n",
    "linesize = 4\n",
    "figsize = (10,8)\n",
    "\n",
    "contourcolorPresent = 'plasma'\n",
    "transparencyPresent = 1.0\n",
    "contourcolorFuture = 'plasma'\n",
    "transparencyFuture = 1.0\n",
    "colornorm = colors.Normalize(vmin=0.0, vmax=5.0)\n",
    "\n",
    "\n",
    "'''\n",
    "    Indices: \n",
    "        0 - Mass (Solar Units)\n",
    "        1 - Mass Ratio\n",
    "        2 - Spin1\n",
    "        3 - Spin2\n",
    "        4 - Redshift\n",
    "'''\n",
    "#TODO: change indices to variable names ie. M,q,x1,x2,z\n",
    "index1 = 4 #Variable on y-axis\n",
    "sampleRate1 = 100 #Number of SNRMatrix rows\n",
    "\n",
    "index2 = 0 #Variable on x-axis\n",
    "sampleRate2 = 100 #Number of SNRMatrix columns\n",
    "\n",
    "#Selects which noise curve: 0 is Neil's,\n",
    "# \t\t\t\t\t\t\t1 is the 2016 proposal,\n",
    "#\t\t\t\t\t\t\t2 is Einstein Telescope, \n",
    "#\t\t\t\t\t\t\t3 is aLIGO, \n",
    "#\t\t\t\t\t\t\t4 is NANOGrav 11yr,\n",
    "#\t\t\t\t\t\t\t5 is SKA (2030s),\n",
    "#\t\t\t\t\t\t\tanything else is the L3 proposal\n",
    "model = 5\n",
    "\n",
    "#TODO: make general intake of some f,and sqrt(S_n_f)\n",
    "\n",
    "#M = m1+m2 Total Mass\n",
    "M = 1e6\n",
    "M_min = 1e1\n",
    "M_max = 1e12\n",
    "\n",
    "#q = m2/m1 reduced mass\n",
    "q = 1\n",
    "q_min = 1\n",
    "q_max = 18\n",
    "\n",
    "#Chi = S_i*L/m_i**2, spins of each mass i\n",
    "chi1 = 0.0 #spin of m1\n",
    "chi2 = 0.0 #spin of m2\n",
    "chi_min = -0.85 #Limits of PhenomD for unaligned spins\n",
    "chi_max = 0.85\n",
    "\n",
    "z = 3.0 #Redshift\n",
    "z_min = 1e-2\n",
    "z_max = 1e3\n",
    "\n",
    "nfreqs = int(1e3)   #Sample rate of strain/Transfer function frequencies\n",
    "\n",
    "initVarArray = np.array([M, q, chi1, chi2, z])\n",
    "VarArray = initVarArray\n",
    "\n",
    "VarLims = np.array([[M_min, M_max], [q_min, q_max], [chi_min, chi_max], [chi_min, chi_max], [z_min, z_max]])\n",
    "VarNames = np.array(['M','q','chi1','chi2','z'])"
   ]
  },
  {
   "cell_type": "markdown",
   "metadata": {},
   "source": [
    "# Model Selection"
   ]
  },
  {
   "cell_type": "code",
   "execution_count": 221,
   "metadata": {},
   "outputs": [],
   "source": [
    "if model == 0: #Neil\n",
    "    T_obs = 4*u.yr.to('s')*u.s #Observing time in seconds\n",
    "    #Neil Calculation from https://arxiv.org/pdf/1803.01944.pdf\n",
    "    Neil_S_acc = 3e-15*u.m/u.s/u.s #M/sqrt(Hz)\n",
    "    Neil_S_oms = 1.5e-11*u.m\n",
    "    Neil_L = 2.5e9*u.m\n",
    "    fT,LISA_Transfer_Function = SnN.Get_TransferFunction(L=Neil_L)    \n",
    "    S_n_f_sqrt = SnN.NeilSensitivity(f,LISA_Transfer_Function)\n",
    "    S_n_f_sqrt = S_n_f_sqrt/(u.Hz)**Fraction(1,2)\n",
    "elif model == 1: #Martin 2016\n",
    "    T_obs = 4*u.yr.to('s')*u.s #Observing time in seconds\n",
    "    #LISA Calculation without pathfinder correction (2016 model)\n",
    "    Ssci = 8.9e-12**2*u.m*u.m\n",
    "    Sloc = 1.7e-12**2*u.m*u.m\n",
    "    Sother = 2e-12**2*u.m*u.m\n",
    "    k2016_P_ims = Ssci+2*Sloc+Sother\n",
    "    k2016_L = 2.5e9*u.m\n",
    "    fT,LISA_Transfer_Function = SnN.Get_TransferFunction(L=k2016_L)\n",
    "    k2016_P_acc = ((1.8e-14*u.m/u.s/u.s)**2*((3e-5*u.Hz/f)**10 + (1e-4*u.Hz/f)**2) + (3e-15*u.m/u.s/u.s)**2)/(2*np.pi*f)**4   #red below 1e-4, white above\n",
    "    S_n_f_sqrt = SnN.calcASD(f,LISA_Transfer_Function,k2016_P_acc,k2016_P_ims,k2016_L)\n",
    "    S_n_f_sqrt = S_n_f_sqrt/(u.Hz)**Fraction(1,2)\n",
    "elif model == 2: #Einstein Telescope\n",
    "    T_obs = 4*u.yr.to('s')*u.s #Observing time in seconds\n",
    "    ET_filename = 'ET_D_data.txt'\n",
    "    ET_filelocation = ET_filedirectory + ET_filename\n",
    "    ET_data = np.loadtxt(ET_filelocation)\n",
    "    fT = ET_data[:,0]*u.Hz\n",
    "    S_n_f_sqrt = ET_data[:,1]\n",
    "    S_n_f_sqrt = S_n_f_sqrt/(u.Hz)**Fraction(1,2)\n",
    "elif model == 3: #aLIGO\n",
    "    T_obs = 4*u.yr.to('s')*u.s #Observing time in seconds\n",
    "    aLIGO_filename = 'aLIGODesign.txt'\n",
    "    aLIGO_filelocation = aLIGO_filedirectory + aLIGO_filename\n",
    "    aLIGO_data = np.loadtxt(aLIGO_filelocation)\n",
    "    #Cheating with names so I don't have to load data everytime\n",
    "    fT = aLIGO_data[:,0]*u.Hz\n",
    "    S_n_f_sqrt = aLIGO_data[:,1]\n",
    "    S_n_f_sqrt = S_n_f_sqrt/(u.Hz)**Fraction(1,2)\n",
    "elif model == 4: #NANOGrav 11 yr\n",
    "    ###############################################\n",
    "    #NANOGrav calculation using 11.5yr parameters https://arxiv.org/abs/1801.01837\n",
    "    deltrms_nano = 100*u.ns #rms timing residuals in seconds\n",
    "    deltrms_nano = deltrms_nano.to('s')\n",
    "\n",
    "    T_obs = 11.4*u.yr #Observing time in years\n",
    "    T_obs = T_nano.to('s') #Observing time in seconds\n",
    "    Np_nano = 45 #Number of pulsars\n",
    "    cadence_nano = 1/(2*u.wk) #Avg observation cadence of 1 every 2 weeks in seconds\n",
    "    cadence_nano = cadence_nano.to('1/s')\n",
    "    ndetectors = 1\n",
    "    fT,S_n_f_sqrt = SnN.calcPTAASD(deltrms_nano,cadence_nano,T_obs,ndetectors)\n",
    "elif model == 5: #SKA (2030s)\n",
    "    ###############################################\n",
    "    #NANOGrav calculation using 11.5yr parameters https://arxiv.org/abs/1801.01837\n",
    "    deltrms_nano = 100*u.ns #rms timing residuals in seconds\n",
    "    deltrms_nano = deltrms_nano.to('s')\n",
    "\n",
    "    T_nano = 11.4*u.yr #Observing time in years\n",
    "    T_nano = T_nano.to('s') #Observing time in seconds\n",
    "    Np_nano = 45 #Number of pulsars\n",
    "    cadence_nano = 1/(2*u.wk) #Avg observation cadence of 1 every 2 weeks in seconds\n",
    "    cadence_nano = cadence_nano.to('1/s')\n",
    "    \n",
    "    ###############################################\n",
    "    #SKA calculation using parameters and methods from arXiv:0804.4476 section 7.1\n",
    "    deltrms_SKA = 10*u.ns #rms timing residuals in nanoseconds\n",
    "    deltrms_SKA = deltrms_SKA.to('s')\n",
    "\n",
    "    T_SKA = 15*u.yr #Observing time in years\n",
    "    T_SKA = T_SKA.to('s') #Observing time in seconds\n",
    "\n",
    "    Np_SKA = 20 #Number of pulsars\n",
    "    cadence_SKA = 1/u.wk #Avg observation cadence of 1 every week in seconds\n",
    "    cadence_SKA = cadence_SKA.to('1/s')\n",
    "    \n",
    "    ndetectors = 2\n",
    "    T_obs_full = [T_nano, T_SKA]\n",
    "    cadence_full = [cadence_nano, cadence_SKA]\n",
    "    sigma_rms_full = [deltrms_nano, deltrms_SKA]\n",
    "    \n",
    "    T_obs=T_nano+T_SKA\n",
    "\n",
    "    fT,S_n_f_sqrt = SnN.calcPTAASD(sigma_rms_full,cadence_full,T_obs_full,ndetectors)\n",
    "else: #L3 proposal\n",
    "    T_obs = 4*u.yr.to('s')*u.s #Observing time in seconds\n",
    "    S_acc_low_knee = .4*u.mHz\n",
    "    S_acc_high_knee = 8.*u.mHz\n",
    "    S_oms_knee = 2.*u.mHz\n",
    "    ESA_L = 2.5e9*u.m\n",
    "    fT,LISA_Transfer_Function = SnN.Get_TransferFunction(L=ESA_L)\n",
    "    S_n_f_sqrt = SnN.LisaSensitivity(fT,LISA_Transfer_Function)\n",
    "    S_n_f_sqrt = S_n_f_sqrt/(u.Hz)**Fraction(1,2)"
   ]
  },
  {
   "cell_type": "markdown",
   "metadata": {},
   "source": [
    "Adding Astropy units"
   ]
  },
  {
   "cell_type": "code",
   "execution_count": 222,
   "metadata": {},
   "outputs": [
    {
     "name": "stdout",
     "output_type": "stream",
     "text": [
      "s\n",
      "Hz\n",
      "Hz s(3/2)\n"
     ]
    }
   ],
   "source": [
    "print(T_obs.unit)\n",
    "print(fT.unit)\n",
    "print(S_n_f_sqrt.unit)"
   ]
  },
  {
   "cell_type": "code",
   "execution_count": 223,
   "metadata": {},
   "outputs": [
    {
     "name": "stdout",
     "output_type": "stream",
     "text": [
      "[1.e+06 1.e+00 0.e+00 0.e+00 3.e+00]\n"
     ]
    }
   ],
   "source": [
    "phenomD_f,phenomD_h = SnN.Get_Waveform(initVarArray)\n",
    "phenomD_f,phenomD_h = SnN.StrainConv(initVarArray,phenomD_f,phenomD_h)\n",
    "print(initVarArray)"
   ]
  },
  {
   "cell_type": "code",
   "execution_count": 224,
   "metadata": {},
   "outputs": [
    {
     "data": {
      "image/png": "[encoded data removed]",
      "text/plain": [
       "<Figure size 432x288 with 1 Axes>"
      ]
     },
     "metadata": {
      "needs_background": "light"
     },
     "output_type": "display_data"
    }
   ],
   "source": [
    "plt.figure()\n",
    "plt.loglog(fT,np.sqrt(fT)*S_n_f_sqrt, linewidth = linesize,color = cm.hsv(colornorm(0.0)))\n",
    "plt.loglog(phenomD_f,np.sqrt(4*phenomD_f**2*phenomD_h**2))\n",
    "plt.show()"
   ]
  },
  {
   "cell_type": "markdown",
   "metadata": {},
   "source": [
    "# Setting Up SNR Calculation\n",
    "Uses the index given and the data range to sample the space either logrithmically or linearly based on the \n",
    "selection of variables. Then it computes the SNR for each value.\n",
    "Returns the variable ranges used to calculate the SNR for each matrix, then returns the SNRs with size of the sample1Xsample2\n"
   ]
  },
  {
   "cell_type": "markdown",
   "metadata": {},
   "source": [
    "# Check frequency evolution"
   ]
  },
  {
   "cell_type": "code",
   "execution_count": 225,
   "metadata": {},
   "outputs": [],
   "source": [
    "def checkFreqEvol(Vars,T_obs,f_init):\n",
    "    #####################################\n",
    "    #If the initial observed time from merger is less than the time observed\n",
    "    #(ie t_init-T_obs < 0 => f_T_obs is complex),\n",
    "    #the BBH will or has already merged during the observation\n",
    "    #If the initial observed time from merger is greater than the time observed\n",
    "    #(ie t_init-T_obs > 0 => f_T_obs is real),\n",
    "    #And if the frequency of the binary does evolve over more than one bin,\n",
    "    #(ie f_T_obs-f_init < 1/T_obs), it is monochromatic,\n",
    "    #Otherwise it is chirping and evolves over the observation \n",
    "    #####################################\n",
    "    \n",
    "    [M,q,_,_,z] = np.split(Vars,len(Vars))\n",
    "    m_conv = const.G*const.M_sun/const.c**3 #Converts M = [M] to M = [sec]\n",
    "    \n",
    "    eta = q/(1+q)**2\n",
    "    M_redshifted_time = M*(1+z)*m_conv\n",
    "    M_chirp = eta**(3/5)*M_redshifted_time\n",
    "    \n",
    "    #f(t) from eqn 24 of Cornish et. al 2018 https://arxiv.org/pdf/1803.01944.pdf\n",
    "    t_init = 5*(M_chirp)**(-5/3)*(8*np.pi*f_init)**(-8/3)\n",
    "    f_evolve = 1./8./np.pi/M_chirp*(5*M_chirp/(t_init-T_obs))**(3./8.)\n",
    "    f_T_obs = 1./8./np.pi/M_chirp*(5*M_chirp/(T_obs))**(3./8.)\n",
    "    \n",
    "    if (f_evolve-f_init) < (1/T_obs) and (t_init-T_obs) > 0:\n",
    "        return f_init, True\n",
    "    else:\n",
    "        return f_T_obs, False"
   ]
  },
  {
   "cell_type": "markdown",
   "metadata": {},
   "source": [
    "## getSNRMatrixVer8\n",
    "Mixed initial observing frequencies and time from merger"
   ]
  },
  {
   "cell_type": "code",
   "execution_count": 226,
   "metadata": {},
   "outputs": [],
   "source": [
    "def getSNRMatrixVer8(Var1index,sampleRate1,Var2index,sampleRate2,Vars,VarLims,fT,S_n_f_sqrt,T_obs):\n",
    "    recalculate = False #Assume we only need to calculate the waveform once\n",
    "\n",
    "    [phenomD_f,phenomD_h] = SnN.Get_Waveform(Vars)\n",
    "    \n",
    "    f_opt = fT[np.argmin(S_n_f_sqrt)]\n",
    "\n",
    "    if Var1index == 1 or Var1index == 2 or Var1index == 3:\n",
    "        #Sample in linear space for mass ratio and spins\n",
    "        sample1 = np.linspace(VarLims[Var1index,0],VarLims[Var1index,1],sampleRate1)\n",
    "        recalculate = True #Must recalculate the waveform at each point\n",
    "    else:\n",
    "        #Sample in log space for any other variables\n",
    "        sample1 = np.logspace(np.log10(VarLims[Var1index,0]),np.log10(VarLims[Var1index,1]),sampleRate1)\n",
    "\n",
    "    if Var2index == 1 or Var2index == 2 or Var2index == 3:\n",
    "        #Sample in linear space for mass ratio and spins\n",
    "        sample2 = np.linspace(VarLims[Var2index,0],VarLims[Var2index,1],sampleRate2)\n",
    "        recalculate = True #Must recalculate the waveform at each point\n",
    "    else:\n",
    "        #Sample in log space for any other variables\n",
    "        sample2 = np.logspace(np.log10(VarLims[Var2index,0]),np.log10(VarLims[Var2index,1]),sampleRate2)\n",
    "\n",
    "    sampleSize1 = len(sample1)\n",
    "    sampleSize2 = len(sample2)\n",
    "    SNRMatrix = np.zeros((sampleSize1,sampleSize2))\n",
    "\n",
    "    for i in range(sampleSize1):\n",
    "        for j in range(sampleSize2):\n",
    "            Vars[Var1index] = sample1[i]\n",
    "            Vars[Var2index] = sample2[j]\n",
    "            #if ismono f_init=f_opt, else f_init=f_T_obs\n",
    "            f_init, ismono = checkFreqEvol(Vars,T_obs,f_opt)\n",
    "            SNRMatrix[i,j] = calcSNRVer11(Vars,phenomD_f,phenomD_h,fT,S_n_f_sqrt,T_obs,f_init,recalculate,ismono)\n",
    "    return [sample1,sample2,SNRMatrix]"
   ]
  },
  {
   "cell_type": "markdown",
   "metadata": {},
   "source": [
    "# Calculation of SNR"
   ]
  },
  {
   "cell_type": "markdown",
   "metadata": {},
   "source": [
    "# calcSNRver11"
   ]
  },
  {
   "cell_type": "code",
   "execution_count": 227,
   "metadata": {},
   "outputs": [],
   "source": [
    "def calcSNRVer11(Vars,phenomD_f,phenomD_h,fT,S_n_f_sqrt,T_obs,f_init,recalculate,ismono):\n",
    "    \n",
    "    \n",
    "    S_n_f = S_n_f_sqrt**2 #Amplitude Spectral Density\n",
    "    \n",
    "    if ismono:\n",
    "        indxfgw,h_gw = SnN.Get_MonoStrain(Vars,fT,f_init,T_obs)\n",
    "        #CALCULATE SNR\n",
    "        SNR = np.sqrt(h_gw**2/S_n_f[indxfgw])[0]\n",
    "    else:\n",
    "        #Source is either evolving during the observation (f_T_obs-f_obs)>(1/T_obs),\n",
    "        #or Completely Merges during the observation,\n",
    "        #or already merged (Tobs > tinit => imaginary f_T_obs)  \n",
    "        if recalculate:\n",
    "            [phenomD_f,phenomD_h] = SnN.Get_Waveform(Vars)\n",
    "        \n",
    "        phenomD_f,phenomD_h = SnN.StrainConv(Vars,phenomD_f,phenomD_h)\n",
    "        #Only want to integrate from observed frequency till merger\n",
    "        indxfgw = np.abs(phenomD_f-f_init).argmin()\n",
    "        if indxfgw >= len(phenomD_f)-1:\n",
    "            #If the SMBH has already merged set the SNR to ~0\n",
    "            return 1e-30  \n",
    "        else:\n",
    "            f_cut = phenomD_f[indxfgw:]\n",
    "            h_cut = phenomD_h[indxfgw:]\n",
    "\n",
    "        #################################\n",
    "        #Interpolate the Strain Noise Spectral Density to only the frequencies the\n",
    "        #strain runs over\n",
    "        #Set Noise to 1e30 outside of signal frequencies\n",
    "        S_n_f_interp_old = interp.interp1d(np.log10(fT.value),np.log10(S_n_f.value),kind='cubic',fill_value=30.0, bounds_error=False) \n",
    "        S_n_f_interp_new = S_n_f_interp_old(np.log10(f_cut.value))\n",
    "        S_n_f_interp = 10**S_n_f_interp_new\n",
    "\n",
    "        #CALCULATE SNR FOR BOTH NOISE CURVES\n",
    "        denom = S_n_f_interp #Sky Averaged Noise Spectral Density\n",
    "        numer = f_cut*h_cut**2\n",
    "\n",
    "        integral_consts = 16/5 # 4 or(4*4/5) from sky/inclination/polarization averaging\n",
    "\n",
    "        integrand = numer/denom\n",
    "        SNRsqrd = integral_consts*np.trapz(integrand.value,np.log(f_cut.value),axis=0) #SNR**2\n",
    "        SNR = np.sqrt(SNRsqrd)\n",
    "    return SNR"
   ]
  },
  {
   "cell_type": "markdown",
   "metadata": {},
   "source": [
    "# Plot SNR"
   ]
  },
  {
   "cell_type": "code",
   "execution_count": 228,
   "metadata": {},
   "outputs": [],
   "source": [
    "def plotSNR(sample1,sample2,SNRMatrix,contLevels,VarLims,VarNames,index1,index2,figsize):\n",
    "    '''Plots the SNR contours from calcSNR'''\n",
    "    colormap = 'viridis'\n",
    "    logLevels = np.log10(contLevels)\n",
    "    logSNR = np.log10(SNRMatrix)\n",
    "    xlabel_min = VarLims[index2,0]\n",
    "    xlabel_max = VarLims[index2,1]\n",
    "    ylabel_min = VarLims[index1,0]\n",
    "    ylabel_max = VarLims[index1,1]\n",
    "\n",
    "    #########################\n",
    "    #Make the Contour Plots\n",
    "    fig1, ax1 = plt.subplots(figsize=figsize)\n",
    "\n",
    "    #Set axis scales based on what data sampling we used \n",
    "    if (index1 == 1 or index1 == 2 or index1 == 3) and (index2 != 1 and index2 != 2 and index2 != 3):\n",
    "        CS1 = ax1.contourf(np.log10(sample2),sample1,logSNR,logLevels,cmap = colormap)\n",
    "        ax1.set_xlim(np.log10(xlabel_min),np.log10(xlabel_max))\n",
    "        ax1.set_ylim(ylabel_min,ylabel_max)\n",
    "        x_labels = np.logspace(np.log10(xlabel_min),np.log10(xlabel_max),np.log10(xlabel_max)-np.log10(xlabel_min)+1)\n",
    "        y_labels = np.range(ylabel_min,ylabel_max,1)\n",
    "        ax1.set_yticks(y_labels)\n",
    "        ax1.set_yticklabels(y_labels,fontsize = axissize)\n",
    "        ax1.set_xticks(np.log10(x_labels))\n",
    "        ax1.set_xticklabels(np.log10(x_labels),fontsize = axissize)\n",
    "    elif (index1 != 1 or index1 != 2 or index1 != 3) and (index2 == 1 and index2 == 2 and index2 == 3):\n",
    "        CS1 = ax1.contourf(sample2,np.log10(sample1),logSNR,logLevels,cmap = colormap)\n",
    "        ax1.set_xlim(xlabel_min,xlabel_max)\n",
    "        ax1.set_ylim(np.log10(ylabel_min),np.log10(ylabel_max))\n",
    "        x_labels = np.range(xlabel_min,xlabel_max,1)\n",
    "        y_labels = np.logspace(np.log10(ylabel_min),np.log10(ylabel_max),np.log10(ylabel_max)-np.log10(ylabel_min)+1)\n",
    "        ax1.set_xticks(x_labels)\n",
    "        ax1.set_xticklabels(x_labels,fontsize = axissize)\n",
    "        ax1.set_yticks(np.log10(y_labels))\n",
    "        ax1.set_yticklabels(np.log10(y_labels),fontsize = axissize)\n",
    "    elif (index1 != 1 or index1 != 2 or index1 != 3) and (index2 != 1 and index2 != 2 and index2 != 3):\n",
    "        CS1 = ax1.contourf(np.log10(sample2),np.log10(sample1),logSNR,logLevels,cmap = colormap)\n",
    "        ax1.set_xlim(np.log10(xlabel_min),np.log10(xlabel_max))\n",
    "        ax1.set_ylim(np.log10(ylabel_min),np.log10(ylabel_max))\n",
    "        x_labels = np.logspace(np.log10(xlabel_min),np.log10(xlabel_max),np.log10(xlabel_max)-np.log10(xlabel_min)+1)\n",
    "        y_labels = np.logspace(np.log10(ylabel_min),np.log10(ylabel_max),np.log10(ylabel_max)-np.log10(ylabel_min)+1)\n",
    "        ax1.set_yticks(np.log10(y_labels))\n",
    "        ax1.set_yticklabels(np.log10(y_labels),fontsize = axissize)\n",
    "        ax1.set_xticks(np.log10(x_labels))\n",
    "        ax1.set_xticklabels(np.log10(x_labels),fontsize = axissize)\n",
    "\n",
    "    ax1.set_xlabel(r'log $M_{\\rm tot}$ $[M_{\\odot}]$',fontsize = labelsize)\n",
    "    ax1.set_ylabel(r'$z$',fontsize = labelsize)\n",
    "    ax1.yaxis.set_label_coords(-.10,.5)\n",
    "    #########################\n",
    "    #Make colorbar\n",
    "    cbar1 = fig1.colorbar(CS1)\n",
    "    cbar1.set_label(r'Future Detectors log $SNR$',fontsize = labelsize)\n",
    "    cbar1.ax.tick_params(labelsize = axissize)\n",
    "\n",
    "    plt.show()"
   ]
  },
  {
   "cell_type": "code",
   "execution_count": 229,
   "metadata": {},
   "outputs": [
    {
     "name": "stderr",
     "output_type": "stream",
     "text": [
      "/Users/andrewkaiser/anaconda3/lib/python3.7/site-packages/astropy/units/quantity.py:639: RuntimeWarning: invalid value encountered in power\n",
      "  result = super().__array_ufunc__(function, method, *arrays, **kwargs)\n"
     ]
    },
    {
     "name": "stdout",
     "output_type": "stream",
     "text": [
      "34.999279737472534\n"
     ]
    },
    {
     "data": {
      "image/png": "[encoded data removed]",
      "text/plain": [
       "<Figure size 720x576 with 2 Axes>"
      ]
     },
     "metadata": {
      "needs_background": "light"
     },
     "output_type": "display_data"
    }
   ],
   "source": [
    "start = time.time()\n",
    "[sample1,sample2,SNRMatrix] = getSNRMatrixVer8(index1,sampleRate1,index2,sampleRate2,initVarArray,VarLims,fT,S_n_f_sqrt,T_obs)\n",
    "end = time.time()\n",
    "print(end-start)\n",
    "plotSNR(sample1,sample2,SNRMatrix,contLevels,VarLims,VarNames,index1,index2,figsize)"
   ]
  },
  {
   "cell_type": "code",
   "execution_count": 230,
   "metadata": {},
   "outputs": [],
   "source": [
    "sNRfilename = '/SKASNRMatrix_zvM_correct_4.dat'\n",
    "samplefilename = '/SKASamples_zvM_correct_4.dat'\n",
    "isitsavetime = False"
   ]
  },
  {
   "cell_type": "code",
   "execution_count": 231,
   "metadata": {},
   "outputs": [],
   "source": [
    "if isitsavetime:\n",
    "    #Save SNR Matrix\n",
    "    np.savetxt(top_directory+sNRfilename,SNRMatrix)\n",
    "    #Save Samples\n",
    "    np.savetxt(top_directory+samplefilename,[sample1,sample2])"
   ]
  },
  {
   "cell_type": "code",
   "execution_count": null,
   "metadata": {},
   "outputs": [],
   "source": []
  }
 ],
 "metadata": {
  "kernelspec": {
   "display_name": "Python 3",
   "language": "python",
   "name": "python3"
  },
  "language_info": {
   "codemirror_mode": {
    "name": "ipython",
    "version": 3
   },
   "file_extension": ".py",
   "mimetype": "text/x-python",
   "name": "python",
   "nbconvert_exporter": "python",
   "pygments_lexer": "ipython3",
   "version": "3.7.0"
  }
 },
 "nbformat": 4,
 "nbformat_minor": 2
}
