{
 "cells": [
  {
   "cell_type": "code",
   "execution_count": 1,
   "metadata": {},
   "outputs": [
    {
     "name": "stdout",
     "output_type": "stream",
     "text": [
      "Do not have mpi4py package.\n"
     ]
    }
   ],
   "source": [
    "import numpy as np\n",
    "import matplotlib.pyplot as plt\n",
    "from matplotlib import cm\n",
    "from matplotlib import rc\n",
    "\n",
    "import healpy as hp\n",
    "\n",
    "import astropy.constants as const\n",
    "import astropy.units as u\n",
    "from astropy.cosmology import WMAP9 as cosmo\n",
    "from astropy.coordinates import SkyCoord\n",
    "\n",
    "import hasasia.sensitivity as hassen\n",
    "import hasasia.sim as hassim\n",
    "import hasasia.skymap as hassky\n",
    "\n",
    "import targeted_functions as fns\n",
    "\n",
    "import glob\n",
    "import scipy.stats as ss"
   ]
  },
  {
   "cell_type": "code",
   "execution_count": 2,
   "metadata": {},
   "outputs": [],
   "source": [
    "datadir='/Users/caitlinawitt/Desktop/nano11'\n",
    "p11 = np.loadtxt(datadir+'/psrlist_Tg3yr.txt', dtype='S42').astype('str')\n",
    "p11 = list(p11)"
   ]
  },
  {
   "cell_type": "code",
   "execution_count": 3,
   "metadata": {},
   "outputs": [],
   "source": [
    "p11 = sorted([x[1:] for x in p11])"
   ]
  },
  {
   "cell_type": "code",
   "execution_count": 4,
   "metadata": {},
   "outputs": [],
   "source": [
    "p1=[]\n",
    "for p in p11:\n",
    "    if len(p)<len(p11[0]):\n",
    "        a = 'B'+p\n",
    "        p1.append(a)\n",
    "    else:\n",
    "        a = 'J'+p\n",
    "        p1.append(a)\n",
    "p11 = p1"
   ]
  },
  {
   "cell_type": "code",
   "execution_count": 5,
   "metadata": {},
   "outputs": [],
   "source": [
    "noisefiles = sorted(glob.glob(datadir + '/noisefiles_new/*noise.txt'))\n",
    "noisefiles = [x for x in noisefiles if x.split('/')[-1].split('_')[0] in p11]\n",
    "\n",
    "setpars = {}\n",
    "for nfile in noisefiles:\n",
    "    setpars.update(fns.get_noise_from_pal2(nfile))"
   ]
  },
  {
   "cell_type": "code",
   "execution_count": 6,
   "metadata": {},
   "outputs": [],
   "source": [
    "amp=[]\n",
    "gamma=[]\n",
    "for psr in p11:\n",
    "    amp.append(10**setpars[psr+'_red_noise_log10_A'])\n",
    "    gamma.append(setpars[psr+'_red_noise_gamma'])\n",
    "alpha=(np.array(gamma)-3)/(-2)\n",
    "amp = np.array(amp)"
   ]
  },
  {
   "cell_type": "code",
   "execution_count": 7,
   "metadata": {},
   "outputs": [],
   "source": [
    "#Iguchi params\n",
    "m1=1.2e9\n",
    "m2=7e8\n",
    "M_c=(m1*m2)**(3./5)/(m1+m2)**(1./5)\n",
    "z = 0.0213\n",
    "DL = 85.8\n",
    "f_0 =6.04*10**(-8)\n",
    "\n",
    "skypos = SkyCoord('02h23m11.4112s', '+42d59m31.385s', frame='icrs')\n",
    "h_0_Circ = hassky.h0_circ(M_c,DL,f_0)"
   ]
  },
  {
   "cell_type": "code",
   "execution_count": 8,
   "metadata": {},
   "outputs": [],
   "source": [
    "N_pulsar = 33\n",
    "sigma = 100*u.ns.to('s')*u.s # 100 ns\n",
    "cadence = 23/u.yr #number of observations/yr\n",
    "f_min = cadence.to('1/s')/2. #nyquist frequency"
   ]
  },
  {
   "cell_type": "code",
   "execution_count": 9,
   "metadata": {},
   "outputs": [],
   "source": [
    "rmss=np.array([0.361 ,0.691 ,0.454 , 0.422, 0.178 ,1.07 ,0.323 ,0.672 , 0.23 ,0.199 ,0.426 ,3.31 ,0.108 ,0.52 ,0.128 ,0.842 ,\n",
    "           3.59 ,0.239,0.809 ,3.65 ,0.148 ,0.544, 0.322 ,0.229,0.57 ,0.352 ,0.377 ,0.257 ,0.11 ,0.12 ,0.968 ,1.33 ,1.07 ,0.271])*1e-6\n",
    "#sorry this is disgusting, I'm lazy"
   ]
  },
  {
   "cell_type": "code",
   "execution_count": 10,
   "metadata": {},
   "outputs": [],
   "source": [
    "coord = []\n",
    "c_1713 = []\n",
    "c_0613 = []\n",
    "for i in range(len(p11)):\n",
    "    if 'J' in p11[i]:\n",
    "        if '+' in p11[i]:\n",
    "            #if '1713' not in p11[i]:\n",
    "            a = p11[i].split('J')[1]\n",
    "            b = a.split('+')[0]\n",
    "            c = a.split('+')[1]\n",
    "            ra = (b[0:2]+'h'+b[2:4]+'m00s')\n",
    "            dec = ('+'+c[0:2]+'d'+c[2:4]+'m00s')\n",
    "            coord.append(SkyCoord(ra, dec, frame='icrs'))\n",
    "\n",
    "        else:\n",
    "            a = p11[i].split('J')[1]\n",
    "            b = a.split('-')[0]\n",
    "            c = a.split('-')[1]\n",
    "            ra = (b[0:2]+'h'+b[2:4]+'m00s')\n",
    "            dec = ('-'+c[0:2]+'d'+c[2:4]+'m00s')            \n",
    "            coord.append(SkyCoord(ra, dec, frame='icrs'))\n",
    "    else:\n",
    "        if '+' in p11[i]:\n",
    "            a = p11[i].split('B')[1]\n",
    "            b = a.split('+')[0]\n",
    "            c = a.split('+')[1]\n",
    "            ra = (b[0:2]+'h'+b[2:4]+'m00s')\n",
    "            dec = ('+'+c[0:2]+'d'+'00m00s')\n",
    "            coord.append(SkyCoord(ra, dec, frame='fk4'))\n",
    "        else:\n",
    "            a = p11[i].split('B')[1]\n",
    "            b = a.split('-')[0]\n",
    "            c = a.split('-')[1]\n",
    "            ra = (b[0:2]+'h'+b[2:4]+'m00s')\n",
    "            dec = ('-'+c[0:2]+'d'+'00m00s')\n",
    "            coord.append(SkyCoord(ra, dec, frame='fk4'))\n",
    "            \n"
   ]
  },
  {
   "cell_type": "code",
   "execution_count": 70,
   "metadata": {},
   "outputs": [],
   "source": [
    "T_obs_array = [11,15]*u.yr\n",
    "\n",
    "N_11 = 34\n",
    "N_12p5 = 45\n",
    "N_9 = 18\n",
    "N_per = (N_12p5-N_11)/1.5/u.yr\n",
    "N = (N_11-N_9)/2/u.yr\n",
    "N_p = np.mean([N_per.value, N.value])\n",
    "N_per = 7/u.yr\n",
    "N_psr = [int((N_11+N_per*t).value) for t in T_obs_array-T_obs_array[0]]"
   ]
  },
  {
   "cell_type": "code",
   "execution_count": 71,
   "metadata": {},
   "outputs": [
    {
     "data": {
      "text/plain": [
       "[34, 62]"
      ]
     },
     "execution_count": 71,
     "metadata": {},
     "output_type": "execute_result"
    }
   ],
   "source": [
    "N_psr"
   ]
  },
  {
   "cell_type": "code",
   "execution_count": 14,
   "metadata": {},
   "outputs": [],
   "source": [
    "\n",
    "phi = np.array([c.ra.radian for c in coord])\n",
    "theta = np.array([np.pi/2 - c.dec.radian for c in coord])\n",
    "theta_3c = np.array(np.pi/2-skypos.dec.radian)\n",
    "phi_3c = np.array(skypos.ra.radian)"
   ]
  },
  {
   "cell_type": "code",
   "execution_count": 15,
   "metadata": {},
   "outputs": [],
   "source": [
    "theta_added = np.append(theta,0.)\n",
    "theta_added2 = np.append(theta_added,np.pi)\n",
    "\n",
    "phi_hist = np.histogram(phi, bins=np.linspace(0,2*np.pi,8))\n",
    "theta_hist = np.histogram(theta_added2, bins=np.linspace(0,np.pi,8))\n",
    "phi_dist = ss.rv_histogram(phi_hist)\n",
    "theta_dist = ss.rv_histogram(theta_hist)\n",
    "#making distributions to draw some new ones"
   ]
  },
  {
   "cell_type": "code",
   "execution_count": 76,
   "metadata": {},
   "outputs": [
    {
     "name": "stdout",
     "output_type": "stream",
     "text": [
      "11.0 yr\n",
      "28\n",
      "34\n",
      "3\n",
      "2\n",
      "1\n",
      "0\n",
      "62\n",
      "15.0 yr\n"
     ]
    }
   ],
   "source": [
    "curves_psrs_notnear=[]\n",
    "freqs_sm = []\n",
    "added_theta = np.array([])\n",
    "added_phi = np.array([])\n",
    "added_amp = np.array([])\n",
    "added_alpha = np.array([])\n",
    "added_rmss = np.array([])\n",
    "ptas = []\n",
    "\n",
    "for i,T_obs in enumerate(T_obs_array):\n",
    "    \n",
    "\n",
    "    \n",
    "    Tspan = T_obs.to('s') #Tspan in seconds\n",
    "    #Simulate a set of identical pulsars, with different sky positions.\n",
    "    freqs = np.logspace(np.log10(1/(5*Tspan.value)),np.log10(f_min.value),500)\n",
    "    if T_obs == T_obs_array[0]:\n",
    "        psrs3 = hassim.sim_pta(timespan=T_obs.value,cad=23,sigma=rmss,#*T_obs_array[0]/T_obs,\n",
    "                         phi=phi,theta=theta,A_rn=amp,alpha=alpha,freqs=freqs)\n",
    "    else:\n",
    "        N_add = int(N_psr[i] -N_psr[i-1])\n",
    "        print(N_add)\n",
    "        tspan = np.ones(N_psr[0])*T_obs\n",
    "        print(len(tspan))\n",
    "        for i in range(int(N_add/N_per.value)-1, -1, -1):\n",
    "            print(i)\n",
    "            a = np.ones(int(N_per.value))*3*u.yr+i*u.yr\n",
    "            tspan = np.append(tspan,a).value*u.yr\n",
    "            \n",
    "            \n",
    "        #Tspan = tspan.to('s')\n",
    "        new_ind_30 = np.random.choice(range(len(rmss)), size = N_add)\n",
    "        new_rmss = rmss[new_ind_30]\n",
    "        new_amps = amp[new_ind_30]\n",
    "        new_alpha = alpha[new_ind_30]\n",
    "        new_theta = theta_dist.rvs(size = N_add) \n",
    "        new_phi = phi_dist.rvs(size=N_add)\n",
    "        \n",
    "        added_theta = np.append(added_theta,new_theta)\n",
    "        added_phi = np.append(added_phi,new_phi)\n",
    "        added_amp = np.append(added_amp,new_amps)\n",
    "        added_alpha= np.append(added_alpha,new_alpha)\n",
    "        added_rmss = np.append(added_rmss,new_rmss)\n",
    "        \n",
    "        print(len(tspan))\n",
    "\n",
    "        #tspan = np.ones(N_psr[i])*T_obs\n",
    "        psrs3 = hassim.sim_pta(timespan=tspan.value,cad=23,sigma=np.append(rmss,added_rmss),#*T_obs_array[0]/T_obs,\n",
    "                         phi=np.append(phi,added_phi),theta=np.append(theta,added_theta),\n",
    "                               A_rn=np.append(amp,added_amp),\n",
    "                               alpha=np.append(alpha,added_alpha),\n",
    "                               freqs=freqs)\n",
    "    \n",
    "    spectra3 = []\n",
    "    for p in psrs3:\n",
    "        sp = hassen.Spectrum(p, freqs=freqs)\n",
    "        sp.NcalInv\n",
    "        spectra3.append(sp)\n",
    "\n",
    "    pta=hassen.DeterSensitivityCurve(spectra3)\n",
    "    #Use the healpy functions to get the sky coordinates\n",
    "    NSIDE = 32\n",
    "    NPIX = hp.nside2npix(NSIDE)\n",
    "    IPIX = np.arange(NPIX)\n",
    "    theta_gw, phi_gw = hp.pix2ang(nside=NSIDE,ipix=IPIX)\n",
    "    theta_gw = np.append(theta_gw,theta_3c)\n",
    "    phi_gw = np.append(phi_gw,phi_3c)\n",
    "\n",
    "    sky_loc = 'PTA Sensitivity at '\n",
    "    sky_loc += '{0:2.1f}$^\\circ$N, {1:2.1f}$^\\circ$E'.format(np.rad2deg(theta_gw[-1]),\n",
    "                                                   np.rad2deg(phi_gw[-1]))\n",
    "    indx_f_0_pta = np.abs(pta.freqs-f_0).argmin()\n",
    "    sky_map4 = hassky.SkySensitivity(spectra3,theta_gw, phi_gw)\n",
    "    indx_f_0_SM = np.abs(sky_map4.freqs-f_0).argmin()\n",
    "    curves_psrs_notnear.append(sky_map4.h_c[:,-1])\n",
    "    freqs_sm.append(sky_map4.freqs)\n",
    "\n",
    "    print(T_obs)"
   ]
  },
  {
   "cell_type": "code",
   "execution_count": 75,
   "metadata": {},
   "outputs": [
    {
     "name": "stdout",
     "output_type": "stream",
     "text": [
      "28\n",
      "34\n",
      "3\n",
      "2\n",
      "1\n",
      "0\n",
      "62\n"
     ]
    }
   ],
   "source": [
    "for i,T_obs in enumerate(T_obs_array):\n",
    "    if T_obs == T_obs_array[0]:\n",
    "        tspan = T_obs\n",
    "    else:\n",
    "    \n",
    "        N_add = int(N_psr[i] -N_psr[i-1])\n",
    "        print(N_add)\n",
    "        tspan = np.ones(N_psr[0])*T_obs\n",
    "        print(len(tspan))\n",
    "        for i in range(int(N_add/N_per.value)-1, -1, -1):\n",
    "            print(i)\n",
    "            a = np.ones(int(N_per.value))*3*u.yr+i*u.yr\n",
    "            tspan = np.append(tspan,a).value*u.yr\n",
    "        print(len(tspan))"
   ]
  },
  {
   "cell_type": "code",
   "execution_count": 66,
   "metadata": {},
   "outputs": [
    {
     "data": {
      "text/plain": [
       "62"
      ]
     },
     "execution_count": 66,
     "metadata": {},
     "output_type": "execute_result"
    }
   ],
   "source": [
    "len(tspan)"
   ]
  },
  {
   "cell_type": "code",
   "execution_count": 67,
   "metadata": {},
   "outputs": [
    {
     "data": {
      "text/latex": [
       "$[15,~15,~15,~15,~15,~15,~15,~15,~15,~15,~15,~15,~15,~15,~15,~15,~15,~15,~15,~15,~15,~15,~15,~15,~15,~15,~15,~15,~15,~15,~15,~15,~15,~15,~6,~6,~6,~6,~6,~6,~6,~5,~5,~5,~5,~5,~5,~5,~4,~4,~4,~4,~4,~4,~4,~3,~3,~3,~3,~3,~3,~3] \\; \\mathrm{yr}$"
      ],
      "text/plain": [
       "<Quantity [15., 15., 15., 15., 15., 15., 15., 15., 15., 15., 15., 15., 15.,\n",
       "           15., 15., 15., 15., 15., 15., 15., 15., 15., 15., 15., 15., 15.,\n",
       "           15., 15., 15., 15., 15., 15., 15., 15.,  6.,  6.,  6.,  6.,  6.,\n",
       "            6.,  6.,  5.,  5.,  5.,  5.,  5.,  5.,  5.,  4.,  4.,  4.,  4.,\n",
       "            4.,  4.,  4.,  3.,  3.,  3.,  3.,  3.,  3.,  3.] yr>"
      ]
     },
     "execution_count": 67,
     "metadata": {},
     "output_type": "execute_result"
    }
   ],
   "source": [
    "tspan"
   ]
  },
  {
   "cell_type": "code",
   "execution_count": 77,
   "metadata": {},
   "outputs": [
    {
     "data": {
      "text/plain": [
       "Text(0, 0.5, 'GW Frequency')"
      ]
     },
     "execution_count": 77,
     "metadata": {},
     "output_type": "execute_result"
    },
    {
     "data": {
      "image/png": "[encoded data removed]",
      "text/plain": [
       "<Figure size 720x504 with 1 Axes>"
      ]
     },
     "metadata": {
      "needs_background": "light"
     },
     "output_type": "display_data"
    }
   ],
   "source": [
    "plt.figure(figsize=(10,7))\n",
    "c = ['C0', 'C1', 'C2', 'C3', 'C4']\n",
    "for i,T_obs in enumerate(T_obs_array):\n",
    "    plt.loglog(freqs_sm[i], curves_psrs_notnear[i], label=str(T_obs)+', '+str(N_psr[i])+' pulsars', alpha = 1)\n",
    "\n",
    "\n",
    "plt.legend(loc='upper left')\n",
    "#plt.xlim(1e-8,1e-7)\n",
    "#plt.ylim(1e-15,8e-14)\n",
    "plt.xlabel('h Sensitivity')\n",
    "plt.ylabel('GW Frequency')\n",
    "#plt.savefig('/Users/caitlinawitt/Documents/3c66b/plots/sensitivity_curves.pdf')"
   ]
  },
  {
   "cell_type": "code",
   "execution_count": null,
   "metadata": {},
   "outputs": [],
   "source": []
  }
 ],
 "metadata": {
  "kernelspec": {
   "display_name": "Python 3",
   "language": "python",
   "name": "python3"
  },
  "language_info": {
   "codemirror_mode": {
    "name": "ipython",
    "version": 3
   },
   "file_extension": ".py",
   "mimetype": "text/x-python",
   "name": "python",
   "nbconvert_exporter": "python",
   "pygments_lexer": "ipython3",
   "version": "3.7.4"
  }
 },
 "nbformat": 4,
 "nbformat_minor": 2
}
