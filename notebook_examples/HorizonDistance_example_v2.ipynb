{
 "cells": [
  {
   "cell_type": "code",
   "execution_count": 12,
   "metadata": {},
   "outputs": [
    {
     "name": "stdout",
     "output_type": "stream",
     "text": [
      "The autoreload extension is already loaded. To reload it, use:\n",
      "  %reload_ext autoreload\n"
     ]
    }
   ],
   "source": [
    "%load_ext autoreload\n",
    "%autoreload 2"
   ]
  },
  {
   "cell_type": "code",
   "execution_count": 13,
   "metadata": {},
   "outputs": [],
   "source": [
    "import numpy as np\n",
    "import matplotlib.pyplot as plt\n",
    "import matplotlib.colors as colors\n",
    "from matplotlib import cm\n",
    "from matplotlib import rc\n",
    "import os, sys, time\n",
    "import scipy.interpolate as interp\n",
    "\n",
    "import astropy.constants as const\n",
    "import astropy.units as u\n",
    "from astropy.cosmology import z_at_value\n",
    "from astropy.cosmology import WMAP9 as cosmo\n",
    "from fractions import Fraction\n",
    "\n",
    "import hasasia.sensitivity as hassens\n",
    "import hasasia.sim as hassim\n",
    "import hasasia.skymap as hassky\n",
    "\n",
    "gwent_path = '/Users/andrewkaiser/Documents/GradSchool/Research/gwent'\n",
    "load_directory = gwent_path + '/LoadFiles/'\n",
    "sys.path.insert(0,gwent_path)\n",
    "import gwent\n",
    "from gwent import detector,utils,binary,snr"
   ]
  },
  {
   "cell_type": "code",
   "execution_count": 14,
   "metadata": {},
   "outputs": [],
   "source": [
    "rc('text',usetex=True)\n",
    "rc('font',**{'family':'serif','serif':['Times New Roman'],'size':14})#,'weight':'bold'})"
   ]
  },
  {
   "cell_type": "code",
   "execution_count": 15,
   "metadata": {},
   "outputs": [],
   "source": [
    "current_path = os.getcwd()\n",
    "splt_path = current_path.split(\"/\")\n",
    "top_path_idx = splt_path.index('DetectorDesignSensitivities')\n",
    "top_directory = \"/\".join(splt_path[0:top_path_idx+1])\n",
    "\n",
    "sys.path.insert(0,top_directory + '/Functions')\n",
    "import HorizonDistance as HD\n",
    "\n",
    "load_directory = gwent.__path__[0] + '/LoadFiles/InstrumentFiles/'"
   ]
  },
  {
   "cell_type": "code",
   "execution_count": 16,
   "metadata": {},
   "outputs": [],
   "source": [
    "fig_save_idx = splt_path.index('Research')\n",
    "fig_save_location = \"/\".join(splt_path[0:fig_save_idx+1])\n",
    "fig_save_location += '/paperfigs'"
   ]
  },
  {
   "cell_type": "code",
   "execution_count": 17,
   "metadata": {},
   "outputs": [],
   "source": [
    "axissize = 14\n",
    "labelsize = 16\n",
    "legendsize = 12\n",
    "figsize = (10,8)\n",
    "colornorm = colors.Normalize(vmin=0.0, vmax=5.0)\n",
    "linesize = 3"
   ]
  },
  {
   "cell_type": "code",
   "execution_count": 60,
   "metadata": {},
   "outputs": [],
   "source": [
    "'''\n",
    "NOT REALLY YET.\n",
    "    Variables: \n",
    "        GLOBAL:\n",
    "            'T_obs' - Observation Time\n",
    "        SOURCE:\n",
    "            'M' - Mass (Solar Units)\n",
    "            'q' - Mass Ratio\n",
    "            'chi1' - Spin1\n",
    "            'chi2' - Spin2\n",
    "            'z' - Redshift\n",
    "        LISA ONLY:\n",
    "            'L' - Armlength\n",
    "            'A_acc' - Acceleration Noise\n",
    "            'A_IMS' - Optical Metrology\n",
    "            'f_acc_break_low'\n",
    "            'f_acc_break_high'\n",
    "            'f_IMS_break'\n",
    "        PTAs ONLY:\n",
    "            'N_p' - Number of Pulsars\n",
    "            'sigma' - Timing Error RMS\n",
    "            'cadence' - cadence\n",
    "'''\n",
    "var_x = 'M' #Variable on x-axis\n",
    "\n",
    "sampleRate_x = 100 #Number of x-axis points"
   ]
  },
  {
   "cell_type": "code",
   "execution_count": 61,
   "metadata": {},
   "outputs": [],
   "source": [
    "#Selects which noise curve:\n",
    "#\t\t\t\t\t\t\t0 is Einstein Telescope, \n",
    "#\t\t\t\t\t\t\t1 is aLIGO, \n",
    "#\t\t\t\t\t\t\t2 is NANOGrav 15yr,\n",
    "#\t\t\t\t\t\t\t3 is SKA (2030s),\n",
    "#\t\t\t\t\t\t\t4 is Neil Cornish's,\n",
    "#\t\t\t\t\t\t\tanything else is the L3 proposal"
   ]
  },
  {
   "cell_type": "markdown",
   "metadata": {},
   "source": [
    "# Source Selection"
   ]
  },
  {
   "cell_type": "code",
   "execution_count": 62,
   "metadata": {},
   "outputs": [],
   "source": [
    "def Get_Source(model):\n",
    "    if model == 0 or model == 1:\n",
    "        #M = m1+m2 Total Mass\n",
    "        M = 1e2\n",
    "        M_min = 1e0\n",
    "        M_max = 1e5\n",
    "    elif model == 2 or model == 3:\n",
    "        #M = m1+m2 Total Mass\n",
    "        M = 1e8\n",
    "        M_min = 1e7\n",
    "        M_max = 1e11\n",
    "    else:\n",
    "        #M = m1+m2 Total Mass\n",
    "        M = 1e6\n",
    "        M_min = 1e1\n",
    "        M_max = 1e10\n",
    "\n",
    "    #q = m2/m1 reduced mass\n",
    "    q = 1.0\n",
    "    q_min = 1.0\n",
    "    q_max = 18.0\n",
    "\n",
    "    #Chi = S_i*L/m_i**2, spins of each mass i\n",
    "    chi1 = 0.0 #spin of m1\n",
    "    chi2 = 0.0 #spin of m2\n",
    "    chi_min = -0.85 #Limits of PhenomD for unaligned spins\n",
    "    chi_max = 0.85\n",
    "\n",
    "    z = 3.0 #Redshift\n",
    "    z_min = 1e-2\n",
    "    z_max = 1e3\n",
    "\n",
    "    source = binary.BBHFrequencyDomain(M,q,z,chi1,chi2)\n",
    "    source.M = [M,M_min,M_max]\n",
    "    source.q = [q,q_min,q_max]\n",
    "    source.chi1 = [chi1,chi_min,chi_max]\n",
    "    source.chi2 = [chi2,chi_min,chi_max]\n",
    "    source.z = [z,z_min,z_max]\n",
    "\n",
    "    return source"
   ]
  },
  {
   "cell_type": "markdown",
   "metadata": {},
   "source": [
    "# Model Selection"
   ]
  },
  {
   "cell_type": "code",
   "execution_count": 63,
   "metadata": {},
   "outputs": [],
   "source": [
    "def Get_Instrument(model):\n",
    "    if model == 0: #Einstein Telescope\n",
    "        #Loaded from http://www.et-gw.eu/index.php/etsensitivities\n",
    "        load_name = 'ET_D_data.txt'\n",
    "        load_location = load_directory + 'EinsteinTelescope/StrainFiles/' + load_name\n",
    "\n",
    "        T_obs = 4*u.yr #Observing time in years\n",
    "        T_obs_min = 1*u.yr\n",
    "        T_obs_max = 10*u.yr\n",
    "\n",
    "        instrument = detector.GroundBased('ET',T_obs,load_location=load_location,I_type='A')\n",
    "        instrument.T_obs = [T_obs,T_obs_min,T_obs_max]\n",
    "\n",
    "    elif model == 1: #aLIGO\n",
    "        #Loaded from https://dcc.ligo.org/T1800044/public\n",
    "        load_name = 'aLIGODesign.txt'\n",
    "        load_location = load_directory + 'aLIGO/StrainFiles/' + load_name\n",
    "\n",
    "        T_obs = 4*u.yr #Observing time in years\n",
    "        T_obs_min = 1*u.yr\n",
    "        T_obs_max = 10*u.yr\n",
    "\n",
    "        instrument = detector.GroundBased('aLIGO',T_obs,load_location=load_location,I_type='A')\n",
    "        instrument.T_obs = [T_obs,T_obs_min,T_obs_max]\n",
    "\n",
    "    elif model == 2: #NANOGrav 15 yr\n",
    "        #NANOGrav calculation using 11.5yr parameters https://arxiv.org/abs/1801.01837\n",
    "        T_obs = 15*u.yr #Observing time in years\n",
    "        T_obs_min = 10*u.yr\n",
    "        T_obs_max = 30*u.yr\n",
    "\n",
    "        sigma = 100*u.ns.to('s')*u.s #rms timing residuals in seconds\n",
    "\n",
    "        N_p = 18 #Number of pulsars\n",
    "\n",
    "        cadence = 1/(2*u.wk.to('yr')*u.yr) #Avg observation cadence of 1 every 2 weeks in num/year\n",
    "\n",
    "        instrument = detector.PTA('NANOGrav',T_obs,N_p,sigma,cadence)\n",
    "        instrument.T_obs = [T_obs,T_obs_min,T_obs_max]\n",
    "\n",
    "\n",
    "    elif model == 3: #SKA (2030s)\n",
    "        #SKA calculation using parameters and methods from https://arxiv.org/abs/0804.4476 section 7.1\n",
    "        T_obs = 15*u.yr #Observing time (years)\n",
    "        T_obs_min = 10*u.yr\n",
    "        T_obs_max = 30*u.yr\n",
    "\n",
    "        sigma = 10*u.ns.to('s')*u.s #rms timing residuals in nanoseconds\n",
    "\n",
    "        N_p = 20 #Number of pulsars\n",
    "\n",
    "        cadence = 1/(u.wk.to('yr')*u.yr) #Avg observation cadence of 1 every week in num/year\n",
    "\n",
    "        instrument = detector.PTA('SKA',T_obs,N_p,sigma,cadence)\n",
    "        instrument.T_obs = [T_obs,T_obs_min,T_obs_max]\n",
    "\n",
    "    elif model == 4: #Robson,Cornish,and Liu 2019, LISA (https://arxiv.org/abs/1803.01944)\n",
    "        T_obs = 4*u.yr #Observing time in years\n",
    "        T_obs_min = 1*u.yr\n",
    "        T_obs_max = 10*u.yr\n",
    "\n",
    "        L = 2.5e9*u.m #armlength in meters\n",
    "        L_min = 1.0e7*u.m\n",
    "        L_max = 1.0e11*u.m\n",
    "\n",
    "        A_acc = 3e-15*u.m/u.s/u.s #M/s**2\n",
    "        A_IMS = 1.5e-11*u.m\n",
    "        f_IMS_break = 2.*u.mHz.to('Hz')*u.Hz\n",
    "        f_acc_break_low = .4*u.mHz.to('Hz')*u.Hz\n",
    "        f_acc_break_high = 8.*u.mHz.to('Hz')*u.Hz\n",
    "        Background = False\n",
    "        T_type = 'A'\n",
    "\n",
    "        instrument = detector.SpaceBased('Alt_LISA',\\\n",
    "                                       T_obs,L,A_acc,f_acc_break_low,f_acc_break_high,A_IMS,f_IMS_break,\\\n",
    "                                       Background=Background,T_type=T_type)\n",
    "        instrument.T_obs = [T_obs,T_obs_min,T_obs_max]\n",
    "        instrument.L = [L,L_min,L_max]\n",
    "\n",
    "    else: #L3 proposal\n",
    "        #Default Params from https://arxiv.org/abs/1702.00786\n",
    "        T_obs = 4*u.yr #Observing time in years\n",
    "        T_obs_min = 1*u.yr\n",
    "        T_obs_max = 10*u.yr\n",
    "\n",
    "        L = 2.5e9*u.m #armlength in meters\n",
    "        L_min = 1.0e7*u.m\n",
    "        L_max = 1.0e11*u.m\n",
    "\n",
    "        f_acc_break_low = .4*u.mHz.to('Hz')*u.Hz\n",
    "        f_acc_break_high = 8.*u.mHz.to('Hz')*u.Hz\n",
    "        f_IMS_break = 2.*u.mHz.to('Hz')*u.Hz\n",
    "        A_acc = 3e-15*u.m/u.s/u.s\n",
    "        A_IMS = 10e-12*u.m\n",
    "        Background = False\n",
    "        T_type = 'N'\n",
    "\n",
    "        instrument = detector.SpaceBased('LISA_ESA',\\\n",
    "                                       T_obs,L,A_acc,f_acc_break_low,f_acc_break_high,A_IMS,f_IMS_break,\\\n",
    "                                       Background=Background,T_type=T_type)\n",
    "        instrument.T_obs = [T_obs,T_obs_min,T_obs_max]\n",
    "        instrument.L = [L,L_min,L_max]\n",
    "\n",
    "    return instrument"
   ]
  },
  {
   "cell_type": "markdown",
   "metadata": {},
   "source": [
    "# Horizon Distance Calculation"
   ]
  },
  {
   "cell_type": "code",
   "execution_count": 72,
   "metadata": {
    "scrolled": true
   },
   "outputs": [
    {
     "name": "stdout",
     "output_type": "stream",
     "text": [
      "49.933557987213135\n"
     ]
    }
   ],
   "source": [
    "rho_thresh = 5\n",
    "model = 2\n",
    "instrument = Get_Instrument(model)\n",
    "source = Get_Source(model)\n",
    "start = time.time()\n",
    "[sample_x,DL_max,sample_x_min,DL_min,sample_x_mid,DL_mid] = HD.getHorizonDistance(source,instrument,var_x,sampleRate_x,rho_thresh)\n",
    "end = time.time()\n",
    "print(end-start)"
   ]
  },
  {
   "cell_type": "code",
   "execution_count": 73,
   "metadata": {},
   "outputs": [
    {
     "ename": "CosmologyError",
     "evalue": "Best guess z is very close the upper z limit.\nTry re-running with a different zmax.",
     "output_type": "error",
     "traceback": [
      "\u001b[0;31m---------------------------------------------------------------------------\u001b[0m",
      "\u001b[0;31mCosmologyError\u001b[0m                            Traceback (most recent call last)",
      "\u001b[0;32m<ipython-input-73-aad207dd8145>\u001b[0m in \u001b[0;36m<module>\u001b[0;34m\u001b[0m\n\u001b[0;32m----> 1\u001b[0;31m \u001b[0mHD\u001b[0m\u001b[0;34m.\u001b[0m\u001b[0mplotHD\u001b[0m\u001b[0;34m(\u001b[0m\u001b[0msource\u001b[0m\u001b[0;34m,\u001b[0m\u001b[0minstrument\u001b[0m\u001b[0;34m,\u001b[0m\u001b[0mvar_x\u001b[0m\u001b[0;34m,\u001b[0m\u001b[0msample_x\u001b[0m\u001b[0;34m,\u001b[0m\u001b[0mDL_max\u001b[0m\u001b[0;34m,\u001b[0m\u001b[0mDL_min\u001b[0m\u001b[0;34m=\u001b[0m\u001b[0;34m[\u001b[0m\u001b[0msample_x_min\u001b[0m\u001b[0;34m,\u001b[0m\u001b[0mDL_min\u001b[0m\u001b[0;34m]\u001b[0m\u001b[0;34m,\u001b[0m\u001b[0mDL_mid\u001b[0m\u001b[0;34m=\u001b[0m\u001b[0;34m[\u001b[0m\u001b[0msample_x_mid\u001b[0m\u001b[0;34m,\u001b[0m\u001b[0mDL_mid\u001b[0m\u001b[0;34m]\u001b[0m\u001b[0;34m,\u001b[0m\u001b[0mdisplay\u001b[0m\u001b[0;34m=\u001b[0m\u001b[0;32mTrue\u001b[0m\u001b[0;34m,\u001b[0m\u001b[0mfigloc\u001b[0m\u001b[0;34m=\u001b[0m\u001b[0;32mNone\u001b[0m\u001b[0;34m,\u001b[0m\u001b[0mz_axis\u001b[0m\u001b[0;34m=\u001b[0m\u001b[0;32mTrue\u001b[0m\u001b[0;34m)\u001b[0m\u001b[0;34m\u001b[0m\u001b[0;34m\u001b[0m\u001b[0m\n\u001b[0m",
      "\u001b[0;32m~/Documents/GradSchool/Research/LisaParameterization/DetectorDesignSensitivities/Functions/HorizonDistance.py\u001b[0m in \u001b[0;36mplotHD\u001b[0;34m(source, instrument, var_x, sample_x, DL_array, DL_mid, DL_min, display, figloc, z_axis)\u001b[0m\n\u001b[1;32m    273\u001b[0m             \u001b[0mz_max\u001b[0m \u001b[0;34m=\u001b[0m \u001b[0;36m5.0\u001b[0m\u001b[0;34m\u001b[0m\u001b[0;34m\u001b[0m\u001b[0m\n\u001b[1;32m    274\u001b[0m         \u001b[0;32melse\u001b[0m\u001b[0;34m:\u001b[0m\u001b[0;34m\u001b[0m\u001b[0;34m\u001b[0m\u001b[0m\n\u001b[0;32m--> 275\u001b[0;31m             \u001b[0mz_max\u001b[0m \u001b[0;34m=\u001b[0m \u001b[0mz_at_value\u001b[0m\u001b[0;34m(\u001b[0m\u001b[0mcosmo\u001b[0m\u001b[0;34m.\u001b[0m\u001b[0mluminosity_distance\u001b[0m\u001b[0;34m,\u001b[0m\u001b[0;34m(\u001b[0m\u001b[0;36m10\u001b[0m\u001b[0;34m**\u001b[0m\u001b[0mdists_max\u001b[0m\u001b[0;34m)\u001b[0m\u001b[0;34m*\u001b[0m\u001b[0mu\u001b[0m\u001b[0;34m.\u001b[0m\u001b[0mMpc\u001b[0m\u001b[0;34m)\u001b[0m\u001b[0;34m\u001b[0m\u001b[0;34m\u001b[0m\u001b[0m\n\u001b[0m\u001b[1;32m    276\u001b[0m             \u001b[0mz_max\u001b[0m \u001b[0;34m=\u001b[0m \u001b[0mnp\u001b[0m\u001b[0;34m.\u001b[0m\u001b[0mfloor\u001b[0m\u001b[0;34m(\u001b[0m\u001b[0mnp\u001b[0m\u001b[0;34m.\u001b[0m\u001b[0mlog10\u001b[0m\u001b[0;34m(\u001b[0m\u001b[0mz_max\u001b[0m\u001b[0;34m)\u001b[0m\u001b[0;34m)\u001b[0m\u001b[0;34m\u001b[0m\u001b[0;34m\u001b[0m\u001b[0m\n\u001b[1;32m    277\u001b[0m \u001b[0;34m\u001b[0m\u001b[0m\n",
      "\u001b[0;32m~/anaconda3/envs/gwent-dev/lib/python3.7/site-packages/astropy/cosmology/funcs.py\u001b[0m in \u001b[0;36mz_at_value\u001b[0;34m(func, fval, zmin, zmax, ztol, maxfun)\u001b[0m\n\u001b[1;32m    136\u001b[0m \u001b[0;34m\u001b[0m\u001b[0m\n\u001b[1;32m    137\u001b[0m     \u001b[0;32mif\u001b[0m \u001b[0mnp\u001b[0m\u001b[0;34m.\u001b[0m\u001b[0mallclose\u001b[0m\u001b[0;34m(\u001b[0m\u001b[0mzbest\u001b[0m\u001b[0;34m,\u001b[0m \u001b[0mzmax\u001b[0m\u001b[0;34m)\u001b[0m\u001b[0;34m:\u001b[0m\u001b[0;34m\u001b[0m\u001b[0;34m\u001b[0m\u001b[0m\n\u001b[0;32m--> 138\u001b[0;31m         raise CosmologyError(\"Best guess z is very close the upper z limit.\\n\"\n\u001b[0m\u001b[1;32m    139\u001b[0m                              \"Try re-running with a different zmax.\")\n\u001b[1;32m    140\u001b[0m     \u001b[0;32melif\u001b[0m \u001b[0mnp\u001b[0m\u001b[0;34m.\u001b[0m\u001b[0mallclose\u001b[0m\u001b[0;34m(\u001b[0m\u001b[0mzbest\u001b[0m\u001b[0;34m,\u001b[0m \u001b[0mzmin\u001b[0m\u001b[0;34m)\u001b[0m\u001b[0;34m:\u001b[0m\u001b[0;34m\u001b[0m\u001b[0;34m\u001b[0m\u001b[0m\n",
      "\u001b[0;31mCosmologyError\u001b[0m: Best guess z is very close the upper z limit.\nTry re-running with a different zmax."
     ]
    },
    {
     "data": {
      "image/png": "[encoded data removed]",
      "text/plain": [
       "<Figure size 720x576 with 2 Axes>"
      ]
     },
     "metadata": {
      "needs_background": "light"
     },
     "output_type": "display_data"
    }
   ],
   "source": [
    "HD.plotHD(source,instrument,var_x,sample_x,DL_max,DL_min=[sample_x_min,DL_min],DL_mid=[sample_x_mid,DL_mid],display=True,figloc=None,z_axis=True)"
   ]
  },
  {
   "cell_type": "code",
   "execution_count": 66,
   "metadata": {},
   "outputs": [],
   "source": [
    "def Get_rho_z(z,source,instrument):\n",
    "    setattr(source,'z',z)\n",
    "    source.Check_Freq_Evol()\n",
    "    if source.ismono: #Monochromatic Source\n",
    "        if hasattr(source,'h_gw'):\n",
    "            del source.h_gw\n",
    "        rho_z = snr.Calc_Mono_SNR(source,instrument)\n",
    "    else: #Chirping Source\n",
    "        if hasattr(source,'f'):\n",
    "            del source.f\n",
    "        if hasattr(source,'h_f'):\n",
    "            del source.h_f\n",
    "        rho_z = snr.Calc_Chirp_SNR(source,instrument)\n",
    "    return rho_z"
   ]
  },
  {
   "cell_type": "code",
   "execution_count": 67,
   "metadata": {
    "scrolled": true
   },
   "outputs": [],
   "source": [
    "rho_thresh = 5.0\n",
    "model = 2\n",
    "instrument = Get_Instrument(model)\n",
    "source = Get_Source(model)\n",
    "source.M = 1e10*u.Msun\n",
    "source.instrument = instrument\n",
    "z_range = np.logspace(-2,4,200)\n",
    "rho = np.zeros(len(z_range))\n",
    "for i,z in enumerate(z_range):\n",
    "    rho[i] = Get_rho_z(z,source,instrument)"
   ]
  },
  {
   "cell_type": "code",
   "execution_count": 68,
   "metadata": {},
   "outputs": [
    {
     "name": "stdout",
     "output_type": "stream",
     "text": [
      "[3784.08623378]\n"
     ]
    }
   ],
   "source": [
    "rho_interp = interp.InterpolatedUnivariateSpline(z_range,rho-rho_thresh)\n",
    "z_val = rho_interp.roots()\n",
    "print(z_val)"
   ]
  },
  {
   "cell_type": "code",
   "execution_count": 69,
   "metadata": {},
   "outputs": [
    {
     "data": {
      "image/png": "[encoded data removed]",
      "text/plain": [
       "<Figure size 432x288 with 1 Axes>"
      ]
     },
     "metadata": {
      "needs_background": "light"
     },
     "output_type": "display_data"
    }
   ],
   "source": [
    "rho_thresh = 5\n",
    "plt.figure()\n",
    "plt.plot(z_range,rho)\n",
    "plt.axhline(y=rho_thresh)\n",
    "plt.yscale('log')\n",
    "plt.xscale('log')\n",
    "plt.ylim([1e-1,1e3])\n",
    "plt.show()"
   ]
  },
  {
   "cell_type": "markdown",
   "metadata": {},
   "source": [
    "# Whole Hog creation of Horizon Distances"
   ]
  },
  {
   "cell_type": "code",
   "execution_count": 71,
   "metadata": {
    "scrolled": false
   },
   "outputs": [
    {
     "name": "stderr",
     "output_type": "stream",
     "text": [
      "/Users/andrewkaiser/anaconda3/envs/gwent-dev/lib/python3.7/site-packages/astropy/cosmology/funcs.py:122: UserWarning: fval is not bracketed by func(zmin) and func(zmax). This means either\n",
      "there is no solution, or that there is more than one solution between\n",
      "zmin and zmax satisfying fval = func(z).\n",
      "  zmin and zmax satisfying fval = func(z).\"\"\")\n"
     ]
    },
    {
     "ename": "CosmologyError",
     "evalue": "Best guess z is very close the upper z limit.\nTry re-running with a different zmax.",
     "output_type": "error",
     "traceback": [
      "\u001b[0;31m---------------------------------------------------------------------------\u001b[0m",
      "\u001b[0;31mCosmologyError\u001b[0m                            Traceback (most recent call last)",
      "\u001b[0;32m<ipython-input-71-c3303ce664a5>\u001b[0m in \u001b[0;36m<module>\u001b[0;34m\u001b[0m\n\u001b[1;32m      7\u001b[0m     \u001b[0mend\u001b[0m \u001b[0;34m=\u001b[0m \u001b[0mtime\u001b[0m\u001b[0;34m.\u001b[0m\u001b[0mtime\u001b[0m\u001b[0;34m(\u001b[0m\u001b[0;34m)\u001b[0m\u001b[0;34m\u001b[0m\u001b[0;34m\u001b[0m\u001b[0m\n\u001b[1;32m      8\u001b[0m     \u001b[0;31m#snr.Save_SNR(sample_x,sample_y,SNRMatrix,save_location,SNR_save_name,Sample_save_name)\u001b[0m\u001b[0;34m\u001b[0m\u001b[0;34m\u001b[0m\u001b[0;34m\u001b[0m\u001b[0m\n\u001b[0;32m----> 9\u001b[0;31m     \u001b[0mHD\u001b[0m\u001b[0;34m.\u001b[0m\u001b[0mplotHD\u001b[0m\u001b[0;34m(\u001b[0m\u001b[0msource\u001b[0m\u001b[0;34m,\u001b[0m\u001b[0minstrument\u001b[0m\u001b[0;34m,\u001b[0m\u001b[0mvar_x\u001b[0m\u001b[0;34m,\u001b[0m\u001b[0msample_x\u001b[0m\u001b[0;34m,\u001b[0m\u001b[0mDL_max\u001b[0m\u001b[0;34m,\u001b[0m\u001b[0mDL_min\u001b[0m\u001b[0;34m=\u001b[0m\u001b[0;34m[\u001b[0m\u001b[0msample_x_min\u001b[0m\u001b[0;34m,\u001b[0m\u001b[0mDL_min\u001b[0m\u001b[0;34m]\u001b[0m\u001b[0;34m,\u001b[0m\u001b[0mDL_mid\u001b[0m\u001b[0;34m=\u001b[0m\u001b[0;34m[\u001b[0m\u001b[0msample_x_mid\u001b[0m\u001b[0;34m,\u001b[0m\u001b[0mDL_mid\u001b[0m\u001b[0;34m]\u001b[0m\u001b[0;34m,\u001b[0m\u001b[0mdisplay\u001b[0m\u001b[0;34m=\u001b[0m\u001b[0;32mTrue\u001b[0m\u001b[0;34m,\u001b[0m\u001b[0mfigloc\u001b[0m\u001b[0;34m=\u001b[0m\u001b[0;32mNone\u001b[0m\u001b[0;34m,\u001b[0m\u001b[0mz_axis\u001b[0m\u001b[0;34m=\u001b[0m\u001b[0;32mTrue\u001b[0m\u001b[0;34m)\u001b[0m\u001b[0;34m\u001b[0m\u001b[0;34m\u001b[0m\u001b[0m\n\u001b[0m\u001b[1;32m     10\u001b[0m     \u001b[0mprint\u001b[0m\u001b[0;34m(\u001b[0m\u001b[0;34m'Model: '\u001b[0m\u001b[0;34m,\u001b[0m\u001b[0minstrument\u001b[0m\u001b[0;34m.\u001b[0m\u001b[0mname\u001b[0m\u001b[0;34m,\u001b[0m\u001b[0;34m','\u001b[0m\u001b[0;34m,\u001b[0m\u001b[0;34m' done. t = : '\u001b[0m\u001b[0;34m,\u001b[0m\u001b[0mend\u001b[0m\u001b[0;34m-\u001b[0m\u001b[0mstart\u001b[0m\u001b[0;34m)\u001b[0m\u001b[0;34m\u001b[0m\u001b[0;34m\u001b[0m\u001b[0m\n",
      "\u001b[0;32m~/Documents/GradSchool/Research/LisaParameterization/DetectorDesignSensitivities/Functions/HorizonDistance.py\u001b[0m in \u001b[0;36mplotHD\u001b[0;34m(source, instrument, var_x, sample_x, DL_array, DL_mid, DL_min, display, figloc, z_axis)\u001b[0m\n\u001b[1;32m    273\u001b[0m             \u001b[0mz_max\u001b[0m \u001b[0;34m=\u001b[0m \u001b[0;36m6.0\u001b[0m\u001b[0;34m\u001b[0m\u001b[0;34m\u001b[0m\u001b[0m\n\u001b[1;32m    274\u001b[0m         \u001b[0;32melse\u001b[0m\u001b[0;34m:\u001b[0m\u001b[0;34m\u001b[0m\u001b[0;34m\u001b[0m\u001b[0m\n\u001b[0;32m--> 275\u001b[0;31m             \u001b[0mz_max\u001b[0m \u001b[0;34m=\u001b[0m \u001b[0mz_at_value\u001b[0m\u001b[0;34m(\u001b[0m\u001b[0mcosmo\u001b[0m\u001b[0;34m.\u001b[0m\u001b[0mluminosity_distance\u001b[0m\u001b[0;34m,\u001b[0m\u001b[0;34m(\u001b[0m\u001b[0;36m10\u001b[0m\u001b[0;34m**\u001b[0m\u001b[0mdists_max\u001b[0m\u001b[0;34m)\u001b[0m\u001b[0;34m*\u001b[0m\u001b[0mu\u001b[0m\u001b[0;34m.\u001b[0m\u001b[0mMpc\u001b[0m\u001b[0;34m)\u001b[0m\u001b[0;34m\u001b[0m\u001b[0;34m\u001b[0m\u001b[0m\n\u001b[0m\u001b[1;32m    276\u001b[0m             \u001b[0mz_max\u001b[0m \u001b[0;34m=\u001b[0m \u001b[0mnp\u001b[0m\u001b[0;34m.\u001b[0m\u001b[0mfloor\u001b[0m\u001b[0;34m(\u001b[0m\u001b[0mnp\u001b[0m\u001b[0;34m.\u001b[0m\u001b[0mlog10\u001b[0m\u001b[0;34m(\u001b[0m\u001b[0mz_max\u001b[0m\u001b[0;34m)\u001b[0m\u001b[0;34m)\u001b[0m\u001b[0;34m\u001b[0m\u001b[0;34m\u001b[0m\u001b[0m\n\u001b[1;32m    277\u001b[0m \u001b[0;34m\u001b[0m\u001b[0m\n",
      "\u001b[0;32m~/anaconda3/envs/gwent-dev/lib/python3.7/site-packages/astropy/cosmology/funcs.py\u001b[0m in \u001b[0;36mz_at_value\u001b[0;34m(func, fval, zmin, zmax, ztol, maxfun)\u001b[0m\n\u001b[1;32m    136\u001b[0m \u001b[0;34m\u001b[0m\u001b[0m\n\u001b[1;32m    137\u001b[0m     \u001b[0;32mif\u001b[0m \u001b[0mnp\u001b[0m\u001b[0;34m.\u001b[0m\u001b[0mallclose\u001b[0m\u001b[0;34m(\u001b[0m\u001b[0mzbest\u001b[0m\u001b[0;34m,\u001b[0m \u001b[0mzmax\u001b[0m\u001b[0;34m)\u001b[0m\u001b[0;34m:\u001b[0m\u001b[0;34m\u001b[0m\u001b[0;34m\u001b[0m\u001b[0m\n\u001b[0;32m--> 138\u001b[0;31m         raise CosmologyError(\"Best guess z is very close the upper z limit.\\n\"\n\u001b[0m\u001b[1;32m    139\u001b[0m                              \"Try re-running with a different zmax.\")\n\u001b[1;32m    140\u001b[0m     \u001b[0;32melif\u001b[0m \u001b[0mnp\u001b[0m\u001b[0;34m.\u001b[0m\u001b[0mallclose\u001b[0m\u001b[0;34m(\u001b[0m\u001b[0mzbest\u001b[0m\u001b[0;34m,\u001b[0m \u001b[0mzmin\u001b[0m\u001b[0;34m)\u001b[0m\u001b[0;34m:\u001b[0m\u001b[0;34m\u001b[0m\u001b[0;34m\u001b[0m\u001b[0m\n",
      "\u001b[0;31mCosmologyError\u001b[0m: Best guess z is very close the upper z limit.\nTry re-running with a different zmax."
     ]
    },
    {
     "data": {
      "image/png": "[encoded data removed]",
      "text/plain": [
       "<Figure size 720x576 with 2 Axes>"
      ]
     },
     "metadata": {
      "needs_background": "light"
     },
     "output_type": "display_data"
    }
   ],
   "source": [
    "models = [2,3]\n",
    "for model in models:\n",
    "    instrument = Get_Instrument(model)\n",
    "    source = Get_Source(model)\n",
    "    start = time.time()\n",
    "    [sample_x,DL_max,sample_x_min,DL_min,sample_x_mid,DL_mid] = HD.getHorizonDistance(source,instrument,var_x,sampleRate_x,rho_thresh)\n",
    "    end = time.time()\n",
    "    #snr.Save_SNR(sample_x,sample_y,SNRMatrix,save_location,SNR_save_name,Sample_save_name)\n",
    "    HD.plotHD(source,instrument,var_x,sample_x,DL_max,DL_min=[sample_x_min,DL_min],DL_mid=[sample_x_mid,DL_mid],display=True,figloc=None,z_axis=True)\n",
    "    print('Model: ',instrument.name,',',' done. t = : ',end-start)"
   ]
  },
  {
   "cell_type": "code",
   "execution_count": null,
   "metadata": {},
   "outputs": [],
   "source": []
  }
 ],
 "metadata": {
  "kernelspec": {
   "display_name": "Python 3",
   "language": "python",
   "name": "python3"
  },
  "language_info": {
   "codemirror_mode": {
    "name": "ipython",
    "version": 3
   },
   "file_extension": ".py",
   "mimetype": "text/x-python",
   "name": "python",
   "nbconvert_exporter": "python",
   "pygments_lexer": "ipython3",
   "version": "3.7.4"
  }
 },
 "nbformat": 4,
 "nbformat_minor": 2
}
