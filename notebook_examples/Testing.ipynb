{
 "cells": [
  {
   "cell_type": "code",
   "execution_count": 16,
   "metadata": {},
   "outputs": [
    {
     "name": "stdout",
     "output_type": "stream",
     "text": [
      "The autoreload extension is already loaded. To reload it, use:\n",
      "  %reload_ext autoreload\n"
     ]
    }
   ],
   "source": [
    "%load_ext autoreload\n",
    "%autoreload 2"
   ]
  },
  {
   "cell_type": "code",
   "execution_count": 17,
   "metadata": {},
   "outputs": [],
   "source": [
    "import numpy as np\n",
    "import matplotlib.pyplot as plt\n",
    "from matplotlib import rc\n",
    "import astropy.constants as const\n",
    "import os, sys, time\n",
    "import astropy.units as u\n",
    "from fractions import Fraction"
   ]
  },
  {
   "cell_type": "code",
   "execution_count": 18,
   "metadata": {},
   "outputs": [],
   "source": [
    "rc('text',usetex=True)\n",
    "rc('font',**{'family':'serif','serif':['Times New Roman'],'size':14})#,'weight':'bold'})"
   ]
  },
  {
   "cell_type": "code",
   "execution_count": 19,
   "metadata": {},
   "outputs": [],
   "source": [
    "current_path = os.getcwd()\n",
    "splt_path = current_path.split(\"/\")\n",
    "top_path_idx = splt_path.index('DetectorDesignSensitivities')\n",
    "top_directory = \"/\".join(splt_path[0:top_path_idx+1])\n",
    "load_directory = top_directory + '/LoadFiles/InstrumentFiles/'\n",
    "\n",
    "sys.path.insert(0,top_directory + '/Functions')\n",
    "import StrainandNoise as SnN\n",
    "import StrainandNoise_v2 as SnN_v2\n",
    "import SNRcalc as SNc\n",
    "import SNRcalc_v2 as SNc_v2"
   ]
  },
  {
   "cell_type": "code",
   "execution_count": 77,
   "metadata": {},
   "outputs": [],
   "source": [
    "Nanograv = SnN_v2.PTA('NANOGrav')"
   ]
  },
  {
   "cell_type": "code",
   "execution_count": 79,
   "metadata": {},
   "outputs": [],
   "source": [
    "Nanograv.Defaut_Setup()"
   ]
  },
  {
   "cell_type": "code",
   "execution_count": 81,
   "metadata": {},
   "outputs": [
    {
     "name": "stdout",
     "output_type": "stream",
     "text": [
      "NANOGrav\n",
      "{'T_obs': {'val': <Quantity 1.57788e+08 s>, 'min': <Quantity 3.15576e+08 s>, 'max': <Quantity 9.46728e+08 s>}, 'N_p': {'val': 30, 'min': 18, 'max': 45}, 'rms': {'val': <Quantity 1.e-07 s>, 'min': <Quantity 1.e-08 s>, 'max': <Quantity 1.5e-07 s>}, 'cadence': {'val': <Quantity 8.26719577e-07 1 / s>, 'min': <Quantity 1.65343915e-06 1 / s>, 'max': <Quantity 4.13359788e-07 1 / s>}}\n"
     ]
    }
   ],
   "source": [
    "print(Nanograv.name)\n",
    "print(Nanograv.inst_var_dict)"
   ]
  },
  {
   "cell_type": "code",
   "execution_count": 97,
   "metadata": {},
   "outputs": [],
   "source": [
    "LISA = SnN_v2.SpaceBased('LISA')"
   ]
  },
  {
   "cell_type": "code",
   "execution_count": 98,
   "metadata": {},
   "outputs": [],
   "source": [
    "LISA.Default_Setup()"
   ]
  },
  {
   "cell_type": "code",
   "execution_count": 99,
   "metadata": {},
   "outputs": [
    {
     "name": "stdout",
     "output_type": "stream",
     "text": [
      "{'T_obs': {'val': <Quantity 1.262304e+08 s>, 'min': None, 'max': None}, 'L': {'val': <Quantity 2.5e+09 m>, 'min': None, 'max': None}, 'A_acc': {'val': <Quantity 3.e-15 m / s2>, 'min': None, 'max': None}, 'f_acc_break_low': {'val': <Quantity 0.0004 Hz>, 'min': None, 'max': None}, 'f_acc_break_high': {'val': <Quantity 0.008 Hz>, 'min': None, 'max': None}, 'A_IMS': {'val': <Quantity 1.e-11 m>, 'min': None, 'max': None}, 'f_IMS_break': {'val': <Quantity 0.002 Hz>, 'min': None, 'max': None}}\n"
     ]
    }
   ],
   "source": [
    "print(LISA.inst_var_dict)"
   ]
  },
  {
   "cell_type": "code",
   "execution_count": 100,
   "metadata": {},
   "outputs": [
    {
     "name": "stdout",
     "output_type": "stream",
     "text": [
      "0.008 Hz\n"
     ]
    }
   ],
   "source": [
    "print(LISA.Get_Param_Dict('f_acc_break_high')['val'])"
   ]
  },
  {
   "cell_type": "code",
   "execution_count": null,
   "metadata": {},
   "outputs": [],
   "source": []
  }
 ],
 "metadata": {
  "kernelspec": {
   "display_name": "Python 3",
   "language": "python",
   "name": "python3"
  },
  "language_info": {
   "codemirror_mode": {
    "name": "ipython",
    "version": 3
   },
   "file_extension": ".py",
   "mimetype": "text/x-python",
   "name": "python",
   "nbconvert_exporter": "python",
   "pygments_lexer": "ipython3",
   "version": "3.6.5"
  }
 },
 "nbformat": 4,
 "nbformat_minor": 2
}
