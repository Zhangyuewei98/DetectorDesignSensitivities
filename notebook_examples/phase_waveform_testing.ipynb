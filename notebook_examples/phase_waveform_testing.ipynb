{
 "cells": [
  {
   "cell_type": "markdown",
   "metadata": {},
   "source": [
    "# Using `gwent` to Generate Characteristic Strain Curves"
   ]
  },
  {
   "cell_type": "markdown",
   "metadata": {},
   "source": [
    "Here we show examples of using the different classes in `gwent` for various detectors, both loading in from a file and generating with `gwent`, and binary black holes, both in the frequency and time domain.\n",
    "\n",
    "First, we load important packages"
   ]
  },
  {
   "cell_type": "code",
   "execution_count": 1,
   "metadata": {},
   "outputs": [],
   "source": [
    "%load_ext autoreload\n",
    "%autoreload 2"
   ]
  },
  {
   "cell_type": "code",
   "execution_count": 2,
   "metadata": {},
   "outputs": [],
   "source": [
    "import numpy as np\n",
    "import os,sys\n",
    "\n",
    "import matplotlib as mpl\n",
    "import matplotlib.pyplot as plt\n",
    "import matplotlib.colors as colors\n",
    "from matplotlib import cm\n",
    "from matplotlib.legend_handler import HandlerNpoints, HandlerTuple\n",
    "\n",
    "from scipy.constants import golden_ratio\n",
    "\n",
    "import astropy.constants as const\n",
    "import astropy.units as u\n",
    "from astropy.cosmology import z_at_value\n",
    "from astropy.cosmology import WMAP9 as cosmo\n",
    "\n",
    "current_path = os.getcwd()\n",
    "splt_path = current_path.split(\"/\")\n",
    "top_path_idx = splt_path.index('Research')\n",
    "save_path_idx = splt_path.index('DetectorDesignSensitivities')\n",
    "save_directory = \"/\".join(splt_path[0:save_path_idx+1])\n",
    "top_directory = \"/\".join(splt_path[0:top_path_idx+1])\n",
    "\n",
    "gwent_path = top_directory + '/gwent/'\n",
    "phase_waveform_path = save_directory + '/Functions/'\n",
    "\n",
    "sys.path.insert(0,gwent_path)\n",
    "sys.path.insert(0,phase_waveform_path)\n",
    "\n",
    "import waveform_Wphase as wwp\n",
    "import gwent\n",
    "import gwent.detector as detector\n",
    "import gwent.binary as binary"
   ]
  },
  {
   "cell_type": "markdown",
   "metadata": {},
   "source": [
    "Setting matplotlib and plotting preferences"
   ]
  },
  {
   "cell_type": "code",
   "execution_count": 3,
   "metadata": {},
   "outputs": [],
   "source": [
    "def get_fig_size(width=7.,scale=1.0):\n",
    "    #width = 3.36 # 242 pt\n",
    "    base_size = np.array([1, 1/scale/golden_ratio])\n",
    "    fig_size = width * base_size\n",
    "    return(fig_size)\n",
    "mpl.rcParams['figure.dpi'] = 160\n",
    "mpl.rcParams['figure.figsize'] = get_fig_size()\n",
    "mpl.rcParams['text.usetex'] = True\n",
    "mpl.rc('font',**{'family':'serif','serif':['Times New Roman']})\n",
    "mpl.rcParams['lines.linewidth'] = 2\n",
    "mpl.rcParams['axes.labelsize'] = 12\n",
    "mpl.rcParams['xtick.labelsize'] = 12\n",
    "mpl.rcParams['ytick.labelsize'] = 12\n",
    "mpl.rcParams['legend.fontsize'] = 10\n",
    "colornorm = colors.Normalize(vmin=0.0, vmax=5.0)"
   ]
  },
  {
   "cell_type": "markdown",
   "metadata": {},
   "source": [
    "We need to get the file directories to load in the instrument files."
   ]
  },
  {
   "cell_type": "code",
   "execution_count": 4,
   "metadata": {},
   "outputs": [],
   "source": [
    "load_directory = gwent.__path__[0] + '/LoadFiles'\n",
    "save_directory += '/Figures/'"
   ]
  },
  {
   "cell_type": "markdown",
   "metadata": {},
   "source": [
    "## Generating LISA designs with `gwent`\n",
    "\n",
    "First we set a fiducial armlength and observation time-length"
   ]
  },
  {
   "cell_type": "code",
   "execution_count": 5,
   "metadata": {},
   "outputs": [],
   "source": [
    "L = 2.5*u.Gm  #armlength in Gm\n",
    "L = L.to('m')\n",
    "LISA_T_obs = 4*u.yr"
   ]
  },
  {
   "cell_type": "markdown",
   "metadata": {},
   "source": [
    "#### LISA Proposal 1\n",
    "\n",
    "Values taken from the ESA L3 proposal, Amaro-Seaone, et al., 2017 (https://arxiv.org/abs/1702.00786)"
   ]
  },
  {
   "cell_type": "code",
   "execution_count": 6,
   "metadata": {},
   "outputs": [],
   "source": [
    "f_acc_break_low = .4*u.mHz.to('Hz')*u.Hz\n",
    "f_acc_break_high = 8.*u.mHz.to('Hz')*u.Hz\n",
    "f_IMS_break = 2.*u.mHz.to('Hz')*u.Hz\n",
    "A_acc = 3e-15*u.m/u.s/u.s\n",
    "A_IMS = 10e-12*u.m\n",
    "\n",
    "Background = False\n",
    "\n",
    "LISA_prop1 = detector.SpaceBased('LISA',\\\n",
    "                          LISA_T_obs,L,A_acc,f_acc_break_low,f_acc_break_high,A_IMS,f_IMS_break,\\\n",
    "                          Background=Background)"
   ]
  },
  {
   "cell_type": "markdown",
   "metadata": {},
   "source": [
    "## Generating Binary Black Holes with `gwent` in the Frequency Domain\n",
    "\n",
    "We start with BBH parameters that exemplify the range of IMRPhenomD's waveforms from Khan, et al. 2016 https://arxiv.org/abs/1508.07253 and Husa, et al. 2016 https://arxiv.org/abs/1508.07250 "
   ]
  },
  {
   "cell_type": "code",
   "execution_count": 7,
   "metadata": {},
   "outputs": [],
   "source": [
    "M = [1e6,65.0,1e10]\n",
    "q = [1.0,18.0,1.0]\n",
    "x1 = [0.95,0.0,-0.95]\n",
    "x2 = [0.95,0.0,-0.95]\n",
    "z = [3.0,0.093,20.0]"
   ]
  },
  {
   "cell_type": "markdown",
   "metadata": {},
   "source": [
    "Uses the first parameter values and the `LISA_prop1` detector model for calculation of the monochromatic strain."
   ]
  },
  {
   "cell_type": "code",
   "execution_count": 8,
   "metadata": {},
   "outputs": [],
   "source": [
    "source_1 = binary.BBHFrequencyDomain(M[0],q[0],z[0],x1[0],x2[0],instrument=LISA_prop1)\n",
    "source_1 = binary.BBHFrequencyDomain(M[0],q[0],z[1],x1[2],x2[2],instrument=LISA_prop1)"
   ]
  },
  {
   "cell_type": "code",
   "execution_count": 9,
   "metadata": {},
   "outputs": [],
   "source": [
    "def waveform_stuff(source,t_c,phi_c,sigma_0):\n",
    "    f_low = 1e-3\n",
    "    N = source.nfreqs\n",
    "    q = source.q\n",
    "    x1 = source.chi1\n",
    "    x2 = source.chi2\n",
    "    fitcoeffs = source._fitcoeffs\n",
    "\n",
    "    #M = m1+m2 #Total Mass\n",
    "    #q = m2/m1 #Mass Ratio: Paper tested up to 18\n",
    "    #eta = m1*m2/M**2 reduced mass: Paper tested up to 0.05 (q=18)\n",
    "    eta = q/(q+1)**2\n",
    "    x_PN = wwp.chi_PN(eta,x1,x2) #PN reduced spin parameter\n",
    "    a_f = wwp.a_final(x1,x2,q,eta) #dimensionless spin\n",
    "\n",
    "    ##################\n",
    "    #Finds f_ringdown and f_damp from fit taken from <https://arxiv.org/abs/gr-qc/0512160>\n",
    "    n = 0      #QNM indices\n",
    "    l = 2\n",
    "    m = 2\n",
    "    numn = 3   #number of n's included in the table\n",
    "\n",
    "    index = (l-2)*(2*l+1)*numn + (l-m)*numn + n\n",
    "    f_fit = fitcoeffs[index][3:6]\n",
    "    q_fit = fitcoeffs[index][6:9]\n",
    "\n",
    "    omega_RD = f_fit[0]+f_fit[1]*(1-a_f)**f_fit[2]          #M omega_{lmn}\n",
    "    tau = 2*(q_fit[0]+q_fit[1]*(1-a_f)**q_fit[2])/omega_RD  #tau_{lmn}/M = 2 Q_{lmn}/(M omega_{lmn})\n",
    "    ########################\n",
    "    f_RD = omega_RD/2/np.pi\n",
    "    f_damp = 1/tau/2/np.pi\n",
    "\n",
    "    Gamma1 = wwp.Lambda(eta,x_PN,4)\n",
    "    Gamma2 = wwp.Lambda(eta,x_PN,5)\n",
    "    Gamma3 = wwp.Lambda(eta,x_PN,6)\n",
    "\n",
    "    f_peak = wwp.Calc_f_peak(f_RD,f_damp,[Gamma1,Gamma2,Gamma3])\n",
    "\n",
    "    f1 = 0.014\n",
    "    f3 = f_peak\n",
    "    f2 = (f1+f3)/2\n",
    "\n",
    "    f1_phase = 0.018\n",
    "    f2_phase = 0.5*f_RD\n",
    "\n",
    "    #cutoffFreq = wwp.Find_Cutoff_Freq(f_RD,f_damp,[Gamma1,Gamma2,Gamma3],pct_of_peak=0.01)\n",
    "    cutoffFreq = 0.5\n",
    "    #If lowest frequency is greater than cutoffFreq, then raise error.\n",
    "    if f_low >= cutoffFreq:\n",
    "        raise ValueError('Lower frequency bound (ie. f_low) must be lower than that of the merger ringdown.')\n",
    "\n",
    "    Mf = np.logspace(np.log10(f_low),np.log10(cutoffFreq),N)\n",
    "    #Mf_phase = np.logspace(log10(0.0035),log10(1.15*f_RD),N)\n",
    "    #Mf_phase = np.logspace(log10(0.0035),log10(0.12),N)\n",
    "\n",
    "    v1 = wwp.A_insp(f1,eta,x1,x2,x_PN)\n",
    "    v2 = wwp.Lambda(eta,x_PN,3)\n",
    "    v3 = wwp.A_MR(f3,f_RD,f_damp,[Gamma1,Gamma2,Gamma3])\n",
    "    fund1 = wwp.DA_insp(f1,eta,x1,x2,x_PN)\n",
    "    fund3 = wwp.DA_MR(f3,f_RD,f_damp,[Gamma1,Gamma2,Gamma3])\n",
    "\n",
    "    #############################\n",
    "    #Calculate Solutions to eqn 21 in intermediate region\n",
    "    Del_solns = wwp.A_intermediate(f1,f2,f3,v1,v2,v3,fund1,fund3) # Solutions to eqn 21\n",
    "\n",
    "    ##############################\n",
    "    #Calculate all sections of waveform and Paste together\n",
    "    indxf1 = np.argmin(np.abs(Mf-f1))\n",
    "    indxfpeak = np.argmin(np.abs(Mf-f_peak))\n",
    "\n",
    "    tmpinspiral = wwp.A_norm(Mf[0:indxf1+1],eta)*wwp.A_insp(Mf[0:indxf1+1],eta,x1,x2,x_PN)\n",
    "    tmpintermediate = wwp.A_norm(Mf[indxf1+1:indxfpeak],eta)*wwp.A_int(Mf[indxf1+1:indxfpeak],Del_solns)\n",
    "    tmpmergerringdown = wwp.A_norm(Mf[indxfpeak:],eta)*wwp.A_MR(Mf[indxfpeak:],f_RD,f_damp,[Gamma1,Gamma2,Gamma3])\n",
    "    fullwaveform = np.hstack((tmpinspiral,tmpintermediate,tmpmergerringdown))\n",
    "\n",
    "    ##############################\n",
    "    #Calculate all section of waveform Phase\n",
    "    indxf1_phase = np.argmin(np.abs(Mf-f1_phase))\n",
    "    indxf2_phase = np.argmin(np.abs(Mf-f2_phase))\n",
    "\n",
    "    #tc=0.0\n",
    "    #phi_c = 0.0\n",
    "\n",
    "    ##############################\n",
    "    #Calculate Phase connections alpha0 and Beta0:\n",
    "    dphi_ins = wwp.Dphi_ins(f1_phase,eta,x1,x2,x_PN,t_c)\n",
    "    phi_ins = wwp.Phi_ins(f1_phase,eta,x1,x2,x_PN,t_c,phi_c,sigma_0)\n",
    "\n",
    "    beta1 = eta*dphi_ins - wwp.Dphi_int(f1_phase,eta,x_PN,0.0)\n",
    "    beta0 = eta*phi_ins - wwp.Phi_int(f1_phase,eta,x_PN,beta1,0.0)\n",
    "    alpha1 = wwp.Dphi_int(f2_phase,eta,x_PN,beta1) - wwp.Dphi_MR(f2_phase,eta,x_PN,f_RD,f_damp,0.0)\n",
    "    alpha0 = wwp.Phi_int(f2_phase,eta,x_PN,beta1,beta0) - wwp.Phi_MR(f2_phase,eta,x_PN,f_RD,f_damp,alpha1,0.0)\n",
    "\n",
    "\n",
    "    dinspiral_phase = wwp.Dphi_ins(Mf[:indxf1_phase+1],eta,x1,x2,x_PN,t_c) \n",
    "    dintermediate_phase = (1/eta)*wwp.Dphi_int(Mf[indxf1_phase+1:indxf2_phase],eta,x_PN,beta1) \n",
    "    dmerger_ringdown_phase = (1/eta)*wwp.Dphi_MR(Mf[indxf2_phase:],eta,x_PN,f_RD,f_damp,alpha1) \n",
    "\n",
    "\n",
    "    inspiral_phase = wwp.Phi_ins(Mf[:indxf1_phase+1],eta,x1,x2,x_PN,t_c,phi_c,sigma_0) \n",
    "    intermediate_phase = (1/eta)*wwp.Phi_int(Mf[indxf1_phase+1:indxf2_phase],eta,x_PN,beta1,beta0) \n",
    "    merger_ringdown_phase = (1/eta)*wwp.Phi_MR(Mf[indxf2_phase:],eta,x_PN,f_RD,f_damp,alpha1,alpha0) \n",
    "\n",
    "    ############################\n",
    "    #Join subsections of phase and amplitude \n",
    "    fullphase = np.hstack((inspiral_phase,intermediate_phase,merger_ringdown_phase))\n",
    "    return [Mf,fullwaveform,fullphase,\n",
    "            dinspiral_phase,dintermediate_phase,\n",
    "            dmerger_ringdown_phase,f_RD,indxf1_phase,indxf2_phase]"
   ]
  },
  {
   "cell_type": "code",
   "execution_count": 42,
   "metadata": {},
   "outputs": [
    {
     "name": "stdout",
     "output_type": "stream",
     "text": [
      "[550 570 590 610]\n"
     ]
    }
   ],
   "source": [
    "#t_cs = [1e3,500.,100.,50.,0.,-50.,-100.,-500.,-1e3]\n",
    "t_cs = np.arange(550,620,20)\n",
    "print(t_cs)\n",
    "#phi_cs = [0.,np.pi/2,np.pi,3*np.pi/2,2*np.pi]\n",
    "phi_cs = [0.]\n",
    "sigma_0 = 0.0"
   ]
  },
  {
   "cell_type": "code",
   "execution_count": 43,
   "metadata": {},
   "outputs": [],
   "source": [
    "returns = []\n",
    "#[f,h,fp,dinspiral_phase,\n",
    "#     dintermediate_phase,\n",
    "#     dmerger_ringdown_phase,\n",
    "#     indxf1_phase,indxf2_phase]\n",
    "for t_c in t_cs:\n",
    "    for phi_c in phi_cs:\n",
    "        returns.append(waveform_stuff(source_1,t_c,phi_c,sigma_0))"
   ]
  },
  {
   "cell_type": "code",
   "execution_count": 44,
   "metadata": {},
   "outputs": [
    {
     "data": {
      "image/png": "[encoded data removed]",
      "text/plain": [
       "<Figure size 1120x692.198 with 1 Axes>"
      ]
     },
     "metadata": {
      "needs_background": "light"
     },
     "output_type": "display_data"
    }
   ],
   "source": [
    "#plt.loglog(f,strain)\n",
    "#plt.show()\n",
    "for i in range(len(t_cs)):\n",
    "    plt.loglog(returns[i][0][:returns[i][-2]+1],-returns[i][3],label='tc = {}'.format(t_cs[i]))\n",
    "    plt.loglog(returns[i][0][returns[i][-2]+1:returns[i][-1]],-returns[i][4])\n",
    "    plt.loglog(returns[i][0][returns[i][-1]:],-returns[i][5])\n",
    "plt.legend()\n",
    "plt.axvline(x=0.018,linestyle='--',color='k')\n",
    "plt.axvline(x=returns[0][-3],linestyle='--',color='k')\n",
    "plt.xlim([0.003,0.2])\n",
    "plt.ylim([1,1e5])\n",
    "plt.xlabel(r'$Mf$')\n",
    "plt.ylabel(r'$-\\phi^\\prime$')\n",
    "#plt.loglog(Mf,fullphase)\n",
    "plt.show()"
   ]
  },
  {
   "cell_type": "code",
   "execution_count": 28,
   "metadata": {},
   "outputs": [
    {
     "ename": "NameError",
     "evalue": "name 'Mf' is not defined",
     "output_type": "error",
     "traceback": [
      "\u001b[0;31m---------------------------------------------------------------------------\u001b[0m",
      "\u001b[0;31mNameError\u001b[0m                                 Traceback (most recent call last)",
      "\u001b[0;32m<ipython-input-28-7d008e8bb75f>\u001b[0m in \u001b[0;36m<module>\u001b[0;34m\u001b[0m\n\u001b[1;32m      1\u001b[0m \u001b[0;31m#plt.loglog(f,strain)\u001b[0m\u001b[0;34m\u001b[0m\u001b[0;34m\u001b[0m\u001b[0;34m\u001b[0m\u001b[0m\n\u001b[1;32m      2\u001b[0m \u001b[0;31m#plt.show()\u001b[0m\u001b[0;34m\u001b[0m\u001b[0;34m\u001b[0m\u001b[0;34m\u001b[0m\u001b[0m\n\u001b[0;32m----> 3\u001b[0;31m \u001b[0mplt\u001b[0m\u001b[0;34m.\u001b[0m\u001b[0mloglog\u001b[0m\u001b[0;34m(\u001b[0m\u001b[0mMf\u001b[0m\u001b[0;34m[\u001b[0m\u001b[0;34m:\u001b[0m\u001b[0mindxf1_phase\u001b[0m\u001b[0;34m+\u001b[0m\u001b[0;36m1\u001b[0m\u001b[0;34m]\u001b[0m\u001b[0;34m,\u001b[0m\u001b[0minspiral_phase\u001b[0m\u001b[0;34m)\u001b[0m\u001b[0;34m\u001b[0m\u001b[0;34m\u001b[0m\u001b[0m\n\u001b[0m\u001b[1;32m      4\u001b[0m \u001b[0mplt\u001b[0m\u001b[0;34m.\u001b[0m\u001b[0mloglog\u001b[0m\u001b[0;34m(\u001b[0m\u001b[0mMf\u001b[0m\u001b[0;34m[\u001b[0m\u001b[0mindxf1_phase\u001b[0m\u001b[0;34m+\u001b[0m\u001b[0;36m1\u001b[0m\u001b[0;34m:\u001b[0m\u001b[0mindxf2_phase\u001b[0m\u001b[0;34m]\u001b[0m\u001b[0;34m,\u001b[0m\u001b[0mintermediate_phase\u001b[0m\u001b[0;34m)\u001b[0m\u001b[0;34m\u001b[0m\u001b[0;34m\u001b[0m\u001b[0m\n\u001b[1;32m      5\u001b[0m \u001b[0mplt\u001b[0m\u001b[0;34m.\u001b[0m\u001b[0mloglog\u001b[0m\u001b[0;34m(\u001b[0m\u001b[0mMf\u001b[0m\u001b[0;34m[\u001b[0m\u001b[0mindxf2_phase\u001b[0m\u001b[0;34m:\u001b[0m\u001b[0;34m]\u001b[0m\u001b[0;34m,\u001b[0m\u001b[0mmerger_ringdown_phase\u001b[0m\u001b[0;34m)\u001b[0m\u001b[0;34m\u001b[0m\u001b[0;34m\u001b[0m\u001b[0m\n",
      "\u001b[0;31mNameError\u001b[0m: name 'Mf' is not defined"
     ]
    }
   ],
   "source": [
    "#plt.loglog(f,strain)\n",
    "#plt.show()\n",
    "plt.loglog(Mf[:indxf1_phase+1],inspiral_phase)\n",
    "plt.loglog(Mf[indxf1_phase+1:indxf2_phase],intermediate_phase)\n",
    "plt.loglog(Mf[indxf2_phase:],merger_ringdown_phase)\n",
    "#plt.loglog(Mf,fullphase)\n",
    "plt.show()"
   ]
  },
  {
   "cell_type": "code",
   "execution_count": null,
   "metadata": {},
   "outputs": [],
   "source": [
    "plt.loglog(f,strain)\n",
    "plt.axvline(x=0.018,linestyle='--',color='k')\n",
    "plt.axvline(x=f_RD,linestyle='--',color='k')\n",
    "plt.xlim([0.003,0.2])\n",
    "plt.ylim([1,1e5])\n",
    "plt.show()\n",
    "plt.loglog(Mf,fullphase)\n",
    "plt.axvline(x=0.018,linestyle='--',color='k')\n",
    "plt.axvline(x=f_RD,linestyle='--',color='k')\n",
    "plt.xlim([0.003,0.2])\n",
    "plt.ylim([1,1e5])\n",
    "plt.show()"
   ]
  },
  {
   "cell_type": "code",
   "execution_count": null,
   "metadata": {},
   "outputs": [],
   "source": []
  },
  {
   "cell_type": "markdown",
   "metadata": {},
   "source": [
    "Uses the first parameter values and the `aLIGO` detector model for calculation of the monochromatic strain."
   ]
  },
  {
   "cell_type": "code",
   "execution_count": null,
   "metadata": {},
   "outputs": [],
   "source": [
    "source_2 = binary.BBHFrequencyDomain(M[1],q[1],z[1],x1[1],x2[1],instrument=aLIGO_1)"
   ]
  },
  {
   "cell_type": "markdown",
   "metadata": {},
   "source": [
    "Uses the first parameter values and the `SKA_WN` detector model for calculation of the monochromatic strain."
   ]
  },
  {
   "cell_type": "code",
   "execution_count": null,
   "metadata": {},
   "outputs": [],
   "source": [
    "source_3 = binary.BBHFrequencyDomain(M[2],q[2],z[2],x1[2],x2[2],instrument=SKA_WN)"
   ]
  },
  {
   "cell_type": "markdown",
   "metadata": {},
   "source": [
    "Uses the first parameter values and the `ET` detector model for calculation of the monochromatic strain."
   ]
  },
  {
   "cell_type": "code",
   "execution_count": null,
   "metadata": {},
   "outputs": [],
   "source": [
    "source_4 = binary.BBHFrequencyDomain(M[1],q[0],z[1],x1[1],x2[1],instrument=ET_D)"
   ]
  },
  {
   "cell_type": "code",
   "execution_count": null,
   "metadata": {},
   "outputs": [],
   "source": [
    "t_year = u.yr.to('s')*u.s\n",
    "t_200_year = 200.*t_year"
   ]
  },
  {
   "cell_type": "code",
   "execution_count": null,
   "metadata": {},
   "outputs": [],
   "source": [
    "source_6_q1_1 = binary.BBHFrequencyDomain(1e5,1.0,1.0,0.0,0.0,instrument=LISA_prop1)\n",
    "source_6_q1_2 = binary.BBHFrequencyDomain(1e5,1.0,1.0,-0.95,-0.95,instrument=LISA_prop1)\n",
    "source_6_q1_3 = binary.BBHFrequencyDomain(1e5,1.0,1.0,0.95,0.95,instrument=LISA_prop1)\n",
    "\n",
    "source_6_q18_1 = binary.BBHFrequencyDomain(1e5,18.0,1.0,0.0,0.0,instrument=LISA_prop1)\n",
    "source_6_q18_2 = binary.BBHFrequencyDomain(1e5,18.0,1.0,-0.95,-0.95,instrument=LISA_prop1)\n",
    "source_6_q18_3 = binary.BBHFrequencyDomain(1e5,18.0,1.0,0.95,0.95,instrument=LISA_prop1)\n",
    "\n",
    "source_8 = binary.BBHFrequencyDomain(1e2,1.0,1.0,0.0,0.0,instrument=LISA_prop1)\n",
    "source_9 = binary.BBHFrequencyDomain(1e8,1.0,0.1,0.0,0.0,instrument=NANOGrav_WN)"
   ]
  },
  {
   "cell_type": "markdown",
   "metadata": {},
   "source": [
    "#### Plot different binaries"
   ]
  },
  {
   "cell_type": "markdown",
   "metadata": {},
   "source": [
    "## Plots of Entire GW Band\n",
    "\n",
    "Displays only generated detectors: WN only PTAs, ESA L3 proposal LISA, aLIGO, and Einstein Telescope.\n",
    "\n",
    "Displays three sources' waveform along with their monochromatic strain if they were observed by the initialized instrument at the detector's most sensitive frequency throughout its observing run (from left to right: `SKA_WN`,`LISA_prop1`,`ET`)."
   ]
  },
  {
   "cell_type": "code",
   "execution_count": null,
   "metadata": {},
   "outputs": [],
   "source": [
    "fig,ax = plt.subplots()\n",
    "\n",
    "#p_i_n, = ax.loglog(SKA_WN.fT,SKA_WN.h_n_f,color = cm.hsv(colornorm(0.5)),label = 'IPTA ~2030s')\n",
    "p_i_n, = ax.loglog(NANOGrav_11yr_hasasia.fT,NANOGrav_11yr_hasasia.h_n_f, color = cm.hsv(colornorm(0.5)))\n",
    "p_i_l, = ax.loglog(LISA_prop1.fT,LISA_prop1.h_n_f, color = cm.hsv(colornorm(1.75)))\n",
    "p_i_a, = ax.loglog(aLIGO_1.fT,aLIGO_1.h_n_f,color = cm.hsv(colornorm(2.8)))\n",
    "#ax.loglog(ET.fT,ET.h_n_f,color = cm.hsv(colornorm(2.5)),label = 'Einstein Telescope')\n",
    "\n",
    "xlabel_min = -10\n",
    "xlabel_max = 4\n",
    "xlabels = np.arange(xlabel_min,xlabel_max+1)\n",
    "xlabels = xlabels[1::]\n",
    "\n",
    "ax.set_xticks(10.**xlabels)\n",
    "print_xlabels = []\n",
    "for x in xlabels:\n",
    "    if abs(x) > 1:\n",
    "        print_xlabels.append(r'$10^{%i}$' %x)\n",
    "    elif x == -1:\n",
    "        print_xlabels.append(r'$%.1f$' %10.**x)\n",
    "    else:\n",
    "        print_xlabels.append(r'$%.0f$' %10.**x)\n",
    "ax.set_xticklabels([label for label in print_xlabels])\n",
    "\n",
    "ax.set_xlim([5e-10, 7e3])\n",
    "ax.set_ylim([3e-23, 4e-12])\n",
    "\n",
    "ax.set_xlabel('Frequency [Hz]')\n",
    "ax.set_ylabel('Characteristic Strain')\n",
    "ax.legend([p_i_n,p_i_l,p_i_a,(p_s_8_l, p_s_8_p),(p_s_9_l, p_s_9_p)],\n",
    "              ['NANOGrav: 11yr Data','LISA','aLIGO',\n",
    "               r'$M = 10^{%.0f}$ $\\mathrm{M}_{\\odot}$, $z = %.1f$' %(np.log10(source_8.M.value),source_8.z),\n",
    "               r'$M = 10^{%.0f}$ $\\mathrm{M}_{\\odot}$, $z = %.1f$' %(np.log10(source_9.M.value),source_9.z)],\n",
    "              numpoints=1, handler_map={tuple: HandlerTuple(ndivide=None)},loc='upper right')\n",
    "fig.savefig(save_directory+'detector_source_overlap.pdf',bbox_inches='tight')\n",
    "plt.show()"
   ]
  },
  {
   "cell_type": "code",
   "execution_count": null,
   "metadata": {},
   "outputs": [],
   "source": []
  }
 ],
 "metadata": {
  "kernelspec": {
   "display_name": "Python 3",
   "language": "python",
   "name": "python3"
  },
  "language_info": {
   "codemirror_mode": {
    "name": "ipython",
    "version": 3
   },
   "file_extension": ".py",
   "mimetype": "text/x-python",
   "name": "python",
   "nbconvert_exporter": "python",
   "pygments_lexer": "ipython3",
   "version": "3.7.4"
  }
 },
 "nbformat": 4,
 "nbformat_minor": 2
}
