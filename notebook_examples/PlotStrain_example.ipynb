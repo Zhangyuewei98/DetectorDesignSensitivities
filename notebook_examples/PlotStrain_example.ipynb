{
 "cells": [
  {
   "cell_type": "code",
   "execution_count": 2,
   "metadata": {},
   "outputs": [],
   "source": [
    "%load_ext autoreload\n",
    "%autoreload 2"
   ]
  },
  {
   "cell_type": "code",
   "execution_count": 5,
   "metadata": {},
   "outputs": [],
   "source": [
    "import numpy as np\n",
    "import matplotlib.pyplot as plt\n",
    "import matplotlib.colors as colors\n",
    "from matplotlib import cm\n",
    "import os, sys\n",
    "\n",
    "import astropy.constants as const\n",
    "import astropy.units as u\n",
    "from astropy.cosmology import z_at_value\n",
    "from astropy.cosmology import WMAP9 as cosmo\n",
    "from fractions import Fraction"
   ]
  },
  {
   "cell_type": "code",
   "execution_count": 8,
   "metadata": {},
   "outputs": [],
   "source": [
    "current_path = os.getcwd()\n",
    "splt_path = current_path.split(\"/\")\n",
    "top_path_idx = splt_path.index('DetectorDesignSensitivities')\n",
    "top_directory = \"/\".join(splt_path[0:top_path_idx+1])\n",
    "load_directory = top_directory + '/LoadFiles/InstrumentFiles/'\n",
    "\n",
    "sys.path.insert(0,top_directory + '/Functions')\n",
    "import StrainandNoise as SnN\n",
    "\n",
    "LISA_Other_filedirectory = load_directory + 'LISA_Other/StrainFiles/'\n",
    "LISA_Neil_filedirectory = load_directory + 'LISA_Neil/StrainFiles/'\n",
    "LISA_ESA_filedirectory = load_directory + 'LISA_ESA/StrainFiles/'\n",
    "ET_filedirectory = load_directory + 'EinsteinTelescope/StrainFiles/'\n",
    "aLIGO_filedirectory = load_directory + 'aLIGO/StrainFiles/'\n",
    "NANOGrav_filedirectory = load_directory + 'NANOGrav/StrainFiles/' "
   ]
  },
  {
   "cell_type": "code",
   "execution_count": 9,
   "metadata": {},
   "outputs": [],
   "source": [
    "axissize = 14\n",
    "labelsize = 16\n",
    "legendsize = 12\n",
    "figsize = (10,8)\n",
    "colornorm = colors.Normalize(vmin=0.0, vmax=5.0)\n",
    "linesize = 2"
   ]
  },
  {
   "cell_type": "code",
   "execution_count": 10,
   "metadata": {},
   "outputs": [],
   "source": [
    "L = 2.5*u.Gm  #armlength in Gm\n",
    "L = L.to('m')"
   ]
  },
  {
   "cell_type": "markdown",
   "metadata": {},
   "source": [
    "####################################################################\n",
    "# Load data files for transfer function and other sensitivity curves"
   ]
  },
  {
   "cell_type": "markdown",
   "metadata": {},
   "source": [
    "### LISA Transfer Function"
   ]
  },
  {
   "cell_type": "code",
   "execution_count": 13,
   "metadata": {},
   "outputs": [],
   "source": [
    "fT,LISA_Transfer_Function = SnN.Get_TransferFunction(L=L)"
   ]
  },
  {
   "cell_type": "markdown",
   "metadata": {},
   "source": [
    "### aLIGO"
   ]
  },
  {
   "cell_type": "code",
   "execution_count": 14,
   "metadata": {},
   "outputs": [],
   "source": [
    "#aLIGO\n",
    "aLIGO_filename = 'aLIGODesign.txt'\n",
    "aLIGO_filelocation = aLIGO_filedirectory + aLIGO_filename\n",
    "aLIGO_data = np.loadtxt(aLIGO_filelocation)\n",
    "aLIGO_f = aLIGO_data[:,0]*u.Hz\n",
    "aLIGO_S_n_f = aLIGO_data[:,1]"
   ]
  },
  {
   "cell_type": "markdown",
   "metadata": {},
   "source": [
    "### Einstein Telescope"
   ]
  },
  {
   "cell_type": "code",
   "execution_count": 15,
   "metadata": {},
   "outputs": [],
   "source": [
    "#Einstein Telescope\n",
    "ET_filename = 'ET_B_data.txt'\n",
    "ET_filelocation = ET_filedirectory + ET_filename\n",
    "ET_data = np.loadtxt(ET_filelocation)\n",
    "ET_f = ET_data[:,0]*u.Hz\n",
    "ET_S_n_f = ET_data[:,1]"
   ]
  },
  {
   "cell_type": "markdown",
   "metadata": {},
   "source": [
    "### LISA Martin data"
   ]
  },
  {
   "cell_type": "code",
   "execution_count": 16,
   "metadata": {},
   "outputs": [],
   "source": [
    "#Martin data\n",
    "LISA_Martin_filename = 'LISA_Allocation_S_h_tot.txt'\n",
    "LISA_Martin_filelocation = LISA_Other_filedirectory + LISA_Martin_filename\n",
    "LISA_Martin_data = np.loadtxt(LISA_Martin_filelocation)\n",
    "LISA_Martin_f = LISA_Martin_data[:,0]*u.Hz\n",
    "LISA_Martin_S_n_f = LISA_Martin_data[:,1]/u.Hz"
   ]
  },
  {
   "cell_type": "markdown",
   "metadata": {},
   "source": [
    "### LISA Neil Cornish data"
   ]
  },
  {
   "cell_type": "code",
   "execution_count": 17,
   "metadata": {},
   "outputs": [],
   "source": [
    "#Neil Cornish data\n",
    "LISA_Neil_filename = 'LISA_sensitivity.txt'\n",
    "LISA_Neil_filelocation = LISA_Neil_filedirectory + LISA_Neil_filename\n",
    "LISA_Neil_data = np.loadtxt(LISA_Neil_filelocation)\n",
    "LISA_Neil_f = LISA_Neil_data[:,0]*u.Hz\n",
    "LISA_Neil_S_n_f = LISA_Neil_data[:,1]/u.Hz"
   ]
  },
  {
   "cell_type": "markdown",
   "metadata": {},
   "source": [
    "### LISA Larson Sensitivity Curve"
   ]
  },
  {
   "cell_type": "code",
   "execution_count": 18,
   "metadata": {},
   "outputs": [],
   "source": [
    "#Larson Sensitivity Curve\n",
    "LISA_Larson_filename = 'scg_6981.dat'\n",
    "LISA_Larson_filelocation = LISA_Other_filedirectory + LISA_Larson_filename\n",
    "LISA_Larson_data = np.loadtxt(LISA_Larson_filelocation)\n",
    "LISA_Larson_f = LISA_Larson_data[:,0]*u.Hz\n",
    "LISA_Larson_S_n_f = LISA_Larson_data[:,1]/u.Hz #May be wrong units"
   ]
  },
  {
   "cell_type": "markdown",
   "metadata": {},
   "source": [
    "### NANOGrav continuous wave sensitivity"
   ]
  },
  {
   "cell_type": "code",
   "execution_count": 19,
   "metadata": {},
   "outputs": [],
   "source": [
    "#NANOGrav continuous wave sensitivity\n",
    "NANOGrav_filename = 'cw_simulation_Ared_0_dp_0.5_fap_0.0001_T_15.txt'\n",
    "NANOGrav_filelocation = NANOGrav_filedirectory + NANOGrav_filename\n",
    "NANOGrav_data = np.loadtxt(NANOGrav_filelocation)\n",
    "NANOGrav_f = NANOGrav_data[:,0]*u.Hz\n",
    "NANOGrav_h_f = NANOGrav_data[:,1]"
   ]
  },
  {
   "cell_type": "markdown",
   "metadata": {},
   "source": [
    "### SKA  parameters and methods from arXiv:0804.4476 section 7.1"
   ]
  },
  {
   "cell_type": "code",
   "execution_count": 20,
   "metadata": {},
   "outputs": [],
   "source": [
    "###############################################\n",
    "#SKA calculation using parameters and methods from arXiv:0804.4476 section 7.1\n",
    "deltrms_SKA = 10*u.ns #rms timing residuals in nanoseconds\n",
    "deltrms_SKA = deltrms_SKA.to('s')\n",
    "\n",
    "T_SKA = 20*u.yr #Observing time in years\n",
    "T_SKA = T_SKA.to('s') #Observing time in seconds\n",
    "\n",
    "Np_SKA = 20 #Number of pulsars\n",
    "cadence_SKA = 1/u.wk #Avg observation cadence of 1 every week in seconds\n",
    "cadence_SKA = cadence_SKA.to('1/s')"
   ]
  },
  {
   "cell_type": "markdown",
   "metadata": {},
   "source": [
    "### NANOGrav 11.5yr parameters https://arxiv.org/abs/1801.01837"
   ]
  },
  {
   "cell_type": "code",
   "execution_count": 21,
   "metadata": {},
   "outputs": [],
   "source": [
    "###############################################\n",
    "#NANOGrav calculation using 11.5yr parameters https://arxiv.org/abs/1801.01837\n",
    "deltrms_nano = 100*u.ns #rms timing residuals in seconds\n",
    "deltrms_nano = deltrms_nano.to('s')\n",
    "\n",
    "T_nano = 11.4*u.yr #Observing time in years\n",
    "T_nano = T_nano.to('s') #Observing time in seconds\n",
    "Np_nano = 45 #Number of pulsars\n",
    "cadence_nano = 1/(2*u.wk) #Avg observation cadence of 1 every 2 weeks in seconds\n",
    "cadence_nano = cadence_nano.to('1/s')"
   ]
  },
  {
   "cell_type": "code",
   "execution_count": 22,
   "metadata": {
    "scrolled": true
   },
   "outputs": [
    {
     "data": {
      "image/png": "[encoded data removed]",
      "text/plain": [
       "<Figure size 432x288 with 1 Axes>"
      ]
     },
     "metadata": {},
     "output_type": "display_data"
    }
   ],
   "source": [
    "[f_SKA,SKA_strain] = SnN.CalcPTAstrain(deltrms_SKA,cadence_SKA,T_SKA,Np_SKA)\n",
    "[f_nano,nano_strain] = SnN.CalcPTAstrain(deltrms_nano,cadence_nano,T_nano,Np_nano)\n",
    "plt.figure()\n",
    "plt.loglog(f_nano,nano_strain)\n",
    "plt.loglog(f_SKA,SKA_strain)\n",
    "plt.show()"
   ]
  },
  {
   "cell_type": "markdown",
   "metadata": {},
   "source": [
    "### Calculate PTA Strains using Lam, M.T. 2018 https://arxiv.org/pdf/1808.10071.pdf"
   ]
  },
  {
   "cell_type": "code",
   "execution_count": null,
   "metadata": {},
   "outputs": [],
   "source": [
    "ndetectors = 2\n",
    "T_obs_full = [T_nano, T_SKA]\n",
    "cadence_full = [cadence_nano, cadence_SKA]\n",
    "sigma_rms_full = [deltrms_nano, deltrms_SKA]\n",
    "\n",
    "SKA_f,SKA_S_n_f = SnN.calcPTAASD(sigma_rms_full,cadence_full,T_obs_full,ndetectors)"
   ]
  },
  {
   "cell_type": "code",
   "execution_count": null,
   "metadata": {},
   "outputs": [],
   "source": [
    "ndetectors = 1\n",
    "\n",
    "NANOGrav_f,NANOGrav_S_n_f = SnN.calcPTAASD(deltrms_nano,cadence_nano,T_nano,ndetectors)"
   ]
  },
  {
   "cell_type": "markdown",
   "metadata": {},
   "source": [
    "####################################################################\n",
    "# Calculate LISA amplitude spectral densities for various models"
   ]
  },
  {
   "cell_type": "markdown",
   "metadata": {},
   "source": [
    "### LISA Calculation without pathfinder correction (2016 model)"
   ]
  },
  {
   "cell_type": "code",
   "execution_count": null,
   "metadata": {},
   "outputs": [],
   "source": [
    "#LISA Calculation without pathfinder correction (2016 model)\n",
    "Ssci = 8.9e-12**2*u.m*u.m\n",
    "Sloc = 1.7e-12**2*u.m*u.m\n",
    "Sother = 2e-12**2*u.m*u.m\n",
    "k2016_P_ims = Ssci+2*Sloc+Sother\n",
    "k2016_P_acc = ((1.8e-14*u.m/u.s/u.s)**2*((3e-5*u.Hz/fT)**10 + (1e-4*u.Hz/fT)**2) + (3e-15*u.m/u.s/u.s)**2)/(2*np.pi*fT)**4   #red below 1e-4, white above\n",
    "k2016_S_n_f = SnN.calcASD(fT,LISA_Transfer_Function,k2016_P_acc,k2016_P_ims,L)"
   ]
  },
  {
   "cell_type": "markdown",
   "metadata": {},
   "source": [
    "### LISA Calculation WITH (Sean's) pathfinder correction"
   ]
  },
  {
   "cell_type": "code",
   "execution_count": null,
   "metadata": {},
   "outputs": [],
   "source": [
    "#LISA Calculation WITH (Sean's) pathfinder correction\n",
    "pathfinder_S_acc = ((60e-15*u.m/u.s/u.s)**2*(20e-6*u.Hz/fT)**10 + (1.74e-15*u.m/u.s/u.s)**2)/(2*np.pi*fT)**4 #Update Pathfinder Acceleration Noise\n",
    "pathfinder_S_n_f = SnN.calcASD(fT,LISA_Transfer_Function,pathfinder_S_acc,k2016_P_ims,L) #Updated LISA noise curve with Pathfinder Acc noise"
   ]
  },
  {
   "cell_type": "markdown",
   "metadata": {},
   "source": [
    "### LISA Calculation from https://arxiv.org/pdf/1702.00786.pdf (Amaro-Seaone 2017)"
   ]
  },
  {
   "cell_type": "code",
   "execution_count": null,
   "metadata": {},
   "outputs": [],
   "source": [
    "S_acc_low_knee = .4*u.mHz\n",
    "S_acc_high_knee = 8.*u.mHz\n",
    "S_oms_knee = 2.*u.mHz\n",
    "ESA_S_n_f = SnN.LisaSensitivity(fT,LISA_Transfer_Function)"
   ]
  },
  {
   "cell_type": "markdown",
   "metadata": {},
   "source": [
    "### Neil Calculation from https://arxiv.org/pdf/1803.01944.pdf"
   ]
  },
  {
   "cell_type": "code",
   "execution_count": null,
   "metadata": {},
   "outputs": [],
   "source": [
    "#Neil Calculation from https://arxiv.org/pdf/1803.01944.pdf\n",
    "Neil_S_acc = 3e-15*u.m/u.s/u.s #M/sqrt(Hz)\n",
    "Neil_S_oms = 1.5e-11*u.m\n",
    "Neil_S_n_f = SnN.NeilSensitivity(fT,LISA_Transfer_Function)"
   ]
  },
  {
   "cell_type": "markdown",
   "metadata": {},
   "source": [
    "#######################################################################\n",
    "# BBH strain calculation"
   ]
  },
  {
   "cell_type": "code",
   "execution_count": null,
   "metadata": {},
   "outputs": [],
   "source": [
    "#Vars = [M,q,chi1,chi2,z]\n",
    "M = [1e6,65.0,1e10]\n",
    "q = [1.0,1.0,1.0]\n",
    "x1 = [0.0,0.0,0.0]\n",
    "x2 = [0.0,0.0,0.0]\n",
    "z = [3.0,0.093,20.0]\n",
    "\n",
    "Vars1 = [M[0],q[0],x1[0],x2[0],z[0]]\n",
    "Vars2 = [M[1],q[1],x1[1],x2[1],z[1]]\n",
    "Vars3 = [M[2],q[2],x1[2],x2[2],z[2]]"
   ]
  },
  {
   "cell_type": "code",
   "execution_count": null,
   "metadata": {},
   "outputs": [],
   "source": [
    "print(Vars1)\n",
    "print(Vars2)\n",
    "print(Vars3)"
   ]
  },
  {
   "cell_type": "code",
   "execution_count": null,
   "metadata": {},
   "outputs": [],
   "source": [
    "#From PhenomD\n",
    "[phenomD_f_1,phenomD_h_1] = SnN.Get_Waveform(Vars1,f_low=1e-4)\n",
    "[phenomD_f_2,phenomD_h_2] = SnN.Get_Waveform(Vars2,f_low=1e-4)\n",
    "[phenomD_f_3,phenomD_h_3] = SnN.Get_Waveform(Vars3)"
   ]
  },
  {
   "cell_type": "code",
   "execution_count": null,
   "metadata": {},
   "outputs": [],
   "source": [
    "#Get characteristic strain\n",
    "[phenomD_f_1,phenomD_h_char_1] = SnN.Get_CharStrain(Vars1,phenomD_f_1,phenomD_h_1)\n",
    "[phenomD_f_2,phenomD_h_char_2] = SnN.Get_CharStrain(Vars2,phenomD_f_2,phenomD_h_2)\n",
    "[phenomD_f_3,phenomD_h_char_3] = SnN.Get_CharStrain(Vars3,phenomD_f_3,phenomD_h_3)"
   ]
  },
  {
   "cell_type": "code",
   "execution_count": null,
   "metadata": {},
   "outputs": [],
   "source": [
    "plt.figure(figsize = figsize)\n",
    "#plt.loglog(NANOGrav_f,NANOGrav_h_f)\n",
    "plt.loglog(SKA_f,np.sqrt(SKA_f)*SKA_S_n_f, linewidth = linesize,color = cm.hsv(colornorm(0.0)),label = 'IPTA ~2030s')\n",
    "plt.loglog(NANOGrav_f,np.sqrt(NANOGrav_f)*NANOGrav_S_n_f, linewidth = linesize,color = cm.hsv(colornorm(0.5)),label = 'NANOGrav (11yr)')\n",
    "plt.loglog(fT,np.sqrt(fT)*ESA_S_n_f, linewidth = linesize,color = cm.hsv(colornorm(1.75)),label = 'LISA')\n",
    "plt.loglog(aLIGO_f,np.sqrt(aLIGO_f)*aLIGO_S_n_f,color = cm.hsv(colornorm(2.8)),label = 'aLIGO')\n",
    "plt.loglog(ET_f,np.sqrt(ET_f)*ET_S_n_f, linewidth = linesize,color = cm.hsv(colornorm(2.5)),label = 'Einstein Telescope')\n",
    "plt.loglog(phenomD_f_1,phenomD_h_char_1, linewidth = linesize,color = cm.hsv(colornorm(0.8)),label = r'$M = %.1e$ $M_{\\odot}$, $q = %.1f$, $z = %.1f$, $\\chi_{i} = %.1f$' %(M[0],q[0],z[0],x1[0]))\n",
    "plt.loglog(phenomD_f_2,phenomD_h_char_2, linewidth = linesize,color = cm.hsv(colornorm(3.0)),label = r'$M = %.1e$ $M_{\\odot}$, $q = %.1f$, $z = %.1f$, $\\chi_{i} = %.1f$' %(M[1],q[1],z[1],x1[1]))\n",
    "plt.loglog(phenomD_f_3,phenomD_h_char_3, linewidth = linesize,color = cm.hsv(colornorm(4.5)),label = r'$M = %.1e$ $M_{\\odot}$, $q = %.1f$, $z = %.1f$, $\\chi_{i} = %.1f$' %(M[2],q[2],z[2],x1[2]))\n",
    "\n",
    "plt.loglog(f_nano,nano_strain)\n",
    "plt.loglog(f_SKA,SKA_strain)\n",
    "\n",
    "plt.xlim([8e-10, 1e4])\n",
    "plt.ylim([1e-24, 1e-11])\n",
    "plt.tick_params(axis = 'both',which = 'major', labelsize = axissize)\n",
    "\n",
    "plt.xlabel(r'Frequency $[Hz]$',fontsize = labelsize)\n",
    "plt.ylabel('Characteristic Strain',fontsize = labelsize)\n",
    "plt.legend(loc='upper right', fontsize = legendsize)\n",
    "plt.show()"
   ]
  },
  {
   "cell_type": "code",
   "execution_count": null,
   "metadata": {},
   "outputs": [],
   "source": [
    "#########################\n",
    "#Save Figure to File\n",
    "figloc = fig_filedirectory+figname\n",
    "if isitsavetime:\n",
    "    plt.savefig(figloc, format=figformat, dpi=figdpi)"
   ]
  }
 ],
 "metadata": {
  "kernelspec": {
   "display_name": "Python 3",
   "language": "python",
   "name": "python3"
  },
  "language_info": {
   "codemirror_mode": {
    "name": "ipython",
    "version": 3
   },
   "file_extension": ".py",
   "mimetype": "text/x-python",
   "name": "python",
   "nbconvert_exporter": "python",
   "pygments_lexer": "ipython3",
   "version": "3.6.5"
  }
 },
 "nbformat": 4,
 "nbformat_minor": 2
}
