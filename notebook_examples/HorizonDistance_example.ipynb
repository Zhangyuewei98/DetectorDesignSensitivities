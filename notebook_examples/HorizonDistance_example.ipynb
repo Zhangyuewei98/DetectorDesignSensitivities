{
 "cells": [
  {
   "cell_type": "code",
   "execution_count": 1,
   "metadata": {},
   "outputs": [],
   "source": [
    "%load_ext autoreload\n",
    "%autoreload 2"
   ]
  },
  {
   "cell_type": "code",
   "execution_count": 2,
   "metadata": {},
   "outputs": [],
   "source": [
    "import numpy as np\n",
    "import matplotlib.pyplot as plt\n",
    "import matplotlib.colors as colors\n",
    "from matplotlib import cm\n",
    "from matplotlib import rc\n",
    "import os, sys, time\n",
    "import scipy.interpolate as interp\n",
    "\n",
    "import astropy.constants as const\n",
    "import astropy.units as u\n",
    "from astropy.cosmology import z_at_value\n",
    "from astropy.cosmology import WMAP9 as cosmo\n",
    "from fractions import Fraction\n",
    "\n",
    "import hasasia.sensitivity as hassens\n",
    "import hasasia.sim as hassim\n",
    "import hasasia.skymap as hassky"
   ]
  },
  {
   "cell_type": "code",
   "execution_count": 3,
   "metadata": {},
   "outputs": [],
   "source": [
    "rc('text',usetex=True)\n",
    "rc('font',**{'family':'serif','serif':['Times New Roman'],'size':14})#,'weight':'bold'})"
   ]
  },
  {
   "cell_type": "code",
   "execution_count": 4,
   "metadata": {},
   "outputs": [],
   "source": [
    "current_path = os.getcwd()\n",
    "splt_path = current_path.split(\"/\")\n",
    "top_path_idx = splt_path.index('DetectorDesignSensitivities')\n",
    "top_directory = \"/\".join(splt_path[0:top_path_idx+1])\n",
    "load_directory = top_directory + '/LoadFiles/InstrumentFiles/'\n",
    "\n",
    "sys.path.insert(0,top_directory + '/Functions')\n",
    "import StrainandNoise_v4 as SnN\n",
    "import SNRcalc_v4 as SnC\n",
    "import HorizonDistance as HD\n",
    "\n",
    "LISA_Other_filedirectory = load_directory + 'LISA_Other/StrainFiles/'\n",
    "LISA_Neil_filedirectory = load_directory + 'LISA_Neil/StrainFiles/'\n",
    "LISA_ESA_filedirectory = load_directory + 'LISA_ESA/StrainFiles/'\n",
    "ET_filedirectory = load_directory + 'EinsteinTelescope/StrainFiles/'\n",
    "aLIGO_filedirectory = load_directory + 'aLIGO/StrainFiles/'\n",
    "NANOGrav_filedirectory = load_directory + 'NANOGrav/StrainFiles/' \n",
    "EOBdiff_filedirectory = top_directory + '/LoadFiles/DiffStrain/EOBdiff/'"
   ]
  },
  {
   "cell_type": "code",
   "execution_count": 5,
   "metadata": {},
   "outputs": [],
   "source": [
    "fig_save_idx = splt_path.index('Research')\n",
    "fig_save_location = \"/\".join(splt_path[0:fig_save_idx+1])\n",
    "fig_save_location += '/paperfigs'"
   ]
  },
  {
   "cell_type": "code",
   "execution_count": 6,
   "metadata": {},
   "outputs": [],
   "source": [
    "axissize = 14\n",
    "labelsize = 16\n",
    "legendsize = 12\n",
    "figsize = (10,8)\n",
    "colornorm = colors.Normalize(vmin=0.0, vmax=5.0)\n",
    "linesize = 3"
   ]
  },
  {
   "cell_type": "code",
   "execution_count": 7,
   "metadata": {},
   "outputs": [],
   "source": [
    "'''\n",
    "NOT REALLY YET.\n",
    "    Variables: \n",
    "        GLOBAL:\n",
    "            'T_obs' - Observation Time\n",
    "        SOURCE:\n",
    "            'M' - Mass (Solar Units)\n",
    "            'q' - Mass Ratio\n",
    "            'chi1' - Spin1\n",
    "            'chi2' - Spin2\n",
    "            'z' - Redshift\n",
    "        LISA ONLY:\n",
    "            'L' - Armlength\n",
    "            'A_acc' - Acceleration Noise\n",
    "            'A_IMS' - Optical Metrology\n",
    "            'f_acc_break_low'\n",
    "            'f_acc_break_high'\n",
    "            'f_IMS_break'\n",
    "        PTAs ONLY:\n",
    "            'N_p' - Number of Pulsars\n",
    "            'sigma' - Timing Error RMS\n",
    "            'cadence' - cadence\n",
    "'''\n",
    "var_x = 'M' #Variable on x-axis\n",
    "\n",
    "sampleRate_x = 10 #Number of x-axis points"
   ]
  },
  {
   "cell_type": "code",
   "execution_count": 8,
   "metadata": {},
   "outputs": [],
   "source": [
    "#Selects which noise curve:\n",
    "#\t\t\t\t\t\t\t0 is Einstein Telescope, \n",
    "#\t\t\t\t\t\t\t1 is aLIGO, \n",
    "#\t\t\t\t\t\t\t2 is NANOGrav 15yr,\n",
    "#\t\t\t\t\t\t\t3 is SKA (2030s),\n",
    "#\t\t\t\t\t\t\t4 is Neil Cornish's,\n",
    "#\t\t\t\t\t\t\tanything else is the L3 proposal"
   ]
  },
  {
   "cell_type": "markdown",
   "metadata": {},
   "source": [
    "# Source Selection"
   ]
  },
  {
   "cell_type": "code",
   "execution_count": 9,
   "metadata": {},
   "outputs": [],
   "source": [
    "def Get_Source(model):\n",
    "    if model == 0 or model == 1:\n",
    "        #M = m1+m2 Total Mass\n",
    "        M = 1e2\n",
    "        M_min = 1e0\n",
    "        M_max = 1e5\n",
    "    elif model == 2 or model == 3:\n",
    "        #M = m1+m2 Total Mass\n",
    "        M = 1e8\n",
    "        M_min = 1e7\n",
    "        M_max = 1e11\n",
    "    else:\n",
    "        #M = m1+m2 Total Mass\n",
    "        M = 1e6\n",
    "        M_min = 1e1\n",
    "        M_max = 1e10\n",
    "        \n",
    "    #q = m2/m1 reduced mass\n",
    "    q = 1.0\n",
    "    q_min = 1.0\n",
    "    q_max = 18.0\n",
    "\n",
    "    #Chi = S_i*L/m_i**2, spins of each mass i\n",
    "    chi1 = 0.0 #spin of m1\n",
    "    chi2 = 0.0 #spin of m2\n",
    "    chi_min = -0.85 #Limits of PhenomD for unaligned spins\n",
    "    chi_max = 0.85\n",
    "    \n",
    "    z = 3.0 #Redshift\n",
    "    z_min = 1e-2\n",
    "    z_max = 1e3\n",
    "    \n",
    "    #Doesn't Really work yet\n",
    "    inc = 0.0\n",
    "    inc_min = 0.0\n",
    "    inc_max = 0.0\n",
    "    \n",
    "    source = SnN.BlackHoleBinary(M,q,chi1,chi2,z,inc)\n",
    "    source.M = [M,M_min,M_max]\n",
    "    source.q = [q,q_min,q_max]\n",
    "    source.chi1 = [chi1,chi_min,chi_max]\n",
    "    source.chi2 = [chi2,chi_min,chi_max]\n",
    "    source.z = [z,z_min,z_max]\n",
    "    source.inc = [inc,inc_min,inc_max]\n",
    "\n",
    "    return source"
   ]
  },
  {
   "cell_type": "markdown",
   "metadata": {},
   "source": [
    "# Model Selection"
   ]
  },
  {
   "cell_type": "code",
   "execution_count": 10,
   "metadata": {},
   "outputs": [],
   "source": [
    "def Get_Instrument(model):\n",
    "    if model == 0: #Einstein Telescope\n",
    "        load_name = 'ET_D_data.txt'\n",
    "        load_location = load_directory + 'EinsteinTelescope/StrainFiles/' + load_name\n",
    "        \n",
    "        T_obs = 4*u.yr #Observing time in years\n",
    "        T_obs_min = 1*u.yr\n",
    "        T_obs_max = 10*u.yr\n",
    "        \n",
    "        instrument = SnN.GroundBased('ET',load_location,T_obs)\n",
    "        instrument.T_obs = [T_obs,T_obs_min,T_obs_max]\n",
    "\n",
    "    elif model == 1: #aLIGO\n",
    "        load_name = 'aLIGODesign.txt'\n",
    "        load_location = load_directory + 'aLIGO/StrainFiles/' + load_name\n",
    "        \n",
    "        T_obs = 4*u.yr #Observing time in years\n",
    "        T_obs_min = 1*u.yr\n",
    "        T_obs_max = 10*u.yr\n",
    "\n",
    "        instrument = SnN.GroundBased('aLIGO',load_location,T_obs)\n",
    "        instrument.T_obs = [T_obs,T_obs_min,T_obs_max]\n",
    "\n",
    "    elif model == 2: #NANOGrav 15 yr\n",
    "        ###############################################\n",
    "        #NANOGrav calculation using 11.5yr parameters https://arxiv.org/abs/1801.01837\n",
    "        T_obs = 15*u.yr #Observing time in years\n",
    "        T_obs_min = 10*u.yr\n",
    "        T_obs_max = 30*u.yr\n",
    "\n",
    "        sigma = 100*u.ns.to('s')*u.s #rms timing residuals in seconds\n",
    "        \n",
    "        N_p = 18 #Number of pulsars\n",
    "        \n",
    "        cadence = 1/(2*u.wk.to('yr')*u.yr) #Avg observation cadence of 1 every 2 weeks in num/year\n",
    "        \n",
    "        instrument = SnN.PTA('NANOGrav',T_obs,N_p,sigma,cadence)\n",
    "        instrument.T_obs = [T_obs,T_obs_min,T_obs_max]\n",
    "\n",
    "        \n",
    "    elif model == 3: #SKA (2030s)\n",
    "        ###############################################\n",
    "        #SKA calculation using parameters and methods from arXiv:0804.4476 section 7.1\n",
    "        T_obs = 15*u.yr #Observing time (years)\n",
    "        T_obs_min = 10*u.yr\n",
    "        T_obs_max = 30*u.yr\n",
    "        \n",
    "        sigma = 10*u.ns.to('s')*u.s #rms timing residuals in nanoseconds\n",
    "        \n",
    "        N_p = 20 #Number of pulsars\n",
    "        \n",
    "        cadence = 1/(u.wk.to('yr')*u.yr) #Avg observation cadence of 1 every week in num/year\n",
    "        \n",
    "        instrument = SnN.PTA('SKA',T_obs,N_p,sigma,cadence)\n",
    "        instrument.T_obs = [T_obs,T_obs_min,T_obs_max]\n",
    "        \n",
    "    elif model == 4: #Robson,Cornish,and Liu 2018, LISA (https://arxiv.org/pdf/1803.01944.pdf)\n",
    "        \n",
    "        T_obs = 4*u.yr #Observing time in years\n",
    "        T_obs_min = 1*u.yr\n",
    "        T_obs_max = 10*u.yr\n",
    "\n",
    "        L = 2.5e9*u.m #armlength in meters\n",
    "        L_min = 1.0e7*u.m\n",
    "        L_max = 1.0e11*u.m\n",
    "          \n",
    "        A_acc = 3e-15*u.m/u.s/u.s #M/s**2\n",
    "        A_IMS = 1.5e-11*u.m\n",
    "        f_IMS_break = 2.*u.mHz.to('Hz')*u.Hz\n",
    "        f_acc_break_low = .4*u.mHz.to('Hz')*u.Hz\n",
    "        f_acc_break_high = 8.*u.mHz.to('Hz')*u.Hz\n",
    "        Background = False\n",
    "        \n",
    "        instrument = SnN.SpaceBased('Neil_LISA',\\\n",
    "                                       T_obs,L,A_acc,f_acc_break_low,f_acc_break_high,A_IMS,f_IMS_break,\\\n",
    "                                       Background=Background)\n",
    "        instrument.T_obs = [T_obs,T_obs_min,T_obs_max]\n",
    "        instrument.L = [L,L_min,L_max]\n",
    "        \n",
    "    else: #L3 proposal\n",
    "        \n",
    "        #Default Params!\n",
    "        T_obs = 4*u.yr #Observing time in years\n",
    "        T_obs_min = 1*u.yr\n",
    "        T_obs_max = 10*u.yr\n",
    "        \n",
    "        L = 2.5e9*u.m #armlength in meters\n",
    "        L_min = 1.0e7*u.m\n",
    "        L_max = 1.0e11*u.m\n",
    "        \n",
    "        f_acc_break_low = .4*u.mHz.to('Hz')*u.Hz\n",
    "        f_acc_break_high = 8.*u.mHz.to('Hz')*u.Hz\n",
    "        f_IMS_break = 2.*u.mHz.to('Hz')*u.Hz\n",
    "        A_acc = 3e-15*u.m/u.s/u.s\n",
    "        A_IMS = 10e-12*u.m\n",
    "        Background = False\n",
    "        \n",
    "        instrument = SnN.SpaceBased('LISA_ESA',\\\n",
    "                                       T_obs,L,A_acc,f_acc_break_low,f_acc_break_high,A_IMS,f_IMS_break,\\\n",
    "                                       Background=Background)\n",
    "        instrument.T_obs = [T_obs,T_obs_min,T_obs_max]\n",
    "        instrument.L = [L,L_min,L_max]\n",
    "        \n",
    "    return instrument"
   ]
  },
  {
   "cell_type": "markdown",
   "metadata": {},
   "source": [
    "# Horizon Distance Calculation"
   ]
  },
  {
   "cell_type": "code",
   "execution_count": 11,
   "metadata": {},
   "outputs": [
    {
     "name": "stdout",
     "output_type": "stream",
     "text": [
      "126230400.0\n"
     ]
    }
   ],
   "source": [
    "print(4*u.yr.to('s'))"
   ]
  },
  {
   "cell_type": "code",
   "execution_count": 15,
   "metadata": {},
   "outputs": [
    {
     "name": "stdout",
     "output_type": "stream",
     "text": [
      "0.00019701963790565068 s\n",
      "False\n",
      "0.0019701963790565067 s\n",
      "False\n",
      "0.019701963790565068 s\n",
      "False\n",
      "0.1970196379056507 s\n",
      "False\n",
      "1.970196379056507 s\n",
      "False\n",
      "19.70196379056507 s\n",
      "False\n",
      "197.01963790565068 s\n",
      "False\n",
      "1970.1963790565069 s\n",
      "False\n",
      "19701.96379056507 s\n",
      "False\n",
      "197019.63790565068 s\n",
      "False\n",
      "4.9281131545794316e-05 s\n",
      "False\n",
      "0.0005455709132918348 s\n",
      "False\n",
      "0.016072111627534538 s\n",
      "False\n",
      "0.6352224111836231 s\n",
      "False\n",
      "33.27062650767443 s\n",
      "False\n",
      "1810.8923844099738 s\n",
      "False\n",
      "36061.62723730458 s\n",
      "False\n",
      "45157.246295558005 s\n",
      "False\n",
      "25841.35235602691 s\n",
      "False\n",
      "49255.40202550744 s\n",
      "False\n",
      "0.15654325485229492\n"
     ]
    },
    {
     "name": "stderr",
     "output_type": "stream",
     "text": [
      "/home/andrew/anaconda3/lib/python3.6/site-packages/astropy/units/quantity.py:639: RuntimeWarning: invalid value encountered in power\n",
      "  result = super().__array_ufunc__(function, method, *arrays, **kwargs)\n"
     ]
    }
   ],
   "source": [
    "rho_thresh = 5\n",
    "model = 5\n",
    "instrument = Get_Instrument(model)\n",
    "source = Get_Source(model)\n",
    "start = time.time()\n",
    "[_,_,z_init] = HD.getHorizonDistance(source,instrument,var_x,sampleRate_x,rho_thresh)\n",
    "[sample_x,DL_array,z_array] = HD.getHorizonDistance(source,instrument,var_x,sampleRate_x,rho_thresh,redshift_array=z_init)\n",
    "end = time.time()\n",
    "print(end-start)"
   ]
  },
  {
   "cell_type": "code",
   "execution_count": 41,
   "metadata": {},
   "outputs": [
    {
     "data": {
      "image/png": "[encoded data removed]",
      "text/plain": [
       "<Figure size 720x576 with 1 Axes>"
      ]
     },
     "metadata": {},
     "output_type": "display_data"
    }
   ],
   "source": [
    "HD.plotHD(source,instrument,var_x,sample_x,DL_array,display=True,figloc=None)"
   ]
  },
  {
   "cell_type": "code",
   "execution_count": 33,
   "metadata": {},
   "outputs": [
    {
     "data": {
      "image/png": "[encoded data removed]",
      "text/plain": [
       "<Figure size 432x288 with 1 Axes>"
      ]
     },
     "metadata": {},
     "output_type": "display_data"
    }
   ],
   "source": [
    "dists = np.linspace(-2,4,len(DL_array[:-10]))\n",
    "dists = 10**dists*u.Gpc\n",
    "z = [z_at_value(cosmo.luminosity_distance,dist) for dist in dists]\n",
    "plt.figure()\n",
    "plt.loglog(z,dists)\n",
    "plt.loglog(z_init[:-10],DL_array[:-10])\n",
    "plt.show()"
   ]
  },
  {
   "cell_type": "code",
   "execution_count": 34,
   "metadata": {},
   "outputs": [
    {
     "data": {
      "text/plain": [
       "[<matplotlib.lines.Line2D at 0x7f021203b9e8>]"
      ]
     },
     "execution_count": 34,
     "metadata": {},
     "output_type": "execute_result"
    },
    {
     "data": {
      "image/png": "[encoded data removed]",
      "text/plain": [
       "<Figure size 432x288 with 1 Axes>"
      ]
     },
     "metadata": {},
     "output_type": "display_data"
    }
   ],
   "source": [
    "plt.plot(z,dists-DL_array[:-10])"
   ]
  },
  {
   "cell_type": "code",
   "execution_count": 35,
   "metadata": {
    "scrolled": false
   },
   "outputs": [
    {
     "name": "stdout",
     "output_type": "stream",
     "text": [
      "0\n"
     ]
    },
    {
     "name": "stderr",
     "output_type": "stream",
     "text": [
      "/home/andrew/anaconda3/lib/python3.6/site-packages/astropy/units/quantity.py:639: RuntimeWarning: invalid value encountered in power\n",
      "  result = super().__array_ufunc__(function, method, *arrays, **kwargs)\n"
     ]
    },
    {
     "name": "stdout",
     "output_type": "stream",
     "text": [
      "[-3.94649264e-05 -6.16389681e-04 -1.19914670e-03 -1.60455385e-03\n",
      " -8.30524215e-04 -2.04571284e-03 -3.19643193e-03 -8.85575027e-03\n",
      " -1.69945680e-02 -1.75072610e-02 -3.97477873e-02 -4.73796893e-02\n",
      " -7.11684552e-02 -8.02769893e-02 -2.17060610e-02 -3.37365027e-01\n",
      " -4.13259274e-01 -2.54850600e-01 -5.86257546e-01 -9.39441715e-01\n",
      " -1.25238408e-01 -1.41808243e+00 -4.34647586e-01 -2.16706490e+00\n",
      " -1.63614312e-01 -3.18447869e-01 -2.71897391e+00 -8.21984947e-02\n",
      " -2.67471573e+00 -2.17710131e+00 -8.91073385e-01 -3.68512639e+00\n",
      " -7.93950093e+00 -9.58957837e+00 -7.28443749e+00 -1.20741543e+01\n",
      " -1.45385032e+01 -8.02519243e+00 -4.94794647e+00 -1.45627143e+01\n",
      " -3.29419406e+01 -3.68692784e+01 -4.25521238e+01 -5.68235344e+00\n",
      " -1.33140875e+01 -3.17956906e+01 -4.26599376e+01 -1.57373643e+01\n",
      " -3.94436364e+01 -1.28084290e+01 -7.03499926e-02 -8.55294151e+01\n",
      " -1.94617746e+02 -3.35162646e+01 -2.51839593e+02 -1.04962959e+02\n",
      " -9.26439107e+01 -5.04224221e+02 -3.62712556e+02 -5.17340232e+02\n",
      " -4.12969996e+02 -1.00778754e+02 -5.40639553e+02 -3.57277820e+02\n",
      " -8.19333581e+02 -6.27505847e+02 -6.18981467e+02 -4.04074931e+02\n",
      " -3.44220796e+02 -1.70418619e+02 -8.42465440e+01 -2.16215030e+02\n",
      " -2.46479769e+01 -4.90056814e+01 -1.52119799e+01 -2.33345471e+01\n",
      " -1.17139532e+02 -7.09324503e+01 -2.10847678e+01 -1.56439404e+01\n",
      " -3.09052293e+01 -1.71527583e+01 -1.58720210e+01 -1.46024213e+01\n",
      " -8.45700848e+00 -4.52067678e+00 -4.68929360e+00 -3.13627874e+00\n",
      " -4.13261656e+00 -1.23131977e+00 -1.10301207e+00 -1.86491832e-01\n",
      " -5.86695602e-02 -9.41628481e-06 -6.83674510e-06 -9.35727098e-06\n",
      " -7.62944827e-07 -1.37886870e-06 -1.62676912e-06 -7.43687737e-06]\n",
      "1\n",
      "[            nan             nan             nan             nan\n",
      "             nan             nan             nan             nan\n",
      "             nan             nan             nan             nan\n",
      "             nan             nan             nan             nan\n",
      "             nan  6.56326381e-01  8.43611965e-01  1.04543478e+00\n",
      "             nan  1.53072040e+00  1.86080079e+00  2.13311911e+00\n",
      "  2.56326215e+00  2.99311931e+00  3.48947112e+00  4.08605707e+00\n",
      "  4.77372938e+00             nan             nan  7.66398241e+00\n",
      "  8.98509715e+00  1.05442389e+01  1.24168655e+01  1.45578512e+01\n",
      "  1.71049886e+01  2.01178145e+01  2.36699911e+01  2.78643015e+01\n",
      "  3.27553812e+01  3.85779591e+01  4.53888314e+01  5.33170261e+01\n",
      "  6.28360584e+01  7.33875623e+01  8.60720990e+01             nan\n",
      "             nan             nan  1.59648154e+02  1.87784365e+02\n",
      "             nan  2.57963958e+02             nan             nan\n",
      "  4.24326133e+02  5.07605602e+02  6.02578854e+02             nan\n",
      "             nan             nan             nan  9.20518869e+02\n",
      "  1.50904523e+03  1.38270133e+03  1.24284716e+03             nan\n",
      "             nan             nan  3.58326884e+02             nan\n",
      "             nan             nan             nan  1.24220158e+02\n",
      "             nan             nan  1.07671246e+02             nan\n",
      "             nan             nan  0.00000000e+00             nan\n",
      "             nan             nan             nan             nan\n",
      "             nan             nan  2.00579075e+00  5.50711712e-01\n",
      "             nan -0.00000000e+00 -0.00000000e+00 -0.00000000e+00\n",
      " -0.00000000e+00 -0.00000000e+00 -0.00000000e+00 -0.00000000e+00]\n"
     ]
    },
    {
     "name": "stderr",
     "output_type": "stream",
     "text": [
      "/home/andrew/anaconda3/lib/python3.6/site-packages/astropy/units/quantity.py:639: RuntimeWarning: invalid value encountered in true_divide\n",
      "  result = super().__array_ufunc__(function, method, *arrays, **kwargs)\n"
     ]
    },
    {
     "data": {
      "text/plain": [
       "<Figure size 432x288 with 0 Axes>"
      ]
     },
     "metadata": {},
     "output_type": "display_data"
    }
   ],
   "source": [
    "rho_thresh = 5\n",
    "model = 5\n",
    "instrument = Get_Instrument(model)\n",
    "source = Get_Source(model)\n",
    "i = 0\n",
    "iter_max = 3\n",
    "tol = 1e-10\n",
    "\n",
    "plt.figure()\n",
    "while i < 2:\n",
    "    print(i)\n",
    "    if i == 0:\n",
    "        #initial guess\n",
    "        z_0 = np.ones(sampleRate_x)*10**np.random.uniform(-3,3,size=sampleRate_x)\n",
    "        [_,DL_n,z_n] = HD.getHorizonDistance(source,instrument,var_x,sampleRate_x,rho_thresh,\\\n",
    "                                                    redshift_array=z_0)\n",
    "        #Next z\n",
    "        z_n_plus_1 = z_n*np.random.uniform(0,1,size=np.shape(z_n))\n",
    "        print(z_n_plus_1-z_n)\n",
    "    else:\n",
    "        #Moving previous values back one slot\n",
    "        z_n_minus_1 = z_n\n",
    "        z_n = z_n_plus_1\n",
    "        DL_n_minus_1 = DL_n\n",
    "        #Uses z_n_plus_1 from previous to get new z_n\n",
    "        [_,DL_n,z_n] = HD.getHorizonDistance(source,instrument,var_x,sampleRate_x,rho_thresh,\\\n",
    "                                                    redshift_array=z_n)\n",
    "        #Next z\n",
    "        print(DL_n*(z_n-z_n_minus_1)/(DL_n-DL_n_minus_1))\n",
    "        z_n_plus_1 = z_n - DL_n*(z_n-z_n_minus_1)/(DL_n-DL_n_minus_1)\n",
    "\n",
    "    #HD.plotHD(source,instrument,var_x,sample_x,DL_n_minus_1,display=True,figloc=None)\n",
    "    #plt.plot(z_n_minus_1,DL_n_minus_1)\n",
    "    i+=1\n"
   ]
  },
  {
   "cell_type": "code",
   "execution_count": null,
   "metadata": {},
   "outputs": [],
   "source": [
    "HD.plotHD(source,instrument,var_x,sample_x,DL_n_minus_1,display=True,figloc=None)"
   ]
  },
  {
   "cell_type": "code",
   "execution_count": null,
   "metadata": {
    "scrolled": false
   },
   "outputs": [],
   "source": [
    "rho_thresh = 5\n",
    "for model in range(6):\n",
    "    instrument = Get_Instrument(model)\n",
    "    source = Get_Source(model)\n",
    "    [sample_x,DL_array] = HD.getHorizonDistance(source,instrument,var_x,sampleRate_x,rho_thresh)\n",
    "    HD.plotHD(source,instrument,var_x,sample_x,DL_array)"
   ]
  },
  {
   "cell_type": "code",
   "execution_count": null,
   "metadata": {},
   "outputs": [],
   "source": []
  }
 ],
 "metadata": {
  "kernelspec": {
   "display_name": "Python 3",
   "language": "python",
   "name": "python3"
  },
  "language_info": {
   "codemirror_mode": {
    "name": "ipython",
    "version": 3
   },
   "file_extension": ".py",
   "mimetype": "text/x-python",
   "name": "python",
   "nbconvert_exporter": "python",
   "pygments_lexer": "ipython3",
   "version": "3.6.5"
  }
 },
 "nbformat": 4,
 "nbformat_minor": 2
}
