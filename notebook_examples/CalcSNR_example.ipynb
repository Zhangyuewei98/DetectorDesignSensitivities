{
 "cells": [
  {
   "cell_type": "code",
   "execution_count": 1,
   "metadata": {},
   "outputs": [],
   "source": [
    "%load_ext autoreload\n",
    "%autoreload 2"
   ]
  },
  {
   "cell_type": "code",
   "execution_count": 2,
   "metadata": {},
   "outputs": [],
   "source": [
    "import numpy as np\n",
    "import matplotlib.pyplot as plt\n",
    "from matplotlib import rc\n",
    "import astropy.constants as const\n",
    "import os, sys, time\n",
    "import astropy.units as u\n",
    "from fractions import Fraction"
   ]
  },
  {
   "cell_type": "code",
   "execution_count": 3,
   "metadata": {},
   "outputs": [],
   "source": [
    "rc('text',usetex=True)\n",
    "rc('font',**{'family':'serif','serif':['Times New Roman'],'size':14})#,'weight':'bold'})"
   ]
  },
  {
   "cell_type": "markdown",
   "metadata": {},
   "source": [
    "# Directory Names"
   ]
  },
  {
   "cell_type": "code",
   "execution_count": 55,
   "metadata": {},
   "outputs": [],
   "source": [
    "current_path = os.getcwd()\n",
    "splt_path = current_path.split(\"/\")\n",
    "top_path_idx = splt_path.index('DetectorDesignSensitivities')\n",
    "top_directory = \"/\".join(splt_path[0:top_path_idx+1])\n",
    "load_directory = top_directory + '/LoadFiles/InstrumentFiles/'\n",
    "\n",
    "sys.path.insert(0,top_directory + '/Functions')\n",
    "import StrainandNoise as SnN\n",
    "import SNRcalc as SNc\n",
    "import SNRcalc_v2 as SNc_v2\n",
    "\n",
    "#Save suffix for SNR and Sample data files\n",
    "save_version = '_noGWB_1.dat'"
   ]
  },
  {
   "cell_type": "markdown",
   "metadata": {},
   "source": [
    "# Constants and Initial Parameters"
   ]
  },
  {
   "cell_type": "code",
   "execution_count": 146,
   "metadata": {},
   "outputs": [],
   "source": [
    "'''\n",
    "NOT REALLY YET.\n",
    "    Variables: \n",
    "        GLOBAL:\n",
    "            'M' - Mass (Solar Units)\n",
    "            'q' - Mass Ratio\n",
    "            'chi1' - Spin1\n",
    "            'chi2' - Spin2\n",
    "            'z' - Redshift\n",
    "            'Tobs' - Observation Time\n",
    "        \n",
    "        LISA ONLY:\n",
    "            GLOBAL LISA:\n",
    "                'L' - Armlength\n",
    "            NEIL ONLY:\n",
    "                'S_acc' - Acceleration Noise\n",
    "                'S_oms' - Optical Metrology\n",
    "            MARTIN ONLY:\n",
    "                'S_sci'\n",
    "                'S_loc'\n",
    "                'S_other'\n",
    "                'S_acc_low_knee'\n",
    "                'S_acc_high_knee'\n",
    "                'S_acc_low'\n",
    "                'S_acc_high'\n",
    "            ESA ONLY:\n",
    "                'S_acc_low_knee'\n",
    "                 'S_acc_high_knee'\n",
    "                 'S_oms_knee'\n",
    "                 'S_acc'\n",
    "                 'S_ims'\n",
    "        PTAs ONLY:\n",
    "            'Np' - Number of Pulsars\n",
    "            'rms' - Timing Error RMS\n",
    "            'dt' - cadence\n",
    "'''\n",
    "\n",
    "var_y = 'Tobs' #Variable on y-axis\n",
    "\n",
    "sampleRate_y = 50 #Number of SNRMatrix rows\n",
    "\n",
    "var_x = 'M' #Variable on x-axis\n",
    "\n",
    "sampleRate_x = 50 #Number of SNRMatrix columns\n",
    "\n",
    "#Selects which noise curve: 0 is Neil Cornish's,\n",
    "# \t\t\t\t\t\t\t1 is the 2016 proposal,\n",
    "#\t\t\t\t\t\t\t2 is Einstein Telescope, \n",
    "#\t\t\t\t\t\t\t3 is aLIGO, \n",
    "#\t\t\t\t\t\t\t4 is NANOGrav 15yr,\n",
    "#\t\t\t\t\t\t\t5 is SKA (2030s),\n",
    "#\t\t\t\t\t\t\tanything else is the L3 proposal\n",
    "model = 2\n",
    "\n",
    "#TODO: make general intake of some f,and sqrt(S_n_f)\n",
    "\n",
    "#M = m1+m2 Total Mass\n",
    "M = 1e6\n",
    "M_min = 1e1\n",
    "M_max = 1e10\n",
    "\n",
    "#q = m2/m1 reduced mass\n",
    "q = 1.0\n",
    "q_min = 1.0\n",
    "q_max = 18.0\n",
    "\n",
    "#Chi = S_i*L/m_i**2, spins of each mass i\n",
    "chi1 = 0.0 #spin of m1\n",
    "chi2 = 0.0 #spin of m2\n",
    "chi_min = -0.85 #Limits of PhenomD for unaligned spins\n",
    "chi_max = 0.85\n",
    "\n",
    "z = 3.0 #Redshift\n",
    "z_min = 1e-2\n",
    "z_max = 1e3\n",
    "\n",
    "nfreqs = int(1e3)   #Sample rate of strain/Transfer function frequencies\n",
    "\n",
    "#Make a dictionary of dictionaries to put all source values, minima, and maxima in a nice, concise form\n",
    "source_var_dict = {'M':{'val':M,'min':M_min,'max':M_max},\n",
    "                   'q':{'val':q,'min':q_min,'max':q_max},\n",
    "                   'chi1':{'val':chi1,'min':chi_min,'max':chi_max},\n",
    "                   'chi2':{'val':chi2,'min':chi_min,'max':chi_max},\n",
    "                   'z':{'val':z,'min':z_min,'max':z_max}}"
   ]
  },
  {
   "cell_type": "markdown",
   "metadata": {},
   "source": [
    "# Model Selection"
   ]
  },
  {
   "cell_type": "code",
   "execution_count": 147,
   "metadata": {},
   "outputs": [],
   "source": [
    "if model == 0: #Robson,Cornish,and Liu 2018, LISA (https://arxiv.org/pdf/1803.01944.pdf)\n",
    "    SNR_save_name = 'LISA_Neil_SNR_Matrix' + save_version\n",
    "    Sample_save_name = 'LISA_Neil_Samples' + save_version\n",
    "    save_location = load_directory + 'LISA_Neil/SNRFiles/'\n",
    "    \n",
    "    Tobs = 4*u.yr.to('s')*u.s #Observing time in seconds\n",
    "    Tobs_min = 1*u.yr.to('s')*u.s\n",
    "    Tobs_max = 10*u.yr.to('s')*u.s\n",
    "    \n",
    "    L = 2.5e9*u.m #armlength in meters\n",
    "    L_min = 1.0e7*u.m\n",
    "    L_max = 1.0e11*u.m\n",
    "    \n",
    "    Neil_S_acc = 3e-15*u.m/u.s/u.s #M/Hz**2\n",
    "    Neil_S_oms = 1.5e-11*u.m\n",
    "    \n",
    "    #Make a dictionary of dictionaries to put all instrument values, minima, and maxima in a nice, concise form\n",
    "    inst_var_dict = {'LISA_Neil': {'Tobs':{'val':Tobs,'min':Tobs_min,'max':Tobs_max},\n",
    "                     'L':{'val':L,'min':L_min,'max':L_max},\n",
    "                     'S_acc':{'val':Neil_S_acc},\n",
    "                     'S_oms':{'val':Neil_S_oms}}}\n",
    "\n",
    "    fT,S_n_f_sqrt = SnN.NeilSensitivity(inst_var_dict)\n",
    "    S_n_f_sqrt = S_n_f_sqrt/(u.Hz)**Fraction(1,2)\n",
    "    \n",
    "elif model == 1: #Martin 2016: LISA Calculation without pathfinder correction (2016 model)\n",
    "    SNR_save_name = 'LISA_Other_SNR_Matrix' + save_version\n",
    "    Sample_save_name = 'LISA_Other_Samples' + save_version\n",
    "    save_location = load_directory + 'LISA_Other/SNRFiles/'\n",
    "    \n",
    "    Tobs = 4*u.yr.to('s')*u.s #Observing time in seconds\n",
    "    Tobs_min = 1*u.yr.to('s')*u.s\n",
    "    Tobs_max = 10*u.yr.to('s')*u.s\n",
    "    \n",
    "    L = 2.5e9*u.m #armlength in meters\n",
    "    L_min = 1.0e7*u.m\n",
    "    L_max = 1.0e11*u.m\n",
    "    \n",
    "    S_sci = 8.9e-12*u.m\n",
    "    S_loc = 1.7e-12*u.m\n",
    "    S_other = 2e-12*u.m\n",
    "    \n",
    "    S_acc_low_knee = 30.*u.uHz.to('Hz')*u.Hz\n",
    "    S_acc_high_knee = 0.1*u.mHz.to('Hz')*u.Hz\n",
    "    S_acc_low = 1.8e-14*u.m/u.s/u.s\n",
    "    S_acc_high = 3e-15*u.m/u.s/u.s\n",
    "\n",
    "    #Make a dictionary of dictionaries to put all instrument values, minima, and maxima in a nice, concise form\n",
    "    inst_var_dict = {'LISA_Martin': {'L':{'val':L,'min':L_min,'max':L_max},\n",
    "                     'Tobs':{'val':Tobs,'min':Tobs_min,'max':Tobs_max},\n",
    "                     'S_sci':{'val':S_sci},\n",
    "                     'S_loc':{'val':S_loc},\n",
    "                     'S_other':{'val':S_other},\n",
    "                     'S_acc_low_knee':{'val':S_acc_low_knee},\n",
    "                     'S_acc_high_knee':{'val':S_acc_high_knee},\n",
    "                     'S_acc_low':{'val':S_acc_low},\n",
    "                     'S_acc_high':{'val':S_acc_high}}}\n",
    "    \n",
    "    fT,S_n_f_sqrt = SnN.MartinSensitivity(inst_var_dict)\n",
    "    S_n_f_sqrt = S_n_f_sqrt/(u.Hz)**Fraction(1,2)\n",
    "    \n",
    "elif model == 2: #Einstein Telescope\n",
    "    SNR_save_name = 'ET_SNR_Matrix' + save_version\n",
    "    Sample_save_name = 'ET_Samples' + save_version\n",
    "    save_location = load_directory + 'EinsteinTelescope/SNRFiles/'\n",
    "    load_name = 'ET_D_data.txt'\n",
    "    load_location = load_directory + 'EinsteinTelescope/StrainFiles/' + load_name\n",
    "    \n",
    "    ET_data = np.loadtxt(load_location)\n",
    "    \n",
    "    Tobs = 4*u.yr.to('s')*u.s #Observing time in seconds\n",
    "    Tobs_min = 1*u.yr.to('s')*u.s\n",
    "    Tobs_max = 10*u.yr.to('s')*u.s\n",
    "    \n",
    "    #Make a dictionary of dictionaries to put all instrument values, minima, and maxima in a nice, concise form\n",
    "    inst_var_dict = {'ET': {'Tobs':{'val':Tobs,'min':Tobs_min,'max':Tobs_max}}}\n",
    "    \n",
    "    fT = ET_data[:,0]*u.Hz\n",
    "    S_n_f_sqrt = ET_data[:,1]\n",
    "    S_n_f_sqrt = S_n_f_sqrt/(u.Hz)**Fraction(1,2)\n",
    "    \n",
    "elif model == 3: #aLIGO\n",
    "    SNR_save_name = 'aLIGO_SNR_Matrix' + save_version\n",
    "    Sample_save_name = 'aLIGO_Samples' + save_version\n",
    "    save_location = load_directory + 'aLIGO/SNRFiles/'\n",
    "    load_name = 'aLIGODesign.txt'\n",
    "    load_location = load_directory + 'aLIGO/StrainFiles/' + load_name\n",
    "    \n",
    "    aLIGO_data = np.loadtxt(load_location)\n",
    "    \n",
    "    Tobs = 4*u.yr.to('s')*u.s #Observing time in seconds\n",
    "    Tobs_min = 1*u.yr.to('s')*u.s\n",
    "    Tobs_max = 10*u.yr.to('s')*u.s\n",
    "    \n",
    "    #Make a dictionary of dictionaries to put all instrument values, minima, and maxima in a nice, concise form\n",
    "    inst_var_dict = {'aLIGO': {'Tobs':{'val':Tobs,'min':Tobs_min,'max':Tobs_max}}}\n",
    "    \n",
    "    fT = aLIGO_data[:,0]*u.Hz\n",
    "    S_n_f_sqrt = aLIGO_data[:,1]\n",
    "    S_n_f_sqrt = S_n_f_sqrt/(u.Hz)**Fraction(1,2)\n",
    "    \n",
    "elif model == 4: #NANOGrav 15 yr\n",
    "    \n",
    "    SNR_save_name = 'NANOGrav_SNR_Matrix' + save_version\n",
    "    Sample_save_name = 'NANOGrav_Samples' + save_version\n",
    "    save_location = load_directory + 'NANOGrav/SNRFiles/'\n",
    "    \n",
    "    ###############################################\n",
    "    #NANOGrav calculation using 11.5yr parameters https://arxiv.org/abs/1801.01837\n",
    "    Tobs = 15*u.yr.to('s')*u.s #Observing time (years->seconds)\n",
    "    Tobs_min = 10*u.yr.to('s')*u.s\n",
    "    Tobs_max = 30*u.yr.to('s')*u.s\n",
    "    \n",
    "    rms = 100*u.ns.to('s')*u.s #rms timing residuals in seconds\n",
    "    Np = 18 #Number of pulsars\n",
    "    cadence = 1/(2*u.wk.to('s')*u.s) #Avg observation cadence of 1 every 2 weeks in seconds\n",
    "    ndetectors = 1\n",
    "\n",
    "    #Make a dictionary of dictionaries to put all instrument values, minima, and maxima in a nice, concise form\n",
    "    inst_var_dict = {'NANOGrav':{'Tobs':{'val':Tobs,'min':Tobs_min,'max':Tobs_max},\n",
    "                     'Np':{'val':Np},\n",
    "                     'rms':{'val':rms},\n",
    "                     'cadence':{'val':cadence}}}\n",
    "    \n",
    "    fT,S_n_f_sqrt = SnN.Get_PTAASD_v2(inst_var_dict,A_stoch_back=0.0)\n",
    "    \n",
    "elif model == 5: #SKA (2030s)\n",
    "    \n",
    "    SNR_save_name = 'SKA_SNR_Matrix' + save_version\n",
    "    Sample_save_name = 'SKA_Samples' + save_version\n",
    "    save_location = load_directory + 'SKA/SNRFiles/'\n",
    "    \n",
    "    ###############################################\n",
    "    #SKA calculation using parameters and methods from arXiv:0804.4476 section 7.1\n",
    "    Tobs = 15*u.yr.to('s')*u.s #Observing time (years->seconds)\n",
    "    Tobs_min = 10*u.yr.to('s')*u.s\n",
    "    Tobs_max = 30*u.yr.to('s')*u.s\n",
    "    rms = 10*u.ns.to('s')*u.s #rms timing residuals in nanoseconds\n",
    "    Np = 20 #Number of pulsars\n",
    "    cadence = 1/(u.wk.to('s')*u.s) #Avg observation cadence of 1 every week in seconds\n",
    "    ndetectors = 1\n",
    "                     \n",
    "    #Make a dictionary of dictionaries to put all instrument values, minima, and maxima in a nice, concise form\n",
    "    inst_var_dict = {'SKA': {'Tobs':{'val':Tobs,'min':Tobs_min,'max':Tobs_max},\n",
    "                     'Np':{'val':Np},\n",
    "                     'rms':{'val':rms},\n",
    "                     'cadence':{'val':cadence}}}\n",
    "\n",
    "    fT,S_n_f_sqrt = SnN.Get_PTAASD_v2(inst_var_dict,A_stoch_back=0.0)\n",
    "    \n",
    "else: #L3 proposal\n",
    "    SNR_save_name = 'LISA_ESA_SNR_Matrix' + save_version\n",
    "    Sample_save_name = 'LISA_ESA_Samples' + save_version\n",
    "    save_location = load_directory + 'LISA_ESA/SNRFiles/'\n",
    "    \n",
    "    Tobs = 4*u.yr.to('s')*u.s #Observing time in seconds\n",
    "    Tobs_min = 1*u.yr.to('s')*u.s\n",
    "    Tobs_max = 10*u.yr.to('s')*u.s\n",
    "    L = 2.5e9*u.m #armlength in meters\n",
    "    L_min = 1.0e7*u.m\n",
    "    L_max = 1.0e11*u.m\n",
    "\n",
    "    S_acc_low_knee = .4*u.mHz.to('Hz')*u.Hz\n",
    "    S_acc_high_knee = 8.*u.mHz.to('Hz')*u.Hz\n",
    "    S_oms_knee = 2.*u.mHz.to('Hz')*u.Hz\n",
    "    S_acc = 3e-15*u.m/u.s/u.s\n",
    "    S_ims = 10e-12*u.m\n",
    "\n",
    "    #Make a dictionary of dictionaries to put all instrument values, minima, and maxima in a nice, concise form\n",
    "    inst_var_dict = {'LISA_ESA': {'L':{'val':L,'min':L_min,'max':L_max},\n",
    "                     'Tobs':{'val':Tobs,'min':Tobs_min,'max':Tobs_max},\n",
    "                     'S_acc_low_knee':{'val':S_acc_low_knee},\n",
    "                     'S_acc_high_knee':{'val':S_acc_high_knee},\n",
    "                     'S_oms_knee':{'val':S_oms_knee},\n",
    "                     'S_acc':{'val':S_acc},\n",
    "                     'S_ims':{'val':S_ims}}}\n",
    "\n",
    "    fT,S_n_f_sqrt = SnN.LisaSensitivity(inst_var_dict,Background=False)\n",
    "    S_n_f_sqrt = S_n_f_sqrt/(u.Hz)**Fraction(1,2)"
   ]
  },
  {
   "cell_type": "markdown",
   "metadata": {},
   "source": [
    "# Setting Up SNR Calculation\n",
    "Uses the variables given and the data range to sample the space either logrithmically or linearly based on the \n",
    "selection of variables. Then it computes the SNR for each value.\n",
    "Returns the variable ranges used to calculate the SNR for each matrix, then returns the SNRs with size of the sample1Xsample2\n"
   ]
  },
  {
   "cell_type": "code",
   "execution_count": 84,
   "metadata": {},
   "outputs": [
    {
     "name": "stderr",
     "output_type": "stream",
     "text": [
      "/home/andrew/anaconda3/lib/python3.6/site-packages/astropy/units/quantity.py:639: RuntimeWarning: invalid value encountered in power\n",
      "  result = super().__array_ufunc__(function, method, *arrays, **kwargs)\n"
     ]
    },
    {
     "name": "stdout",
     "output_type": "stream",
     "text": [
      "9.567089319229126\n"
     ]
    }
   ],
   "source": [
    "start = time.time()\n",
    "[sample_x_orig,sample_y_orig,SNRMatrix_orig] = SNc.getSNRMatrix(source_var_dict,inst_var_dict,fT,S_n_f_sqrt,Tobs,\\\n",
    "                                                 var_x,sampleRate_x,var_y,sampleRate_y,model)\n",
    "end = time.time()\n",
    "print(end-start)"
   ]
  },
  {
   "cell_type": "code",
   "execution_count": 148,
   "metadata": {},
   "outputs": [
    {
     "name": "stdout",
     "output_type": "stream",
     "text": [
      "x var:  M\n",
      "y var:  Tobs\n"
     ]
    },
    {
     "name": "stderr",
     "output_type": "stream",
     "text": [
      "/home/andrew/anaconda3/lib/python3.6/site-packages/astropy/units/quantity.py:639: RuntimeWarning: invalid value encountered in power\n",
      "  result = super().__array_ufunc__(function, method, *arrays, **kwargs)\n"
     ]
    },
    {
     "name": "stdout",
     "output_type": "stream",
     "text": [
      "33.4575457572937\n"
     ]
    }
   ],
   "source": [
    "start = time.time()\n",
    "[sample_x,sample_y,SNRMatrix] = SNc_v2.getSNRMatrix(source_var_dict,inst_var_dict,\\\n",
    "                                                 var_x,sampleRate_x,var_y,sampleRate_y)\n",
    "end = time.time()\n",
    "print(end-start)"
   ]
  },
  {
   "cell_type": "code",
   "execution_count": 86,
   "metadata": {},
   "outputs": [],
   "source": [
    "f_init = fT[np.argmin(S_n_f_sqrt)]\n",
    "if model == 4 or model ==5:\n",
    "    SNc.calcPTAMonoSNR(source_var_dict,inst_var_dict,f_init)"
   ]
  },
  {
   "cell_type": "code",
   "execution_count": 149,
   "metadata": {},
   "outputs": [
    {
     "data": {
      "image/png": "[encoded data removed]",
      "text/plain": [
       "<Figure size 720x576 with 2 Axes>"
      ]
     },
     "metadata": {},
     "output_type": "display_data"
    }
   ],
   "source": [
    "SNc_v2.plotSNR(source_var_dict,inst_var_dict,var_x,sample_x,var_y,sample_y,SNRMatrix)"
   ]
  },
  {
   "cell_type": "code",
   "execution_count": 88,
   "metadata": {},
   "outputs": [
    {
     "data": {
      "image/png": "[encoded data removed]",
      "text/plain": [
       "<Figure size 720x576 with 2 Axes>"
      ]
     },
     "metadata": {},
     "output_type": "display_data"
    }
   ],
   "source": [
    "SNc.plotSNR(source_var_dict,var_x,sample_x_orig,var_y,sample_y_orig,SNRMatrix_orig)"
   ]
  },
  {
   "cell_type": "code",
   "execution_count": 12,
   "metadata": {},
   "outputs": [],
   "source": [
    "#SNc.saveSNR(sample_x,sample_y,SNRMatrix,save_location,SNR_save_name,Sample_save_name)"
   ]
  },
  {
   "cell_type": "code",
   "execution_count": null,
   "metadata": {},
   "outputs": [],
   "source": []
  },
  {
   "cell_type": "code",
   "execution_count": null,
   "metadata": {},
   "outputs": [],
   "source": []
  }
 ],
 "metadata": {
  "kernelspec": {
   "display_name": "Python 3",
   "language": "python",
   "name": "python3"
  },
  "language_info": {
   "codemirror_mode": {
    "name": "ipython",
    "version": 3
   },
   "file_extension": ".py",
   "mimetype": "text/x-python",
   "name": "python",
   "nbconvert_exporter": "python",
   "pygments_lexer": "ipython3",
   "version": "3.6.5"
  }
 },
 "nbformat": 4,
 "nbformat_minor": 2
}
