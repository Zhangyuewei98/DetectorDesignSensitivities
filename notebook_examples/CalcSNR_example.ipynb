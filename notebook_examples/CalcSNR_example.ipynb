{
 "cells": [
  {
   "cell_type": "code",
   "execution_count": 38,
   "metadata": {},
   "outputs": [
    {
     "name": "stdout",
     "output_type": "stream",
     "text": [
      "The autoreload extension is already loaded. To reload it, use:\n",
      "  %reload_ext autoreload\n"
     ]
    }
   ],
   "source": [
    "%load_ext autoreload\n",
    "%autoreload 2"
   ]
  },
  {
   "cell_type": "code",
   "execution_count": 39,
   "metadata": {},
   "outputs": [],
   "source": [
    "import numpy as np\n",
    "import matplotlib.pyplot as plt\n",
    "import astropy.constants as const\n",
    "import os, sys\n",
    "import astropy.units as u\n",
    "from fractions import Fraction"
   ]
  },
  {
   "cell_type": "markdown",
   "metadata": {},
   "source": [
    "# Directory Names"
   ]
  },
  {
   "cell_type": "code",
   "execution_count": 46,
   "metadata": {},
   "outputs": [],
   "source": [
    "current_path = os.getcwd()\n",
    "splt_path = current_path.split(\"/\")\n",
    "top_path_idx = splt_path.index('DetectorDesignSensitivities')\n",
    "top_directory = \"/\".join(splt_path[0:top_path_idx+1])\n",
    "load_directory = top_directory + '/LoadFiles/InstrumentFiles/'\n",
    "\n",
    "sys.path.insert(0,top_directory + '/Functions')\n",
    "import StrainandNoise as SnN\n",
    "import SNRcalc as SNc\n",
    "\n",
    "#Save suffix for SNR and Sample data files\n",
    "save_version = '_3.dat'"
   ]
  },
  {
   "cell_type": "markdown",
   "metadata": {},
   "source": [
    "# Constants and Initial Parameters"
   ]
  },
  {
   "cell_type": "code",
   "execution_count": 51,
   "metadata": {},
   "outputs": [],
   "source": [
    "'''\n",
    "    Variables: \n",
    "        'M' - Mass (Solar Units)\n",
    "        'q' - Mass Ratio\n",
    "        'chi1' - Spin1\n",
    "        'chi2' - Spin2\n",
    "        'z' - Redshift\n",
    "'''\n",
    "\n",
    "var_y = 'z' #Variable on y-axis\n",
    "\n",
    "sampleRate_y = 100 #Number of SNRMatrix rows\n",
    "\n",
    "var_x = 'M' #Variable on x-axis\n",
    "\n",
    "sampleRate_x = 100 #Number of SNRMatrix columns\n",
    "\n",
    "#Selects which noise curve: 0 is Neil Cornish's,\n",
    "# \t\t\t\t\t\t\t1 is the 2016 proposal,\n",
    "#\t\t\t\t\t\t\t2 is Einstein Telescope, \n",
    "#\t\t\t\t\t\t\t3 is aLIGO, \n",
    "#\t\t\t\t\t\t\t4 is NANOGrav 11yr,\n",
    "#\t\t\t\t\t\t\t5 is SKA (2030s),\n",
    "#\t\t\t\t\t\t\tanything else is the L3 proposal\n",
    "model = 5\n",
    "\n",
    "#TODO: make general intake of some f,and sqrt(S_n_f)\n",
    "\n",
    "#M = m1+m2 Total Mass\n",
    "M = 1e7\n",
    "M_min = 1e7\n",
    "M_max = 1e12\n",
    "\n",
    "#q = m2/m1 reduced mass\n",
    "q = 1.0\n",
    "q_min = 1.0\n",
    "q_max = 18.0\n",
    "\n",
    "#Chi = S_i*L/m_i**2, spins of each mass i\n",
    "chi1 = 0.0 #spin of m1\n",
    "chi2 = 0.0 #spin of m2\n",
    "chi_min = -0.85 #Limits of PhenomD for unaligned spins\n",
    "chi_max = 0.85\n",
    "\n",
    "z = 3.0 #Redshift\n",
    "z_min = 1e-2\n",
    "z_max = 1e3\n",
    "\n",
    "nfreqs = int(1e3)   #Sample rate of strain/Transfer function frequencies\n",
    "\n",
    "#Make a dictionary of dictionaries to put all values, minima, and maxima in a nice, concise form\n",
    "var_dict = {'M':{'val':M,'min':M_min,'max':M_max},\n",
    "            'q':{'val':q,'min':q_min,'max':q_max},\n",
    "            'chi1':{'val':chi1,'min':chi_min,'max':chi_max},\n",
    "            'chi2':{'val':chi2,'min':chi_min,'max':chi_max},\n",
    "            'z':{'val':z,'min':z_min,'max':z_max}}"
   ]
  },
  {
   "cell_type": "markdown",
   "metadata": {},
   "source": [
    "# Model Selection"
   ]
  },
  {
   "cell_type": "code",
   "execution_count": 63,
   "metadata": {},
   "outputs": [],
   "source": [
    "if model == 0: #Robson,Cornish,and Liu 2018, LISA (https://arxiv.org/pdf/1803.01944.pdf)\n",
    "    SNR_save_name = 'LISA_Neil_SNR_Matrix' + save_version\n",
    "    Sample_save_name = 'LISA_Neil_Samples' + save_version\n",
    "    save_location = load_directory + 'LISA_Neil/SNRFiles/'\n",
    "    \n",
    "    T_obs = 4*u.yr.to('s')*u.s #Observing time in seconds\n",
    "    Neil_L = 2.5e9*u.m #armlength in meters\n",
    "    fT,LISA_Transfer_Function = SnN.Get_TransferFunction(L=Neil_L)\n",
    "\n",
    "    Neil_S_acc = 3e-15*u.m/u.s/u.s #M/Hz**2\n",
    "    Neil_S_oms = 1.5e-11*u.m\n",
    "    \n",
    "    S_n_f_sqrt = SnN.NeilSensitivity(f,LISA_Transfer_Function)\n",
    "    S_n_f_sqrt = S_n_f_sqrt/(u.Hz)**Fraction(1,2)\n",
    "    \n",
    "elif model == 1: #Martin 2016: LISA Calculation without pathfinder correction (2016 model)\n",
    "    SNR_save_name = 'LISA_Other_SNR_Matrix' + save_version\n",
    "    Sample_save_name = 'LISA_Other_Samples' + save_version\n",
    "    save_location = load_directory + 'LISA_Other/SNRFiles/'\n",
    "    \n",
    "    T_obs = 4*u.yr.to('s')*u.s #Observing time in seconds\n",
    "    k2016_L = 2.5e9*u.m #armlength in meters\n",
    "    fT,LISA_Transfer_Function = SnN.Get_TransferFunction(L=k2016_L)\n",
    "    \n",
    "    Ssci = 8.9e-12**2*u.m*u.m\n",
    "    Sloc = 1.7e-12**2*u.m*u.m\n",
    "    Sother = 2e-12**2*u.m*u.m\n",
    "    k2016_P_ims = Ssci+2*Sloc+Sother\n",
    "    k2016_P_acc = ((1.8e-14*u.m/u.s/u.s)**2*((3e-5*u.Hz/f)**10 + (1e-4*u.Hz/f)**2) + (3e-15*u.m/u.s/u.s)**2)/(2*np.pi*f)**4   #red below 1e-4, white above\n",
    "    \n",
    "    S_n_f_sqrt = SnN.calcASD(f,LISA_Transfer_Function,k2016_P_acc,k2016_P_ims,k2016_L)\n",
    "    S_n_f_sqrt = S_n_f_sqrt/(u.Hz)**Fraction(1,2)\n",
    "    \n",
    "elif model == 2: #Einstein Telescope\n",
    "    SNR_save_name = 'ET_SNR_Matrix' + save_version\n",
    "    Sample_save_name = 'ET_Samples' + save_version\n",
    "    save_location = load_directory + 'EinsteinTelescope/SNRFiles/'\n",
    "    load_name = 'ET_D_data.txt'\n",
    "    load_location = load_directory + 'EinsteinTelescope/StrainFiles/' + load_name\n",
    "    \n",
    "    ET_data = np.loadtxt(load_location)\n",
    "    \n",
    "    T_obs = 4*u.yr.to('s')*u.s #Observing time in seconds\n",
    "    fT = ET_data[:,0]*u.Hz\n",
    "    S_n_f_sqrt = ET_data[:,1]\n",
    "    S_n_f_sqrt = S_n_f_sqrt/(u.Hz)**Fraction(1,2)\n",
    "    \n",
    "elif model == 3: #aLIGO\n",
    "    SNR_save_name = 'aLIGO_SNR_Matrix' + save_version\n",
    "    Sample_save_name = 'aLIGO_Samples' + save_version\n",
    "    save_location = load_directory + 'aLIGO/SNRFiles/'\n",
    "    load_name = 'aLIGODesign.txt'\n",
    "    load_location = load_directory + 'aLIGO/StrainFiles/' + load_name\n",
    "    \n",
    "    aLIGO_data = np.loadtxt(load_location)\n",
    "    \n",
    "    T_obs = 4*u.yr.to('s')*u.s #Observing time in seconds\n",
    "    fT = aLIGO_data[:,0]*u.Hz\n",
    "    S_n_f_sqrt = aLIGO_data[:,1]\n",
    "    S_n_f_sqrt = S_n_f_sqrt/(u.Hz)**Fraction(1,2)\n",
    "    \n",
    "elif model == 4: #NANOGrav 11 yr\n",
    "    SNR_save_name = 'NANOGrav_SNR_Matrix' + save_version\n",
    "    Sample_save_name = 'NANOGrav_Samples' + save_version\n",
    "    save_location = load_directory + 'NANOGrav/SNRFiles/'\n",
    "    \n",
    "    ###############################################\n",
    "    #NANOGrav calculation using 11.5yr parameters https://arxiv.org/abs/1801.01837\n",
    "    T_obs = 11.4*u.yr #Observing time in years\n",
    "    T_obs = T_obs.to('s') #Observing time in seconds\n",
    "    \n",
    "    deltrms_nano = 100*u.ns #rms timing residuals in seconds\n",
    "    deltrms_nano = deltrms_nano.to('s')\n",
    "\n",
    "    Np_nano = 45 #Number of pulsars\n",
    "    cadence_nano = 1/(2*u.wk) #Avg observation cadence of 1 every 2 weeks in seconds\n",
    "    cadence_nano = cadence_nano.to('1/s')\n",
    "    ndetectors = 1\n",
    "    \n",
    "    fT,S_n_f_sqrt = SnN.calcPTAASD_v2(deltrms_nano,cadence_nano,T_obs,ndetectors,Np_nano)\n",
    "    \n",
    "elif model == 5: #SKA (2030s)\n",
    "    SNR_save_name = 'SKA_SNR_Matrix' + save_version\n",
    "    Sample_save_name = 'SKA_Samples' + save_version\n",
    "    save_location = load_directory + 'SKA/SNRFiles/'\n",
    "    \n",
    "    ###############################################\n",
    "    #NANOGrav calculation using 11.5yr parameters https://arxiv.org/abs/1801.01837\n",
    "    T_nano = 11.4*u.yr #Observing time in years\n",
    "    T_nano = T_nano.to('s') #Observing time in seconds\n",
    "    \n",
    "    deltrms_nano = 100*u.ns #rms timing residuals in seconds\n",
    "    deltrms_nano = deltrms_nano.to('s')\n",
    "\n",
    "    Np_nano = 45 #Number of pulsars\n",
    "    cadence_nano = 1/(2*u.wk) #Avg observation cadence of 1 every 2 weeks in seconds\n",
    "    cadence_nano = cadence_nano.to('1/s')\n",
    "    \n",
    "    ###############################################\n",
    "    #SKA calculation using parameters and methods from arXiv:0804.4476 section 7.1\n",
    "    T_SKA = 15*u.yr #Observing time in years\n",
    "    T_SKA = T_SKA.to('s') #Observing time in seconds\n",
    "    \n",
    "    deltrms_SKA = 10*u.ns #rms timing residuals in nanoseconds\n",
    "    deltrms_SKA = deltrms_SKA.to('s')\n",
    "\n",
    "    Np_SKA = 20 #Number of pulsars\n",
    "    cadence_SKA = 1/u.wk #Avg observation cadence of 1 every week in seconds\n",
    "    cadence_SKA = cadence_SKA.to('1/s')\n",
    "    \n",
    "    ndetectors = 2\n",
    "    T_obs_full = [T_nano, T_SKA]\n",
    "    cadence_full = [cadence_nano, cadence_SKA]\n",
    "    deltrms_full = [deltrms_nano, deltrms_SKA]\n",
    "    Np_full = [Np_nano, Np_SKA]\n",
    "    \n",
    "    T_obs=T_nano+T_SKA\n",
    "\n",
    "    #fT,S_n_f_sqrt = SnN.calcPTAASD(deltrms_full,cadence_full,T_obs_full,ndetectors,Np_full)\n",
    "    fT,S_n_f_sqrt = SnN.calcPTAASD(deltrms_SKA,cadence_SKA,T_SKA,1,Np_SKA)\n",
    "    \n",
    "else: #L3 proposal\n",
    "    SNR_save_name = 'LISA_ESA_SNR_Matrix' + save_version\n",
    "    Sample_save_name = 'LISA_ESA_Samples' + save_version\n",
    "    save_location = load_directory + 'LISA_ESA/SNRFiles/'\n",
    "    \n",
    "    T_obs = 4*u.yr.to('s')*u.s #Observing time in seconds\n",
    "    ESA_L = 2.5e9*u.m #armlength in meters\n",
    "    fT,LISA_Transfer_Function = SnN.Get_TransferFunction(L=ESA_L)\n",
    "    \n",
    "    S_acc_low_knee = .4*u.mHz\n",
    "    S_acc_high_knee = 8.*u.mHz\n",
    "    S_oms_knee = 2.*u.mHz\n",
    "    \n",
    "    S_n_f_sqrt = SnN.LisaSensitivity(fT,LISA_Transfer_Function)\n",
    "    S_n_f_sqrt = S_n_f_sqrt/(u.Hz)**Fraction(1,2)"
   ]
  },
  {
   "cell_type": "markdown",
   "metadata": {},
   "source": [
    "# Setting Up SNR Calculation\n",
    "Uses the variables given and the data range to sample the space either logrithmically or linearly based on the \n",
    "selection of variables. Then it computes the SNR for each value.\n",
    "Returns the variable ranges used to calculate the SNR for each matrix, then returns the SNRs with size of the sample1Xsample2\n"
   ]
  },
  {
   "cell_type": "code",
   "execution_count": 64,
   "metadata": {},
   "outputs": [
    {
     "name": "stderr",
     "output_type": "stream",
     "text": [
      "/home/andrew/anaconda3/lib/python3.6/site-packages/astropy/units/quantity.py:639: RuntimeWarning: invalid value encountered in power\n",
      "  result = super().__array_ufunc__(function, method, *arrays, **kwargs)\n"
     ]
    }
   ],
   "source": [
    "[sample_x,sample_y,SNRMatrix] = SNc.getSNRMatrix(var_dict,fT,S_n_f_sqrt,T_obs,var_x,sampleRate_x,var_y,sampleRate_y)"
   ]
  },
  {
   "cell_type": "code",
   "execution_count": 65,
   "metadata": {},
   "outputs": [
    {
     "data": {
      "image/png": "[encoded data removed]",
      "text/plain": [
       "<Figure size 720x576 with 2 Axes>"
      ]
     },
     "metadata": {},
     "output_type": "display_data"
    }
   ],
   "source": [
    "SNc.plotSNR(var_dict,var_x,sample_x,var_y,sample_y,SNRMatrix)"
   ]
  },
  {
   "cell_type": "code",
   "execution_count": 66,
   "metadata": {},
   "outputs": [],
   "source": [
    "SNc.saveSNR(sample_x,sample_y,SNRMatrix,save_location,SNR_save_name,Sample_save_name)"
   ]
  },
  {
   "cell_type": "code",
   "execution_count": null,
   "metadata": {},
   "outputs": [],
   "source": []
  },
  {
   "cell_type": "code",
   "execution_count": null,
   "metadata": {},
   "outputs": [],
   "source": []
  }
 ],
 "metadata": {
  "kernelspec": {
   "display_name": "Python 3",
   "language": "python",
   "name": "python3"
  },
  "language_info": {
   "codemirror_mode": {
    "name": "ipython",
    "version": 3
   },
   "file_extension": ".py",
   "mimetype": "text/x-python",
   "name": "python",
   "nbconvert_exporter": "python",
   "pygments_lexer": "ipython3",
   "version": "3.6.5"
  }
 },
 "nbformat": 4,
 "nbformat_minor": 2
}
