{
 "cells": [
  {
   "cell_type": "code",
   "execution_count": 1,
   "metadata": {},
   "outputs": [],
   "source": [
    "%load_ext autoreload\n",
    "%autoreload 2"
   ]
  },
  {
   "cell_type": "code",
   "execution_count": 2,
   "metadata": {},
   "outputs": [],
   "source": [
    "import numpy as np\n",
    "import matplotlib.pyplot as plt\n",
    "import astropy.constants as const\n",
    "import os, sys\n",
    "import astropy.units as u\n",
    "from fractions import Fraction"
   ]
  },
  {
   "cell_type": "markdown",
   "metadata": {},
   "source": [
    "# Directory Names"
   ]
  },
  {
   "cell_type": "code",
   "execution_count": 3,
   "metadata": {},
   "outputs": [],
   "source": [
    "current_path = os.getcwd()\n",
    "splt_path = current_path.split(\"/\")\n",
    "top_path_idx = splt_path.index('DetectorDesignSensitivities')\n",
    "top_directory = \"/\".join(splt_path[0:top_path_idx+1])\n",
    "load_directory = top_directory + '/LoadFiles/InstrumentFiles/'\n",
    "\n",
    "sys.path.insert(0,top_directory + '/Functions')\n",
    "import StrainandNoise as SnN\n",
    "import SNRcalc as SNc\n",
    "\n",
    "#Save suffix for SNR and Sample data files\n",
    "save_version = '_3.dat'"
   ]
  },
  {
   "cell_type": "markdown",
   "metadata": {},
   "source": [
    "# Constants and Initial Parameters"
   ]
  },
  {
   "cell_type": "code",
   "execution_count": 63,
   "metadata": {},
   "outputs": [],
   "source": [
    "'''\n",
    "    Variables: \n",
    "        'M' - Mass (Solar Units)\n",
    "        'q' - Mass Ratio\n",
    "        'chi1' - Spin1\n",
    "        'chi2' - Spin2\n",
    "        'z' - Redshift\n",
    "        'Tobs' - Observation Time\n",
    "        'L' - LISA armlength\n",
    "        'Np' - Number of Pulsars\n",
    "        'rms' - Timing Error RMS\n",
    "        'dt' - cadence\n",
    "'''\n",
    "\n",
    "var_y = 'z' #Variable on y-axis\n",
    "\n",
    "sampleRate_y = 100 #Number of SNRMatrix rows\n",
    "\n",
    "var_x = 'M' #Variable on x-axis\n",
    "\n",
    "sampleRate_x = 100 #Number of SNRMatrix columns\n",
    "\n",
    "#Selects which noise curve: 0 is Neil Cornish's,\n",
    "# \t\t\t\t\t\t\t1 is the 2016 proposal,\n",
    "#\t\t\t\t\t\t\t2 is Einstein Telescope, \n",
    "#\t\t\t\t\t\t\t3 is aLIGO, \n",
    "#\t\t\t\t\t\t\t4 is NANOGrav 15yr,\n",
    "#\t\t\t\t\t\t\t5 is SKA (2030s),\n",
    "#\t\t\t\t\t\t\tanything else is the L3 proposal\n",
    "model = 4\n",
    "\n",
    "#TODO: make general intake of some f,and sqrt(S_n_f)\n",
    "\n",
    "#M = m1+m2 Total Mass\n",
    "M = 1e7\n",
    "M_min = 1e7\n",
    "M_max = 1e12\n",
    "\n",
    "#q = m2/m1 reduced mass\n",
    "q = 1.0\n",
    "q_min = 1.0\n",
    "q_max = 18.0\n",
    "\n",
    "#Chi = S_i*L/m_i**2, spins of each mass i\n",
    "chi1 = 0.0 #spin of m1\n",
    "chi2 = 0.0 #spin of m2\n",
    "chi_min = -0.85 #Limits of PhenomD for unaligned spins\n",
    "chi_max = 0.85\n",
    "\n",
    "z = 3.0 #Redshift\n",
    "z_min = 1e-2\n",
    "z_max = 1e3\n",
    "\n",
    "nfreqs = int(1e3)   #Sample rate of strain/Transfer function frequencies\n",
    "\n",
    "#Make a dictionary of dictionaries to put all source values, minima, and maxima in a nice, concise form\n",
    "source_var_dict = {'M':{'val':M,'min':M_min,'max':M_max},\n",
    "            'q':{'val':q,'min':q_min,'max':q_max},\n",
    "            'chi1':{'val':chi1,'min':chi_min,'max':chi_max},\n",
    "            'chi2':{'val':chi2,'min':chi_min,'max':chi_max},\n",
    "            'z':{'val':z,'min':z_min,'max':z_max}}"
   ]
  },
  {
   "cell_type": "markdown",
   "metadata": {},
   "source": [
    "# Model Selection"
   ]
  },
  {
   "cell_type": "code",
   "execution_count": 67,
   "metadata": {},
   "outputs": [],
   "source": [
    "if model == 0: #Robson,Cornish,and Liu 2018, LISA (https://arxiv.org/pdf/1803.01944.pdf)\n",
    "    SNR_save_name = 'LISA_Neil_SNR_Matrix' + save_version\n",
    "    Sample_save_name = 'LISA_Neil_Samples' + save_version\n",
    "    save_location = load_directory + 'LISA_Neil/SNRFiles/'\n",
    "    \n",
    "    Tobs = 4*u.yr.to('s')*u.s #Observing time in seconds\n",
    "    \n",
    "    L = 2.5e9*u.m #armlength in meters\n",
    "    L_min = 1.0e7*u.m\n",
    "    L_max = 1.0e11*u.m\n",
    "    \n",
    "    #Make a dictionary of dictionaries to put all instrument values, minima, and maxima in a nice, concise form\n",
    "    inst_var_dict = {'Tobs':{'val':Tobs},'L':{'val':L,'min':L_min,'max':L_max}}\n",
    "    \n",
    "    fT,LISA_Transfer_Function = SnN.Get_TransferFunction(L=L)\n",
    "\n",
    "    Neil_S_acc = 3e-15*u.m/u.s/u.s #M/Hz**2\n",
    "    Neil_S_oms = 1.5e-11*u.m\n",
    "    \n",
    "    S_n_f_sqrt = SnN.NeilSensitivity(f,LISA_Transfer_Function)\n",
    "    S_n_f_sqrt = S_n_f_sqrt/(u.Hz)**Fraction(1,2)\n",
    "    \n",
    "elif model == 1: #Martin 2016: LISA Calculation without pathfinder correction (2016 model)\n",
    "    SNR_save_name = 'LISA_Other_SNR_Matrix' + save_version\n",
    "    Sample_save_name = 'LISA_Other_Samples' + save_version\n",
    "    save_location = load_directory + 'LISA_Other/SNRFiles/'\n",
    "    \n",
    "    Tobs = 4*u.yr.to('s')*u.s #Observing time in seconds\n",
    "    \n",
    "    L = 2.5e9*u.m #armlength in meters\n",
    "    L_min = 1.0e7*u.m\n",
    "    L_max = 1.0e11*u.m\n",
    "    \n",
    "    #Make a dictionary of dictionaries to put all instrument values, minima, and maxima in a nice, concise form\n",
    "    inst_var_dict = {'Tobs':{'val':Tobs},'L':{'val':L,'min':L_min,'max':L_max}}\n",
    "                     \n",
    "    fT,LISA_Transfer_Function = SnN.Get_TransferFunction(L=L)\n",
    "    \n",
    "    Ssci = 8.9e-12**2*u.m*u.m\n",
    "    Sloc = 1.7e-12**2*u.m*u.m\n",
    "    Sother = 2e-12**2*u.m*u.m\n",
    "    P_ims = Ssci+2*Sloc+Sother\n",
    "    P_acc = ((1.8e-14*u.m/u.s/u.s)**2*((3e-5*u.Hz/f)**10 + (1e-4*u.Hz/f)**2) + (3e-15*u.m/u.s/u.s)**2)/(2*np.pi*f)**4   #red below 1e-4, white above\n",
    "    \n",
    "    inst_var_dict = {'L':{'val':L,'min':L_min,'max':L_max},\n",
    "                 'Tobs':{'val':Tobs},\n",
    "                 'P_high':{'val':P_ims},\n",
    "                 'P_low':{'val':P_acc}}\n",
    "    \n",
    "    S_n_f_sqrt = SnN.calcASD(f,LISA_Transfer_Function,k2016_P_acc,k2016_P_ims,k2016_L)\n",
    "    S_n_f_sqrt = S_n_f_sqrt/(u.Hz)**Fraction(1,2)\n",
    "    \n",
    "elif model == 2: #Einstein Telescope\n",
    "    SNR_save_name = 'ET_SNR_Matrix' + save_version\n",
    "    Sample_save_name = 'ET_Samples' + save_version\n",
    "    save_location = load_directory + 'EinsteinTelescope/SNRFiles/'\n",
    "    load_name = 'ET_D_data.txt'\n",
    "    load_location = load_directory + 'EinsteinTelescope/StrainFiles/' + load_name\n",
    "    \n",
    "    ET_data = np.loadtxt(load_location)\n",
    "    \n",
    "    Tobs = 4*u.yr.to('s')*u.s #Observing time in seconds\n",
    "    \n",
    "    #Make a dictionary of dictionaries to put all instrument values, minima, and maxima in a nice, concise form\n",
    "    inst_var_dict = {'Tobs':{'val':Tobs}}\n",
    "    \n",
    "    fT = ET_data[:,0]*u.Hz\n",
    "    S_n_f_sqrt = ET_data[:,1]\n",
    "    S_n_f_sqrt = S_n_f_sqrt/(u.Hz)**Fraction(1,2)\n",
    "    \n",
    "elif model == 3: #aLIGO\n",
    "    SNR_save_name = 'aLIGO_SNR_Matrix' + save_version\n",
    "    Sample_save_name = 'aLIGO_Samples' + save_version\n",
    "    save_location = load_directory + 'aLIGO/SNRFiles/'\n",
    "    load_name = 'aLIGODesign.txt'\n",
    "    load_location = load_directory + 'aLIGO/StrainFiles/' + load_name\n",
    "    \n",
    "    aLIGO_data = np.loadtxt(load_location)\n",
    "    \n",
    "    Tobs = 4*u.yr.to('s')*u.s #Observing time in seconds\n",
    "    \n",
    "    #Make a dictionary of dictionaries to put all instrument values, minima, and maxima in a nice, concise form\n",
    "    inst_var_dict = {'Tobs':{'val':Tobs}}\n",
    "    \n",
    "    fT = aLIGO_data[:,0]*u.Hz\n",
    "    S_n_f_sqrt = aLIGO_data[:,1]\n",
    "    S_n_f_sqrt = S_n_f_sqrt/(u.Hz)**Fraction(1,2)\n",
    "    \n",
    "elif model == 4: #NANOGrav 15 yr\n",
    "    PTA_model = True\n",
    "    \n",
    "    SNR_save_name = 'NANOGrav_SNR_Matrix' + save_version\n",
    "    Sample_save_name = 'NANOGrav_Samples' + save_version\n",
    "    save_location = load_directory + 'NANOGrav/SNRFiles/'\n",
    "    \n",
    "    ###############################################\n",
    "    #NANOGrav calculation using 11.5yr parameters https://arxiv.org/abs/1801.01837\n",
    "    Tobs = 15*u.yr.to('s')*u.s #Observing time (years->seconds)\n",
    "    Tobs_min = 0.0*u.yr.to('s')*u.s\n",
    "    Tobs_max = 0.0*u.yr.to('s')*u.s\n",
    "    \n",
    "    rms = 100*u.ns.to('s')*u.s #rms timing residuals in seconds\n",
    "\n",
    "    Np = 18 #Number of pulsars\n",
    "    \n",
    "    cadence = 1/(2*u.wk.to('s')*u.s) #Avg observation cadence of 1 every 2 weeks in seconds\n",
    "                     \n",
    "    #Make a dictionary of dictionaries to put all instrument values, minima, and maxima in a nice, concise form\n",
    "    inst_var_dict = {'Tobs':{'val':Tobs},\n",
    "                     'Np':{'val':Np},\n",
    "                     'rms':{'val':rms},\n",
    "                     'cadence':{'val':cadence}}\n",
    "    \n",
    "    #fT,S_n_f_sqrt = SnN.calcPTAASD(deltrms_nano,cadence_nano,T_obs,ndetectors,Np_nano)\n",
    "    fT,S_n_f_sqrt = SnN.calcPTAASD_v3(inst_var_dict)\n",
    "    \n",
    "elif model == 5: #SKA (2030s)\n",
    "    PTA_model = True\n",
    "    \n",
    "    SNR_save_name = 'SKA_SNR_Matrix' + save_version\n",
    "    Sample_save_name = 'SKA_Samples' + save_version\n",
    "    save_location = load_directory + 'SKA/SNRFiles/'\n",
    "    \n",
    "    ###############################################\n",
    "    #SKA calculation using parameters and methods from arXiv:0804.4476 section 7.1\n",
    "    Tobs = 15*u.yr.to('s')*u.s #Observing time (years->seconds)\n",
    "    rms = 10*u.ns.to('s')*u.s #rms timing residuals in nanoseconds\n",
    "    Np = 20 #Number of pulsars\n",
    "    cadence = 1/(u.wk.to('s')*u.s) #Avg observation cadence of 1 every week in seconds\n",
    "                     \n",
    "    #Make a dictionary of dictionaries to put all instrument values, minima, and maxima in a nice, concise form\n",
    "    inst_var_dict = {'Tobs':{'val':Tobs},\n",
    "                     'Np':{'val':Np},\n",
    "                     'rms':{'val':rms},\n",
    "                     'cadence':{'val':cadence}}\n",
    "\n",
    "    #fT,S_n_f_sqrt = SnN.calcPTAASD(deltrms_full,cadence_full,T_obs_full,ndetectors,Np_full)\n",
    "    fT,S_n_f_sqrt = SnN.calcPTAASD_v3(inst_var_dict)\n",
    "    \n",
    "else: #L3 proposal\n",
    "    SNR_save_name = 'LISA_ESA_SNR_Matrix' + save_version\n",
    "    Sample_save_name = 'LISA_ESA_Samples' + save_version\n",
    "    save_location = load_directory + 'LISA_ESA/SNRFiles/'\n",
    "    \n",
    "    Tobs = 4*u.yr.to('s')*u.s #Observing time in seconds\n",
    "    L = 2.5e9*u.m #armlength in meters\n",
    "    L_min = 1.0e7*u.m\n",
    "    L_max = 1.0e11*u.m\n",
    "\n",
    "    S_acc_low_knee = .4*u.mHz.to('Hz')*u.Hz\n",
    "    S_acc_high_knee = 8.*u.mHz.to('Hz')*u.Hz\n",
    "    S_oms_knee = 2.*u.mHz.to('Hz')*u.Hz\n",
    "\n",
    "    #Make a dictionary of dictionaries to put all instrument values, minima, and maxima in a nice, concise form\n",
    "    inst_var_dict = {'L':{'val':L,'min':L_min,'max':L_max},\n",
    "                     'Tobs':{'val':Tobs},\n",
    "                     'S_acc_low_knee':{'val':S_acc_low_knee},\n",
    "                     'S_acc_high_knee':{'val':S_acc_high_knee},\n",
    "                     'S_oms_knee':{'val':S_oms_knee}}\n",
    "\n",
    "    fT,S_n_f_sqrt = SnN.LisaSensitivity_v2(inst_var_dict)\n",
    "    S_n_f_sqrt = S_n_f_sqrt/(u.Hz)**Fraction(1,2)"
   ]
  },
  {
   "cell_type": "markdown",
   "metadata": {},
   "source": [
    "# Setting Up SNR Calculation\n",
    "Uses the variables given and the data range to sample the space either logrithmically or linearly based on the \n",
    "selection of variables. Then it computes the SNR for each value.\n",
    "Returns the variable ranges used to calculate the SNR for each matrix, then returns the SNRs with size of the sample1Xsample2\n"
   ]
  },
  {
   "cell_type": "code",
   "execution_count": null,
   "metadata": {},
   "outputs": [
    {
     "name": "stderr",
     "output_type": "stream",
     "text": [
      "/home/andrew/Documents/Research/DetectorDesignSensitivities/Functions/SNRcalc.py:134: RuntimeWarning: invalid value encountered in true_divide\n",
      "  delta_approx = np.sin(np.pi*(f-f_init).value*T_obs.value)/np.pi/((f-f_init).value)\n",
      "/home/andrew/anaconda3/lib/python3.6/site-packages/astropy/units/quantity.py:639: RuntimeWarning: invalid value encountered in power\n",
      "  result = super().__array_ufunc__(function, method, *arrays, **kwargs)\n"
     ]
    }
   ],
   "source": [
    "[sample_x,sample_y,SNRMatrix,tmpSNR] = SNc.getSNRMatrix(source_var_dict,inst_var_dict,fT,S_n_f_sqrt,T_obs,\\\n",
    "                                                 var_x,sampleRate_x,var_y,sampleRate_y,\\\n",
    "                                                 PTA_model=PTA_model)"
   ]
  },
  {
   "cell_type": "code",
   "execution_count": 57,
   "metadata": {},
   "outputs": [
    {
     "name": "stdout",
     "output_type": "stream",
     "text": [
      "h_char =  1.9795779110369733e-10 Hz(2/3) s(2/3)\n",
      "SNR_scale =  4.411985523072547e-46 1 / s\n",
      "denom =  5.6476377129679225e-46 Hz4 s6\n",
      "numer =  5.262012760708249e-39 1 / s\n",
      "integrand =  9317192.476114014 1 / (Hz4 s7)\n"
     ]
    },
    {
     "name": "stderr",
     "output_type": "stream",
     "text": [
      "/home/andrew/Documents/Research/DetectorDesignSensitivities/Functions/SNRcalc.py:134: RuntimeWarning: invalid value encountered in true_divide\n",
      "  delta_approx = np.sin(np.pi*(fT-f_init).value*T_obs.value)/np.pi/((fT-f_init).value)\n"
     ]
    },
    {
     "data": {
      "text/plain": [
       "nan"
      ]
     },
     "execution_count": 57,
     "metadata": {},
     "output_type": "execute_result"
    }
   ],
   "source": [
    "f_init = fT[np.argmin(S_n_f_sqrt)]\n",
    "SNc.calcPTAMonoSNR(source_var_dict,inst_var_dict,f_init)"
   ]
  },
  {
   "cell_type": "code",
   "execution_count": 60,
   "metadata": {},
   "outputs": [
    {
     "data": {
      "image/png": "[encoded data removed]",
      "text/plain": [
       "<Figure size 432x288 with 2 Axes>"
      ]
     },
     "metadata": {},
     "output_type": "display_data"
    }
   ],
   "source": [
    "plt.contourf(np.log10(sample_x),np.log10(sample_y),np.log(tmpSNR))\n",
    "plt.colorbar()\n",
    "plt.show()"
   ]
  },
  {
   "cell_type": "code",
   "execution_count": 62,
   "metadata": {},
   "outputs": [
    {
     "data": {
      "image/png": "[encoded data removed]",
      "text/plain": [
       "<Figure size 720x576 with 2 Axes>"
      ]
     },
     "metadata": {},
     "output_type": "display_data"
    }
   ],
   "source": [
    "SNc.plotSNR(var_dict,var_x,sample_x,var_y,sample_y,SNRMatrix)"
   ]
  },
  {
   "cell_type": "code",
   "execution_count": 20,
   "metadata": {},
   "outputs": [],
   "source": [
    "#SNc.saveSNR(sample_x,sample_y,SNRMatrix,save_location,SNR_save_name,Sample_save_name)"
   ]
  },
  {
   "cell_type": "code",
   "execution_count": null,
   "metadata": {},
   "outputs": [],
   "source": []
  },
  {
   "cell_type": "code",
   "execution_count": null,
   "metadata": {},
   "outputs": [],
   "source": []
  }
 ],
 "metadata": {
  "kernelspec": {
   "display_name": "Python 3",
   "language": "python",
   "name": "python3"
  },
  "language_info": {
   "codemirror_mode": {
    "name": "ipython",
    "version": 3
   },
   "file_extension": ".py",
   "mimetype": "text/x-python",
   "name": "python",
   "nbconvert_exporter": "python",
   "pygments_lexer": "ipython3",
   "version": "3.6.5"
  }
 },
 "nbformat": 4,
 "nbformat_minor": 2
}
