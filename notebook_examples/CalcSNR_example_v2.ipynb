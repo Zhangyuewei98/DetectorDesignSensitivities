{
 "cells": [
  {
   "cell_type": "code",
   "execution_count": 1,
   "metadata": {},
   "outputs": [],
   "source": [
    "%load_ext autoreload\n",
    "%autoreload 2"
   ]
  },
  {
   "cell_type": "code",
   "execution_count": 2,
   "metadata": {},
   "outputs": [],
   "source": [
    "import numpy as np\n",
    "import matplotlib.pyplot as plt\n",
    "from matplotlib import rc\n",
    "import astropy.constants as const\n",
    "import os, sys, time\n",
    "import astropy.units as u\n",
    "from fractions import Fraction"
   ]
  },
  {
   "cell_type": "code",
   "execution_count": 3,
   "metadata": {},
   "outputs": [],
   "source": [
    "rc('text',usetex=True)\n",
    "rc('font',**{'family':'serif','serif':['Times New Roman'],'size':14})#,'weight':'bold'})"
   ]
  },
  {
   "cell_type": "markdown",
   "metadata": {},
   "source": [
    "# Directory Names"
   ]
  },
  {
   "cell_type": "code",
   "execution_count": 4,
   "metadata": {},
   "outputs": [],
   "source": [
    "current_path = os.getcwd()\n",
    "splt_path = current_path.split(\"/\")\n",
    "top_path_idx = splt_path.index('DetectorDesignSensitivities')\n",
    "top_directory = \"/\".join(splt_path[0:top_path_idx+1])\n",
    "load_directory = top_directory + '/LoadFiles/InstrumentFiles/'\n",
    "\n",
    "sys.path.insert(0,top_directory + '/Functions')\n",
    "import StrainandNoise_v2 as SnN_v2\n",
    "import SNRcalc_v3 as SNc_v3\n",
    "\n",
    "#Save suffix for SNR and Sample data files\n",
    "save_version = '_2.dat'"
   ]
  },
  {
   "cell_type": "code",
   "execution_count": 5,
   "metadata": {},
   "outputs": [],
   "source": [
    "fig_save_idx = splt_path.index('Research')\n",
    "fig_save_location = \"/\".join(splt_path[0:fig_save_idx+1])\n",
    "fig_save_location += '/paperfigs'"
   ]
  },
  {
   "cell_type": "markdown",
   "metadata": {},
   "source": [
    "# Constants and Initial Parameters"
   ]
  },
  {
   "cell_type": "code",
   "execution_count": 22,
   "metadata": {},
   "outputs": [],
   "source": [
    "'''\n",
    "NOT REALLY YET.\n",
    "    Variables: \n",
    "        GLOBAL:\n",
    "            'Tobs' - Observation Time\n",
    "        SOURCE:\n",
    "            'M' - Mass (Solar Units)\n",
    "            'q' - Mass Ratio\n",
    "            'chi1' - Spin1\n",
    "            'chi2' - Spin2\n",
    "            'z' - Redshift\n",
    "        LISA ONLY:\n",
    "            'L' - Armlength\n",
    "            'A_acc' - Acceleration Noise\n",
    "            'A_IMS' - Optical Metrology\n",
    "            'f_acc_break_low'\n",
    "            'f_acc_break_high'\n",
    "            'f_IMS_break'\n",
    "        PTAs ONLY:\n",
    "            'N_p' - Number of Pulsars\n",
    "            'sigma' - Timing Error RMS\n",
    "            'cadence' - cadence\n",
    "'''\n",
    "\n",
    "var_y = 'z' #Variable on y-axis\n",
    "\n",
    "sampleRate_y = 200 #Number of SNRMatrix rows\n",
    "\n",
    "var_x = 'M' #Variable on x-axis\n",
    "\n",
    "sampleRate_x = 200 #Number of SNRMatrix columns"
   ]
  },
  {
   "cell_type": "code",
   "execution_count": 7,
   "metadata": {},
   "outputs": [],
   "source": [
    "#Selects which noise curve:\n",
    "#\t\t\t\t\t\t\t0 is Einstein Telescope, \n",
    "#\t\t\t\t\t\t\t1 is aLIGO, \n",
    "#\t\t\t\t\t\t\t2 is NANOGrav 15yr,\n",
    "#\t\t\t\t\t\t\t3 is SKA (2030s),\n",
    "#\t\t\t\t\t\t\t4 is Neil Cornish's,\n",
    "#\t\t\t\t\t\t\tanything else is the L3 proposal\n",
    "model = 2"
   ]
  },
  {
   "cell_type": "code",
   "execution_count": 8,
   "metadata": {},
   "outputs": [],
   "source": [
    "#For use in the SNR of the diff EOB waveforms\n",
    "# 0 is diff0002\n",
    "# 1 is diff0114\n",
    "# 2 is diff0178\n",
    "# 3 is diff0261\n",
    "# 4 is diff0303\n",
    "diff_model = 0\n",
    "if diff_model == 0:\n",
    "    diff_name = 'diff0002'\n",
    "elif diff_model == 1:\n",
    "    diff_name = 'diff0114'\n",
    "elif diff_model == 2:\n",
    "    diff_name = 'diff0178'\n",
    "elif diff_model == 3:\n",
    "    diff_name = 'diff0261'\n",
    "elif diff_model == 4:\n",
    "    diff_name = 'diff0303'\n",
    "#TODO: make general intake of some f,and sqrt(S_n_f)"
   ]
  },
  {
   "cell_type": "markdown",
   "metadata": {},
   "source": [
    "# Source Selection"
   ]
  },
  {
   "cell_type": "code",
   "execution_count": 9,
   "metadata": {},
   "outputs": [],
   "source": [
    "def Get_Source(model):\n",
    "    source = SnN_v2.BlackHoleBinary()\n",
    "    if model == 0 or model == 1:\n",
    "        #M = m1+m2 Total Mass\n",
    "        M = 1e2\n",
    "        M_min = 1e0\n",
    "        M_max = 1e5\n",
    "    elif model == 2 or model == 3:\n",
    "        #M = m1+m2 Total Mass\n",
    "        M = 1e8\n",
    "        M_min = 1e7\n",
    "        M_max = 1e11\n",
    "    else:\n",
    "        #M = m1+m2 Total Mass\n",
    "        M = 1e6\n",
    "        M_min = 1e1\n",
    "        M_max = 1e10\n",
    "\n",
    "    source.Set_Mass(M,M_min,M_max)\n",
    "    \n",
    "    #q = m2/m1 reduced mass\n",
    "    q = 1.0\n",
    "    q_min = 1.0\n",
    "    q_max = 18.0\n",
    "    \n",
    "    source.Set_MassRatio(q,q_min,q_max)\n",
    "\n",
    "    #Chi = S_i*L/m_i**2, spins of each mass i\n",
    "    chi1 = 0.0 #spin of m1\n",
    "    chi2 = 0.0 #spin of m2\n",
    "    chi_min = -0.85 #Limits of PhenomD for unaligned spins\n",
    "    chi_max = 0.85\n",
    "    \n",
    "    source.Set_Chi1(chi1,chi_min,chi_max)\n",
    "    source.Set_Chi2(chi2,chi_min,chi_max)\n",
    "    \n",
    "    z = 3.0 #Redshift\n",
    "    z_min = 1e-2\n",
    "    z_max = 1e3\n",
    "    \n",
    "    source.Set_Redshift(z,z_min,z_max)\n",
    "\n",
    "    source.nfreqs = int(1e3)   #Sample rate of strain/Transfer function frequencies\n",
    "    \n",
    "    #Doesn't Really work yet\n",
    "    inc = 0.0\n",
    "    inc_min = 0.0\n",
    "    inc_max = 0.0\n",
    "    source.Set_Inclination(inc,inc_min,inc_max)\n",
    "\n",
    "    return source"
   ]
  },
  {
   "cell_type": "markdown",
   "metadata": {},
   "source": [
    "# Model Selection"
   ]
  },
  {
   "cell_type": "code",
   "execution_count": 10,
   "metadata": {},
   "outputs": [],
   "source": [
    "def Get_Model(model):\n",
    "    if model == 0: #Einstein Telescope\n",
    "        SNR_save_name = 'ET_SNR_Matrix' + save_version\n",
    "        Sample_save_name = 'ET_Samples' + save_version\n",
    "        save_location = load_directory + 'EinsteinTelescope/SNRFiles/'\n",
    "        load_name = 'ET_D_data.txt'\n",
    "        load_location = load_directory + 'EinsteinTelescope/StrainFiles/' + load_name\n",
    "\n",
    "        instrument = SnN_v2.GroundBased('ET',load_location)\n",
    "        \n",
    "        T_obs = 4*u.yr #Observing time in years\n",
    "        T_obs_min = 1*u.yr\n",
    "        T_obs_max = 10*u.yr\n",
    "        \n",
    "        instrument.Default_Setup(T_obs)\n",
    "        instrument.Set_T_obs(T_obs,T_obs_min=T_obs_min,T_obs_max=T_obs_max)\n",
    "\n",
    "    elif model == 1: #aLIGO\n",
    "        SNR_save_name = 'aLIGO_SNR_Matrix' + save_version\n",
    "        Sample_save_name = 'aLIGO_Samples' + save_version\n",
    "        save_location = load_directory + 'aLIGO/SNRFiles/'\n",
    "        load_name = 'aLIGODesign.txt'\n",
    "        load_location = load_directory + 'aLIGO/StrainFiles/' + load_name\n",
    "\n",
    "        instrument = SnN_v2.GroundBased('aLIGO',load_location)\n",
    "        \n",
    "        T_obs = 4*u.yr #Observing time in years\n",
    "        T_obs_min = 1*u.yr\n",
    "        T_obs_max = 10*u.yr\n",
    "\n",
    "        instrument.Default_Setup(T_obs)\n",
    "        instrument.Set_T_obs(T_obs,T_obs_min=T_obs_min,T_obs_max=T_obs_max)\n",
    "\n",
    "    elif model == 2: #NANOGrav 15 yr\n",
    "\n",
    "        SNR_save_name = 'NANOGrav_SNR_Matrix' + save_version\n",
    "        Sample_save_name = 'NANOGrav_Samples' + save_version\n",
    "        save_location = load_directory + 'NANOGrav/SNRFiles/'\n",
    "        \n",
    "        instrument = SnN_v2.PTA('NANOGrav')\n",
    "\n",
    "        ###############################################\n",
    "        #NANOGrav calculation using 11.5yr parameters https://arxiv.org/abs/1801.01837\n",
    "        T_obs = 15*u.yr #Observing time in years\n",
    "        T_obs_min = 10*u.yr\n",
    "        T_obs_max = 30*u.yr\n",
    "        \n",
    "        instrument.Set_T_obs(T_obs,T_obs_min=T_obs_min,T_obs_max=T_obs_max)\n",
    "\n",
    "        sigma = 100*u.ns.to('s')*u.s #rms timing residuals in seconds\n",
    "        instrument.Set_Sigma(sigma)\n",
    "        \n",
    "        Np = 18 #Number of pulsars\n",
    "        instrument.Set_N_p(Np)\n",
    "        \n",
    "        cadence = 1/(2*u.wk.to('yr')*u.yr) #Avg observation cadence of 1 every 2 weeks in num/year\n",
    "        instrument.Set_Cadence(cadence)\n",
    "        \n",
    "        #instrument.Default_Setup(T_obs,N_p,sigma,cadence)\n",
    "        #instrument.Set_T_obs(T_obs,T_obs_min=T_obs_min,T_obs_max=T_obs_max)\n",
    "        instrument.Get_ASD()\n",
    "        instrument.Get_Strain()\n",
    "        instrument.Set_f_opt()\n",
    "        \n",
    "    elif model == 3: #SKA (2030s)\n",
    "\n",
    "        SNR_save_name = 'SKA_SNR_Matrix' + save_version\n",
    "        Sample_save_name = 'SKA_Samples' + save_version\n",
    "        save_location = load_directory + 'SKA/SNRFiles/'\n",
    "        \n",
    "        instrument = SnN_v2.PTA('SKA')\n",
    "\n",
    "        ###############################################\n",
    "        #SKA calculation using parameters and methods from arXiv:0804.4476 section 7.1\n",
    "        T_obs = 15*u.yr #Observing time (years)\n",
    "        T_obs_min = 10*u.yr\n",
    "        T_obs_max = 30*u.yr\n",
    "        instrument.Set_T_obs(T_obs,T_obs_min=T_obs_min,T_obs_max=T_obs_max)\n",
    "        \n",
    "        sigma = 10*u.ns.to('s')*u.s #rms timing residuals in nanoseconds\n",
    "        instrument.Set_Sigma(sigma)\n",
    "        \n",
    "        N_p = 20 #Number of pulsars\n",
    "        instrument.Set_N_p(N_p)\n",
    "        \n",
    "        cadence = 1/(u.wk.to('yr')*u.yr) #Avg observation cadence of 1 every week in num/year\n",
    "        instrument.Set_Cadence(cadence)\n",
    "        \n",
    "        #instrument.Background = True\n",
    "        #instrument.Default_Setup_Hazboun_2019(T_obs,N_p,sigma,cadence)\n",
    "        #instrument.Set_T_obs(T_obs,T_obs_min=T_obs_min,T_obs_max=T_obs_max)\n",
    "        instrument.Get_ASD()\n",
    "        instrument.Get_Strain()\n",
    "        instrument.Set_f_opt()\n",
    "\n",
    "    elif model == 4: #Robson,Cornish,and Liu 2018, LISA (https://arxiv.org/pdf/1803.01944.pdf)\n",
    "        SNR_save_name = 'LISA_Neil_SNR_Matrix' + save_version\n",
    "        Sample_save_name = 'LISA_Neil_Samples' + save_version\n",
    "        save_location = load_directory + 'LISA_Neil/SNRFiles/'\n",
    "        \n",
    "        instrument = SnN_v2.SpaceBased('Neil_LISA')\n",
    "        \n",
    "        T_obs = 4*u.yr #Observing time in years\n",
    "        T_obs_min = 1*u.yr\n",
    "        T_obs_max = 10*u.yr\n",
    "        instrument.Set_T_obs(T_obs,T_obs_min,T_obs_max)\n",
    "\n",
    "        L = 2.5e9*u.m #armlength in meters\n",
    "        L_min = 1.0e7*u.m\n",
    "        L_max = 1.0e11*u.m\n",
    "        instrument.Set_L(L,L_min,L_max)\n",
    "\n",
    "        Neil_A_acc = 3e-15*u.m/u.s/u.s #M/Hz**2\n",
    "        instrument.Set_A_acc(Neil_A_acc)\n",
    "        \n",
    "        Neil_A_oms = 1.5e-11*u.m\n",
    "        instrument.Set_A_IMS(Neil_A_oms)\n",
    "        \n",
    "        instrument.Set_f_IMS_break(2.*u.mHz.to('Hz')*u.Hz)\n",
    "\n",
    "        f_acc_break_low = .4*u.mHz.to('Hz')*u.Hz\n",
    "        instrument.Set_f_acc_break_low(f_acc_break_low)\n",
    "        \n",
    "        f_acc_break_high = 8.*u.mHz.to('Hz')*u.Hz\n",
    "        instrument.Set_f_acc_break_high(f_acc_break_high)\n",
    "        \n",
    "        #instrument.Default_Setup(T_obs,L,Neil_A_acc,f_acc_break_low,f_acc_break_high,Neil_A_oms,f_IMS_break,Background)\n",
    "        #instrument.Set_T_obs(T_obs,T_obs_min,T_obs_max)\n",
    "        #instrument.Set_L(L,L_min,L_max)\n",
    "        \n",
    "        instrument.Get_approxTransferFunction()\n",
    "        instrument.Background = True\n",
    "        instrument.Get_Strain()\n",
    "        instrument.Set_f_opt()\n",
    "    else: #L3 proposal\n",
    "        SNR_save_name = 'LISA_ESA_SNR_Matrix' + save_version\n",
    "        Sample_save_name = 'LISA_ESA_Samples' + save_version\n",
    "        save_location = load_directory + 'LISA_ESA/SNRFiles/'\n",
    "        \n",
    "        instrument = SnN_v2.SpaceBased('LISA_ESA')\n",
    "\n",
    "        #Default Params!\n",
    "        T_obs = 4*u.yr #Observing time in years\n",
    "        T_obs_min = 1*u.yr\n",
    "        T_obs_max = 10*u.yr\n",
    "        \n",
    "        L = 2.5e9*u.m #armlength in meters\n",
    "        L_min = 1.0e7*u.m\n",
    "        L_max = 1.0e11*u.m\n",
    "        \n",
    "        f_acc_break_low = .4*u.mHz.to('Hz')*u.Hz\n",
    "        f_acc_break_high = 8.*u.mHz.to('Hz')*u.Hz\n",
    "        f_IMS_break = 2.*u.mHz.to('Hz')*u.Hz\n",
    "        A_acc = 3e-15*u.m/u.s/u.s\n",
    "        A_IMS = 10e-12*u.m\n",
    "        Background = False\n",
    "        \n",
    "        instrument.Default_Setup(T_obs,L,A_acc,f_acc_break_low,f_acc_break_high,A_IMS,f_IMS_break,Background)\n",
    "        instrument.Set_T_obs(T_obs,T_obs_min,T_obs_max)\n",
    "        instrument.Set_L(L,L_min,L_max)\n",
    "        \n",
    "    return instrument"
   ]
  },
  {
   "cell_type": "code",
   "execution_count": 11,
   "metadata": {},
   "outputs": [
    {
     "name": "stdout",
     "output_type": "stream",
     "text": [
      "Neil_LISA\n",
      "LISA_ESA\n"
     ]
    }
   ],
   "source": [
    "model_1 = 4\n",
    "instrument_1 = Get_Model(model_1)\n",
    "print(instrument_1.name)\n",
    "model_2 = 5\n",
    "instrument_2 = Get_Model(model_2)\n",
    "print(instrument_2.name)"
   ]
  },
  {
   "cell_type": "code",
   "execution_count": 12,
   "metadata": {},
   "outputs": [],
   "source": [
    "source_1 = Get_Source(model_1)\n",
    "[M,q,chi1,chi2,z,inc] = source_1.Get_Current_Source_Vals()\n",
    "source_1.Default_Setup(M,q,chi1,chi2,z,inc,instrument_1)"
   ]
  },
  {
   "cell_type": "code",
   "execution_count": 13,
   "metadata": {},
   "outputs": [
    {
     "data": {
      "image/png": "[encoded data removed]",
      "text/plain": [
       "<Figure size 720x360 with 1 Axes>"
      ]
     },
     "metadata": {
      "needs_background": "light"
     },
     "output_type": "display_data"
    }
   ],
   "source": [
    "plt.figure(figsize=(10,5))\n",
    "plt.loglog(instrument_1.fT,instrument_1.h_n_f,label='Neil')\n",
    "plt.loglog(instrument_2.fT,instrument_2.h_n_f,label='ESA')\n",
    "plt.loglog(source_1.f,source_1.Get_CharStrain())\n",
    "plt.loglog(source_1.f_init,source_1.h_gw,'.')\n",
    "plt.legend()\n",
    "plt.show()"
   ]
  },
  {
   "cell_type": "code",
   "execution_count": 14,
   "metadata": {},
   "outputs": [
    {
     "name": "stdout",
     "output_type": "stream",
     "text": [
      "ET\n",
      "aLIGO\n"
     ]
    }
   ],
   "source": [
    "model_3 = 0\n",
    "instrument_3 = Get_Model(model_3)\n",
    "print(instrument_3.name)\n",
    "model_4 = 1\n",
    "instrument_4 = Get_Model(model_4)\n",
    "print(instrument_4.name)"
   ]
  },
  {
   "cell_type": "code",
   "execution_count": 15,
   "metadata": {},
   "outputs": [],
   "source": [
    "source_2 = Get_Source(model_4)\n",
    "[M,q,chi1,chi2,z,inc] = source_2.Get_Current_Source_Vals()\n",
    "source_2.Default_Setup(M,q,chi1,chi2,z,inc,instrument_4)"
   ]
  },
  {
   "cell_type": "code",
   "execution_count": 16,
   "metadata": {},
   "outputs": [
    {
     "data": {
      "image/png": "[encoded data removed]",
      "text/plain": [
       "<Figure size 720x360 with 1 Axes>"
      ]
     },
     "metadata": {
      "needs_background": "light"
     },
     "output_type": "display_data"
    }
   ],
   "source": [
    "plt.figure(figsize=(10,5))\n",
    "plt.loglog(instrument_3.fT,instrument_3.h_n_f,label='ET')\n",
    "plt.loglog(instrument_4.fT,instrument_4.h_n_f,label='aLIGO')\n",
    "plt.loglog(source_2.f,source_2.Get_CharStrain())\n",
    "plt.loglog(source_2.f_init,source_2.h_gw,'.')\n",
    "plt.legend()\n",
    "plt.show()"
   ]
  },
  {
   "cell_type": "code",
   "execution_count": 17,
   "metadata": {},
   "outputs": [
    {
     "name": "stdout",
     "output_type": "stream",
     "text": [
      "NANOGrav\n",
      "SKA\n"
     ]
    }
   ],
   "source": [
    "model_5 = 2\n",
    "instrument_5 = Get_Model(model_5)\n",
    "print(instrument_5.name)\n",
    "model_6 = 3\n",
    "instrument_6 = Get_Model(model_6)\n",
    "print(instrument_6.name)"
   ]
  },
  {
   "cell_type": "code",
   "execution_count": 18,
   "metadata": {},
   "outputs": [],
   "source": [
    "source_3 = Get_Source(model_6)\n",
    "[M,q,chi1,chi2,z,inc] = source_3.Get_Current_Source_Vals()\n",
    "source_3.Default_Setup(M,q,chi1,chi2,z,inc,instrument_6)"
   ]
  },
  {
   "cell_type": "code",
   "execution_count": 19,
   "metadata": {},
   "outputs": [
    {
     "data": {
      "image/png": "[encoded data removed]",
      "text/plain": [
       "<Figure size 720x360 with 1 Axes>"
      ]
     },
     "metadata": {
      "needs_background": "light"
     },
     "output_type": "display_data"
    }
   ],
   "source": [
    "plt.figure(figsize=(10,5))\n",
    "plt.loglog(instrument_5.fT,instrument_5.h_n_f,label='NANOGrav')\n",
    "plt.loglog(instrument_6.fT,instrument_6.h_n_f,label='SKA')\n",
    "plt.loglog(source_3.f,source_3.Get_CharStrain())\n",
    "plt.loglog(source_3.f_init,source_3.h_gw,'.')\n",
    "plt.legend()\n",
    "plt.show()"
   ]
  },
  {
   "cell_type": "markdown",
   "metadata": {},
   "source": [
    "# Setting Up SNR Calculation\n",
    "Uses the variables given and the data range to sample the space either logrithmically or linearly based on the \n",
    "selection of variables. Then it computes the SNR for each value.\n",
    "Returns the variable ranges used to calculate the SNR for each matrix, then returns the SNRs with size of the sample1Xsample2\n"
   ]
  },
  {
   "cell_type": "code",
   "execution_count": 23,
   "metadata": {},
   "outputs": [
    {
     "name": "stderr",
     "output_type": "stream",
     "text": [
      "/Users/andrewkaiser/anaconda3/lib/python3.7/site-packages/astropy/units/quantity.py:639: RuntimeWarning: invalid value encountered in power\n",
      "  result = super().__array_ufunc__(function, method, *arrays, **kwargs)\n"
     ]
    },
    {
     "name": "stdout",
     "output_type": "stream",
     "text": [
      "211.7817656993866\n"
     ]
    }
   ],
   "source": [
    "model = 5\n",
    "instrument = Get_Model(model)\n",
    "source = Get_Source(model)\n",
    "source.Set_Instrument(instrument)\n",
    "start = time.time()\n",
    "[sample_x,sample_y,SNRMatrix] = SNc_v3.getSNRMatrix(source,instrument,\\\n",
    "                                                 var_x,sampleRate_x,var_y,sampleRate_y)\n",
    "end = time.time()\n",
    "print(end-start)"
   ]
  },
  {
   "cell_type": "markdown",
   "metadata": {},
   "source": [
    "50.06400489807129"
   ]
  },
  {
   "cell_type": "code",
   "execution_count": 24,
   "metadata": {},
   "outputs": [
    {
     "data": {
      "image/png": "[encoded data removed]",
      "text/plain": [
       "<Figure size 720x576 with 2 Axes>"
      ]
     },
     "metadata": {
      "needs_background": "light"
     },
     "output_type": "display_data"
    }
   ],
   "source": [
    "SNc_v3.plotSNR(source.source_var_dict,instrument.inst_var_dict,var_x,sample_x,var_y,sample_y,SNRMatrix)"
   ]
  },
  {
   "cell_type": "markdown",
   "metadata": {},
   "source": [
    "# Whole Hog Creation of SNR Matrices and Samples"
   ]
  },
  {
   "cell_type": "code",
   "execution_count": null,
   "metadata": {},
   "outputs": [],
   "source": [
    "for model in range(5):\n",
    "    start = time.time()\n",
    "    [sample_x,sample_y,SNRMatrix] = SNc_v3.getSNRMatrix(source,instrument,\\\n",
    "                                             var_x,sampleRate_x,var_y,sampleRate_y)\n",
    "    end = time.time()\n",
    "    SNc_v3.saveSNR(sample_x,sample_y,SNRMatrix,save_location,SNR_save_name,Sample_save_name)\n",
    "    SNc_v3.plotSNR(source_var_dict_mod,inst_var_dict_mod,var_x,sample_x,var_y,sample_y,SNRMatrix,dl_axis=True)\n",
    "    print('Model: ',list(inst_var_dict_mod.keys())[0],', EOB Model: ',diff_mod,' done. t = : ',end-start)"
   ]
  }
 ],
 "metadata": {
  "kernelspec": {
   "display_name": "Python 3",
   "language": "python",
   "name": "python3"
  },
  "language_info": {
   "codemirror_mode": {
    "name": "ipython",
    "version": 3
   },
   "file_extension": ".py",
   "mimetype": "text/x-python",
   "name": "python",
   "nbconvert_exporter": "python",
   "pygments_lexer": "ipython3",
   "version": "3.7.0"
  }
 },
 "nbformat": 4,
 "nbformat_minor": 2
}
