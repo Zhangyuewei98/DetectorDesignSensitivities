{
 "cells": [
  {
   "cell_type": "code",
   "execution_count": 1,
   "metadata": {},
   "outputs": [],
   "source": [
    "%load_ext autoreload\n",
    "%autoreload 2"
   ]
  },
  {
   "cell_type": "code",
   "execution_count": 2,
   "metadata": {},
   "outputs": [],
   "source": [
    "import numpy as np\n",
    "import matplotlib.pyplot as plt\n",
    "import matplotlib.colors as colors\n",
    "from matplotlib import rc\n",
    "from matplotlib.image import NonUniformImage\n",
    "\n",
    "import os\n",
    "\n",
    "import astropy.units as u\n",
    "from astropy.cosmology import z_at_value\n",
    "from astropy.cosmology import WMAP9 as cosmo"
   ]
  },
  {
   "cell_type": "code",
   "execution_count": 3,
   "metadata": {},
   "outputs": [],
   "source": [
    "rc('text',usetex=True)\n",
    "rc('font',**{'family':'serif','serif':['Times New Roman'],'size':14})#,'weight':'bold'})"
   ]
  },
  {
   "cell_type": "markdown",
   "metadata": {},
   "source": [
    "# Directory Names"
   ]
  },
  {
   "cell_type": "code",
   "execution_count": 4,
   "metadata": {},
   "outputs": [],
   "source": [
    "current_path = os.getcwd()\n",
    "splt_path = current_path.split(\"/\")\n",
    "top_path_idx = splt_path.index('DetectorDesignSensitivities')\n",
    "top_directory = \"/\".join(splt_path[0:top_path_idx+1])\n",
    "load_directory = top_directory + '/LoadFiles/InstrumentFiles/'\n",
    "\n",
    "lisa_filedirectory = load_directory + 'LISA_ESA/SNRFiles/'\n",
    "et_filedirectory = load_directory + 'EinsteinTelescope/SNRFiles/'\n",
    "aLIGO_filedirectory = load_directory + 'aLIGO/SNRFiles/'\n",
    "nanograv_filedirectory = load_directory + 'NANOGrav/SNRFiles/'\n",
    "SKA_filedirectory = load_directory + 'SKA/SNRFiles/'\n",
    "\n",
    "version = '_4.dat'"
   ]
  },
  {
   "cell_type": "markdown",
   "metadata": {},
   "source": [
    "# Load Data Files"
   ]
  },
  {
   "cell_type": "markdown",
   "metadata": {},
   "source": [
    "#### ESA LISA "
   ]
  },
  {
   "cell_type": "code",
   "execution_count": 5,
   "metadata": {},
   "outputs": [],
   "source": [
    "lisa_SNR_filename = 'LISA_ESA_SNR_Matrix' + version\n",
    "lisa_Samples_filename = 'LISA_ESA_Samples' + version\n",
    "lisa_SNR_filelocation = lisa_filedirectory+lisa_SNR_filename\n",
    "lisa_Samples_filelocation = lisa_filedirectory+lisa_Samples_filename\n",
    "\n",
    "#load SNR from file\n",
    "lisa_SNR = np.loadtxt(lisa_SNR_filelocation)\n",
    "\n",
    "#z and M sample space corresponding to SNR height\n",
    "#First column is x-axis variable, second is y-axis variable\n",
    "lisa_Samples = np.loadtxt(lisa_Samples_filelocation)\n",
    "\n",
    "#Take log of variables and SNR for plotting\n",
    "lisa_logSamples = np.log10(lisa_Samples)\n",
    "lisa_logSNR = np.log10(lisa_SNR)"
   ]
  },
  {
   "cell_type": "markdown",
   "metadata": {},
   "source": [
    "#### Einstein Telescope"
   ]
  },
  {
   "cell_type": "code",
   "execution_count": 6,
   "metadata": {},
   "outputs": [],
   "source": [
    "et_SNR_filename = 'ET_SNR_Matrix' + version\n",
    "et_Samples_filename = 'ET_Samples' + version\n",
    "et_SNR_filelocation = et_filedirectory+et_SNR_filename\n",
    "et_Samples_filelocation = et_filedirectory+et_Samples_filename\n",
    "et_SNR = np.loadtxt(et_SNR_filelocation)\n",
    "et_Samples = np.loadtxt(et_Samples_filelocation)\n",
    "et_logSamples = np.log10(et_Samples)\n",
    "et_logSNR = np.log10(et_SNR)"
   ]
  },
  {
   "cell_type": "markdown",
   "metadata": {},
   "source": [
    "#### aLIGO"
   ]
  },
  {
   "cell_type": "code",
   "execution_count": 7,
   "metadata": {},
   "outputs": [],
   "source": [
    "aLIGO_SNR_filename = 'aLIGO_SNR_Matrix' + version\n",
    "aLIGO_Samples_filename = 'aLIGO_Samples' + version\n",
    "aLIGO_SNR_filelocation = aLIGO_filedirectory+aLIGO_SNR_filename\n",
    "aLIGO_Samples_filelocation = aLIGO_filedirectory+aLIGO_Samples_filename\n",
    "aLIGO_SNR = np.loadtxt(aLIGO_SNR_filelocation)\n",
    "aLIGO_Samples = np.loadtxt(aLIGO_Samples_filelocation)\n",
    "aLIGO_logSNR = np.log10(aLIGO_SNR)\n",
    "aLIGO_logSamples = np.log10(aLIGO_Samples)"
   ]
  },
  {
   "cell_type": "markdown",
   "metadata": {},
   "source": [
    "#### NANOGrav"
   ]
  },
  {
   "cell_type": "code",
   "execution_count": 8,
   "metadata": {},
   "outputs": [],
   "source": [
    "nanograv_SNR_filename = 'NANOGrav_SNR_Matrix' + version\n",
    "nanograv_Samples_filename = 'NANOGrav_Samples' + version\n",
    "nanograv_SNR_filelocation = nanograv_filedirectory+nanograv_SNR_filename\n",
    "nanograv_Samples_filelocation = nanograv_filedirectory+nanograv_Samples_filename\n",
    "nanograv_SNR = np.loadtxt(nanograv_SNR_filelocation)\n",
    "nanograv_Samples = np.loadtxt(nanograv_Samples_filelocation)\n",
    "nanograv_logSamples = np.log10(nanograv_Samples)\n",
    "nanograv_logSNR = np.log10(nanograv_SNR)"
   ]
  },
  {
   "cell_type": "markdown",
   "metadata": {},
   "source": [
    "#### SKA"
   ]
  },
  {
   "cell_type": "code",
   "execution_count": 9,
   "metadata": {},
   "outputs": [],
   "source": [
    "SKA_SNR_filename = 'SKA_SNR_Matrix' + version\n",
    "SKA_Samples_filename = 'SKA_Samples' + version\n",
    "SKA_SNR_filelocation = SKA_filedirectory+SKA_SNR_filename\n",
    "SKA_Samples_filelocation = SKA_filedirectory+SKA_Samples_filename\n",
    "SKA_SNR = np.loadtxt(SKA_SNR_filelocation)\n",
    "SKA_Samples = np.loadtxt(SKA_Samples_filelocation)\n",
    "SKA_logSamples = np.log10(SKA_Samples)\n",
    "SKA_logSNR = np.log10(SKA_SNR)"
   ]
  },
  {
   "cell_type": "markdown",
   "metadata": {},
   "source": [
    "# Make Waterfall Plots"
   ]
  },
  {
   "cell_type": "code",
   "execution_count": 17,
   "metadata": {},
   "outputs": [],
   "source": [
    "#Selects contour levels to separate sections into\n",
    "contLevels = np.array([5, 10, 1e2, 1e3, 1e4, 1e5, 1e6, 1e7])\n",
    "logLevels = np.log10(contLevels)\n",
    "\n",
    "contourcolorPresent = 'plasma'\n",
    "transparencyPresent = 1.0\n",
    "contourcolorFuture = 'plasma'\n",
    "transparencyFuture = 0.6\n",
    "axissize = 12\n",
    "labelsize = 16\n",
    "textsize = 14\n",
    "textcolor1 = 'k'\n",
    "textcolor2 = 'w'\n",
    "linesize = 4\n",
    "figsize=(10,6)"
   ]
  },
  {
   "cell_type": "code",
   "execution_count": 11,
   "metadata": {},
   "outputs": [],
   "source": [
    "###########################\n",
    "#Set pretty labels\n",
    "Mlabel_min = 0\n",
    "Mlabel_max = 11\n",
    "zlabel_min = -2.0\n",
    "zlabel_max = 3.0\n",
    "zlabels = np.logspace(zlabel_min,zlabel_max,zlabel_max-zlabel_min+1)\n",
    "Mlabels = np.logspace(Mlabel_min,Mlabel_max,Mlabel_max-Mlabel_min+1)\n",
    "\n",
    "ages1 = np.array([13.5,13,10,5,1])*u.Gyr \n",
    "ages2 = np.array([500,100,10,1])*u.Myr\n",
    "ages2 = ages2.to('Gyr')\n",
    "ages = np.hstack((ages1.value,ages2.value))\n",
    "ages = ages*u.Gyr\n",
    "ageticks = [z_at_value(cosmo.age,age) for age in ages]"
   ]
  },
  {
   "cell_type": "code",
   "execution_count": 12,
   "metadata": {},
   "outputs": [],
   "source": [
    "#########################\n",
    "#Label positions for different GW detectors\n",
    "#########################\n",
    "#Label different GW detectors\n",
    "labelaLIGO_text = 'aLIGO\\n(2016)'\n",
    "labelaLIGO_xpos = 0.22\n",
    "labelaLIGO_ypos = 0.125\n",
    "\n",
    "labelnanograv_text = 'NANOGrav\\n(2018)'\n",
    "labelnanograv_xpos = 0.91\n",
    "labelnanograv_ypos = 0.175\n",
    "\n",
    "labelet_text = 'ET\\n(~2030s)'\n",
    "labelet_xpos = 0.175\n",
    "labelet_ypos = 0.6\n",
    "#labelet_xpos = 0.1\n",
    "#labelet_ypos = 0.75\n",
    "\n",
    "labelLisa_text = 'LISA\\n(~2030s)'\n",
    "labelLisa_xpos = 0.6\n",
    "labelLisa_ypos = 0.1\n",
    "\n",
    "labelIpta_text = 'IPTA\\n(~2030s)'\n",
    "labelIpta_xpos = 0.65\n",
    "labelIpta_ypos = 0.85\n",
    "#labelIpta_xpos = 0.775\n",
    "#labelIpta_ypos = 0.75"
   ]
  },
  {
   "cell_type": "code",
   "execution_count": 18,
   "metadata": {
    "scrolled": false
   },
   "outputs": [
    {
     "data": {
      "image/png": "[encoded data removed]",
      "text/plain": [
       "<Figure size 720x432 with 3 Axes>"
      ]
     },
     "metadata": {},
     "output_type": "display_data"
    }
   ],
   "source": [
    "fig, ax1 = plt.subplots(figsize=figsize)\n",
    "###########################\n",
    "#Set other side y-axis for lookback time scalings\n",
    "ax2 = ax1.twinx()\n",
    "\n",
    "CS1 = ax1.contourf(nanograv_logSamples[0],nanograv_logSamples[1],nanograv_logSNR,logLevels,\\\n",
    "                   cmap = contourcolorPresent, alpha = transparencyPresent)\n",
    "\n",
    "ax2.contour(nanograv_logSamples[0],nanograv_logSamples[1],nanograv_logSNR,logLevels,colors = 'k')\n",
    "\n",
    "ax1.contourf(aLIGO_logSamples[0],aLIGO_logSamples[1],aLIGO_logSNR,logLevels,\\\n",
    "             cmap = contourcolorPresent, alpha = transparencyPresent)\n",
    "\n",
    "ax1.contour(aLIGO_logSamples[0],aLIGO_logSamples[1],aLIGO_logSNR,logLevels,colors = 'k')\n",
    "\n",
    "ax1.contourf(lisa_logSamples[0],lisa_logSamples[1],lisa_logSNR,logLevels,\\\n",
    "             cmap=contourcolorFuture, alpha = transparencyFuture)\n",
    "\n",
    "ax1.contourf(et_logSamples[0],et_logSamples[1],et_logSNR,logLevels,\\\n",
    "             cmap = contourcolorFuture, alpha = transparencyFuture)\n",
    "\n",
    "ax1.contourf(SKA_logSamples[0],SKA_logSamples[1],SKA_logSNR,logLevels,\\\n",
    "             cmap = contourcolorFuture, alpha = transparencyFuture)\n",
    "\n",
    "#########################\n",
    "#Set axes limits \n",
    "ax1.set_xlim(et_logSamples[0][0],11)\n",
    "ax1.set_ylim(SKA_logSamples[1][0],SKA_logSamples[1][-1])\n",
    "\n",
    "#########################\n",
    "#Set ticks and labels\n",
    "ax1.set_yticks(np.log10(zlabels))\n",
    "ax1.set_xticks(np.log10(Mlabels))\n",
    "ax1.set_xticklabels([r'$10^{%i}$' %x for x in np.log10(Mlabels)],\\\n",
    "    fontsize = axissize)\n",
    "ax1.set_yticklabels([x if int(x) < 1 else int(x) for x in zlabels],\\\n",
    "    fontsize = axissize)\n",
    "\n",
    "ax1.set_xlabel(r'$M_{\\rm tot}$ $[M_{\\odot}]$',fontsize = labelsize)\n",
    "ax1.set_ylabel(r'${\\rm Redshift}$',fontsize = labelsize)\n",
    "#ax1.yaxis.set_label_coords(-.5,.5)\n",
    "\n",
    "ax2.set_yticks(np.log10(ageticks))\n",
    "#ax2.set_yticklabels(['%f' %age for age in ageticks],fontsize = axissize)\n",
    "ax2.set_yticklabels(['{:g}'.format(age) for age in ages.value],fontsize = axissize)\n",
    "ax2.set_ylabel(r'$t_{\\rm cosmic}$ [Gyr]',fontsize=labelsize)\n",
    "\n",
    "\n",
    "#########################\n",
    "#Label different GW detectors\n",
    "plt.text(labelaLIGO_xpos,labelaLIGO_ypos,labelaLIGO_text,fontsize = textsize, \\\n",
    "         horizontalalignment='center',verticalalignment='center', color = textcolor2,transform = ax1.transAxes)\n",
    "\n",
    "plt.text(labelnanograv_xpos,labelnanograv_ypos,labelnanograv_text,fontsize = textsize,\\\n",
    "         horizontalalignment='center',verticalalignment='center', color = textcolor2,transform = ax1.transAxes,\\\n",
    "        rotation=72)\n",
    "\n",
    "plt.text(labelet_xpos,labelet_ypos,labelet_text,fontsize = textsize,\\\n",
    "         horizontalalignment='center',verticalalignment='center', color = textcolor1,transform = ax1.transAxes)\n",
    "\n",
    "plt.text(labelLisa_xpos,labelLisa_ypos,labelLisa_text,fontsize = textsize,\\\n",
    "         horizontalalignment='center',verticalalignment='center', color = textcolor1,transform = ax1.transAxes)\n",
    "\n",
    "plt.text(labelIpta_xpos,labelIpta_ypos,labelIpta_text,fontsize = textsize,\\\n",
    "         horizontalalignment='center',verticalalignment='center', color = textcolor1,transform = ax1.transAxes)\n",
    "\n",
    "#########################\n",
    "#Make colorbar\n",
    "cbar = fig.colorbar(CS1,ax=(ax1,ax2),pad=0.01)\n",
    "#cbar = fig.colorbar(CS1)\n",
    "cbar.set_label(r'$SNR$',fontsize = labelsize)\n",
    "cbar.ax.tick_params(labelsize = axissize)\n",
    "cbar.ax.set_yticklabels([r'$10^{%i}$' %x if int(x) > 1 else r'$%i$' %(10**x) for x in logLevels])\n",
    "plt.show()"
   ]
  },
  {
   "cell_type": "code",
   "execution_count": 14,
   "metadata": {},
   "outputs": [],
   "source": [
    "#Save Figure Name\n",
    "fig_filedirectory = current_path\n",
    "figname = '/WaterfallPlots_v6.pdf'\n",
    "#########################\n",
    "#Save Figure to File\n",
    "isitsavetime = False\n",
    "figloc = fig_filedirectory+figname\n",
    "if isitsavetime:\n",
    "    fig.savefig(figloc,bbox_inches='tight')"
   ]
  },
  {
   "cell_type": "code",
   "execution_count": null,
   "metadata": {},
   "outputs": [],
   "source": []
  },
  {
   "cell_type": "code",
   "execution_count": null,
   "metadata": {},
   "outputs": [],
   "source": []
  }
 ],
 "metadata": {
  "kernelspec": {
   "display_name": "Python 3",
   "language": "python",
   "name": "python3"
  },
  "language_info": {
   "codemirror_mode": {
    "name": "ipython",
    "version": 3
   },
   "file_extension": ".py",
   "mimetype": "text/x-python",
   "name": "python",
   "nbconvert_exporter": "python",
   "pygments_lexer": "ipython3",
   "version": "3.7.2"
  }
 },
 "nbformat": 4,
 "nbformat_minor": 2
}
