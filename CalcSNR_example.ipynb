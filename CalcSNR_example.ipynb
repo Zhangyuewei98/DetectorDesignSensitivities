{
 "cells": [
  {
   "cell_type": "code",
   "execution_count": 1,
   "metadata": {},
   "outputs": [],
   "source": [
    "%load_ext autoreload\n",
    "%autoreload 2"
   ]
  },
  {
   "cell_type": "code",
   "execution_count": 2,
   "metadata": {},
   "outputs": [],
   "source": [
    "import numpy as np\n",
    "import matplotlib.pyplot as plt\n",
    "import astropy.constants as const\n",
    "import os\n",
    "import astropy.units as u\n",
    "\n",
    "import StrainandNoise as SnN\n",
    "import SNRcalc as SNc"
   ]
  },
  {
   "cell_type": "markdown",
   "metadata": {},
   "source": [
    "# Directory Names"
   ]
  },
  {
   "cell_type": "code",
   "execution_count": 3,
   "metadata": {},
   "outputs": [],
   "source": [
    "top_directory = os.getcwd() + '/LoadFiles/InstrumentStrainFiles/'\n",
    "LISA_Other_filedirectory = top_directory + 'LISA_Other/'\n",
    "LISA_Neil_filedirectory = top_directory + 'LISA_Neil/'\n",
    "LISA_ESA_filedirectory = top_directory + 'LISA_ESA/'\n",
    "ET_filedirectory = top_directory + 'EinsteinTelescope/'\n",
    "aLIGO_filedirectory = top_directory + 'aLIGO/'\n",
    "NANOGrav_filedirectory = top_directory + 'NANOGrav/' "
   ]
  },
  {
   "cell_type": "markdown",
   "metadata": {},
   "source": [
    "# Constants and Initial Parameters"
   ]
  },
  {
   "cell_type": "code",
   "execution_count": 4,
   "metadata": {},
   "outputs": [],
   "source": [
    "'''\n",
    "    Variables: \n",
    "        'M' - Mass (Solar Units)\n",
    "        'q' - Mass Ratio\n",
    "        'chi1' - Spin1\n",
    "        'chi2' - Spin2\n",
    "        'z' - Redshift\n",
    "'''\n",
    "\n",
    "var1 = 'z' #Variable on y-axis\n",
    "\n",
    "sampleRate1 = 100 #Number of SNRMatrix rows\n",
    "\n",
    "var2 = 'M' #Variable on x-axis\n",
    "\n",
    "sampleRate2 = 100 #Number of SNRMatrix columns\n",
    "\n",
    "#Selects which noise curve: 0 is Neil Cornish's,\n",
    "# \t\t\t\t\t\t\t1 is the 2016 proposal,\n",
    "#\t\t\t\t\t\t\t2 is Einstein Telescope, \n",
    "#\t\t\t\t\t\t\t3 is aLIGO, \n",
    "#\t\t\t\t\t\t\t4 is NANOGrav 11yr,\n",
    "#\t\t\t\t\t\t\t5 is SKA (2030s),\n",
    "#\t\t\t\t\t\t\tanything else is the L3 proposal\n",
    "model = 4\n",
    "\n",
    "#TODO: make general intake of some f,and sqrt(S_n_f)\n",
    "\n",
    "#M = m1+m2 Total Mass\n",
    "M = 1e6\n",
    "M_min = 1e1\n",
    "M_max = 1e12\n",
    "\n",
    "#q = m2/m1 reduced mass\n",
    "q = 1.0\n",
    "q_min = 1.0\n",
    "q_max = 18.0\n",
    "\n",
    "#Chi = S_i*L/m_i**2, spins of each mass i\n",
    "chi1 = 0.0 #spin of m1\n",
    "chi2 = 0.0 #spin of m2\n",
    "chi_min = -0.85 #Limits of PhenomD for unaligned spins\n",
    "chi_max = 0.85\n",
    "\n",
    "z = 3.0 #Redshift\n",
    "z_min = 1e-2\n",
    "z_max = 1e3\n",
    "\n",
    "nfreqs = int(1e3)   #Sample rate of strain/Transfer function frequencies\n",
    "\n",
    "#Make a dictionary of dictionaries to put all values, minima, and maxima in a nice, concise form\n",
    "var_dict = {'M':{'val':M,'min':M_min,'max':M_max},\n",
    "            'q':{'val':q,'min':q_min,'max':q_max},\n",
    "            'chi1':{'val':chi1,'min':chi_min,'max':chi_max},\n",
    "            'chi2':{'val':chi2,'min':chi_min,'max':chi_max},\n",
    "            'z':{'val':z,'min':z_min,'max':z_max}}"
   ]
  },
  {
   "cell_type": "markdown",
   "metadata": {},
   "source": [
    "# Model Selection"
   ]
  },
  {
   "cell_type": "code",
   "execution_count": 5,
   "metadata": {},
   "outputs": [],
   "source": [
    "if model == 0: #Neil\n",
    "    T_obs = 4*u.yr.to('s')*u.s #Observing time in seconds\n",
    "    #Neil Calculation from https://arxiv.org/pdf/1803.01944.pdf\n",
    "    Neil_S_acc = 3e-15*u.m/u.s/u.s #M/sqrt(Hz)\n",
    "    Neil_S_oms = 1.5e-11*u.m\n",
    "    Neil_L = 2.5e9*u.m\n",
    "    fT,LISA_Transfer_Function = SnN.Get_TransferFunction(L=Neil_L)    \n",
    "    S_n_f_sqrt = SnN.NeilSensitivity(f,LISA_Transfer_Function)\n",
    "    S_n_f_sqrt = S_n_f_sqrt/(u.Hz)**Fraction(1,2)\n",
    "elif model == 1: #Martin 2016\n",
    "    T_obs = 4*u.yr.to('s')*u.s #Observing time in seconds\n",
    "    #LISA Calculation without pathfinder correction (2016 model)\n",
    "    Ssci = 8.9e-12**2*u.m*u.m\n",
    "    Sloc = 1.7e-12**2*u.m*u.m\n",
    "    Sother = 2e-12**2*u.m*u.m\n",
    "    k2016_P_ims = Ssci+2*Sloc+Sother\n",
    "    k2016_L = 2.5e9*u.m\n",
    "    fT,LISA_Transfer_Function = SnN.Get_TransferFunction(L=k2016_L)\n",
    "    k2016_P_acc = ((1.8e-14*u.m/u.s/u.s)**2*((3e-5*u.Hz/f)**10 + (1e-4*u.Hz/f)**2) + (3e-15*u.m/u.s/u.s)**2)/(2*np.pi*f)**4   #red below 1e-4, white above\n",
    "    \n",
    "    S_n_f_sqrt = SnN.calcASD(f,LISA_Transfer_Function,k2016_P_acc,k2016_P_ims,k2016_L)\n",
    "    S_n_f_sqrt = S_n_f_sqrt/(u.Hz)**Fraction(1,2)\n",
    "elif model == 2: #Einstein Telescope\n",
    "    T_obs = 4*u.yr.to('s')*u.s #Observing time in seconds\n",
    "    ET_filename = 'ET_D_data.txt'\n",
    "    ET_filelocation = ET_filedirectory + ET_filename\n",
    "    ET_data = np.loadtxt(ET_filelocation)\n",
    "    fT = ET_data[:,0]*u.Hz\n",
    "    \n",
    "    S_n_f_sqrt = ET_data[:,1]\n",
    "    S_n_f_sqrt = S_n_f_sqrt/(u.Hz)**Fraction(1,2)\n",
    "elif model == 3: #aLIGO\n",
    "    T_obs = 4*u.yr.to('s')*u.s #Observing time in seconds\n",
    "    aLIGO_filename = 'aLIGODesign.txt'\n",
    "    aLIGO_filelocation = aLIGO_filedirectory + aLIGO_filename\n",
    "    aLIGO_data = np.loadtxt(aLIGO_filelocation)\n",
    "    #Cheating with names so I don't have to load data everytime\n",
    "    fT = aLIGO_data[:,0]*u.Hz\n",
    "    \n",
    "    S_n_f_sqrt = aLIGO_data[:,1]\n",
    "    S_n_f_sqrt = S_n_f_sqrt/(u.Hz)**Fraction(1,2)\n",
    "elif model == 4: #NANOGrav 11 yr\n",
    "    ###############################################\n",
    "    #NANOGrav calculation using 11.5yr parameters https://arxiv.org/abs/1801.01837\n",
    "    deltrms_nano = 100*u.ns #rms timing residuals in seconds\n",
    "    deltrms_nano = deltrms_nano.to('s')\n",
    "\n",
    "    T_obs = 11.4*u.yr #Observing time in years\n",
    "    T_obs = T_obs.to('s') #Observing time in seconds\n",
    "    Np_nano = 45 #Number of pulsars\n",
    "    cadence_nano = 1/(2*u.wk) #Avg observation cadence of 1 every 2 weeks in seconds\n",
    "    cadence_nano = cadence_nano.to('1/s')\n",
    "    ndetectors = 1\n",
    "    \n",
    "    fT,S_n_f_sqrt = SnN.calcPTAASD(deltrms_nano,cadence_nano,T_obs,ndetectors)\n",
    "elif model == 5: #SKA (2030s)\n",
    "    ###############################################\n",
    "    #NANOGrav calculation using 11.5yr parameters https://arxiv.org/abs/1801.01837\n",
    "    deltrms_nano = 100*u.ns #rms timing residuals in seconds\n",
    "    deltrms_nano = deltrms_nano.to('s')\n",
    "\n",
    "    T_nano = 11.4*u.yr #Observing time in years\n",
    "    T_nano = T_nano.to('s') #Observing time in seconds\n",
    "    Np_nano = 45 #Number of pulsars\n",
    "    cadence_nano = 1/(2*u.wk) #Avg observation cadence of 1 every 2 weeks in seconds\n",
    "    cadence_nano = cadence_nano.to('1/s')\n",
    "    \n",
    "    ###############################################\n",
    "    #SKA calculation using parameters and methods from arXiv:0804.4476 section 7.1\n",
    "    deltrms_SKA = 10*u.ns #rms timing residuals in nanoseconds\n",
    "    deltrms_SKA = deltrms_SKA.to('s')\n",
    "\n",
    "    T_SKA = 15*u.yr #Observing time in years\n",
    "    T_SKA = T_SKA.to('s') #Observing time in seconds\n",
    "\n",
    "    Np_SKA = 20 #Number of pulsars\n",
    "    cadence_SKA = 1/u.wk #Avg observation cadence of 1 every week in seconds\n",
    "    cadence_SKA = cadence_SKA.to('1/s')\n",
    "    \n",
    "    ndetectors = 2\n",
    "    T_obs_full = [T_nano, T_SKA]\n",
    "    cadence_full = [cadence_nano, cadence_SKA]\n",
    "    sigma_rms_full = [deltrms_nano, deltrms_SKA]\n",
    "    \n",
    "    T_obs=T_nano+T_SKA\n",
    "\n",
    "    fT,S_n_f_sqrt = SnN.calcPTAASD(sigma_rms_full,cadence_full,T_obs_full,ndetectors)\n",
    "else: #L3 proposal\n",
    "    T_obs = 4*u.yr.to('s')*u.s #Observing time in seconds\n",
    "    S_acc_low_knee = .4*u.mHz\n",
    "    S_acc_high_knee = 8.*u.mHz\n",
    "    S_oms_knee = 2.*u.mHz\n",
    "    ESA_L = 2.5e9*u.m\n",
    "    fT,LISA_Transfer_Function = SnN.Get_TransferFunction(L=ESA_L)\n",
    "    S_n_f_sqrt = SnN.LisaSensitivity(fT,LISA_Transfer_Function)\n",
    "    S_n_f_sqrt = S_n_f_sqrt/(u.Hz)**Fraction(1,2)"
   ]
  },
  {
   "cell_type": "markdown",
   "metadata": {},
   "source": [
    "# Setting Up SNR Calculation\n",
    "Uses the variables given and the data range to sample the space either logrithmically or linearly based on the \n",
    "selection of variables. Then it computes the SNR for each value.\n",
    "Returns the variable ranges used to calculate the SNR for each matrix, then returns the SNRs with size of the sample1Xsample2\n"
   ]
  },
  {
   "cell_type": "code",
   "execution_count": 10,
   "metadata": {},
   "outputs": [
    {
     "name": "stderr",
     "output_type": "stream",
     "text": [
      "/home/andrew/anaconda3/lib/python3.6/site-packages/astropy/units/quantity.py:639: RuntimeWarning: invalid value encountered in power\n",
      "  result = super().__array_ufunc__(function, method, *arrays, **kwargs)\n"
     ]
    }
   ],
   "source": [
    "[sample1tmp,sample2tmp,SNRMatrixtmp] = SNc.getSNRMatrixVer10(var1,sampleRate1,var2,sampleRate2,var_dict,fT,S_n_f_sqrt,T_obs)"
   ]
  },
  {
   "cell_type": "code",
   "execution_count": 11,
   "metadata": {},
   "outputs": [
    {
     "data": {
      "image/png": "[encoded data removed]",
      "text/plain": [
       "<Figure size 720x576 with 2 Axes>"
      ]
     },
     "metadata": {},
     "output_type": "display_data"
    }
   ],
   "source": [
    "SNc.plotSNR(sample1tmp,sample2tmp,SNRMatrixtmp,var_dict,var1,var2)"
   ]
  },
  {
   "cell_type": "code",
   "execution_count": null,
   "metadata": {},
   "outputs": [],
   "source": []
  }
 ],
 "metadata": {
  "kernelspec": {
   "display_name": "Python 3",
   "language": "python",
   "name": "python3"
  },
  "language_info": {
   "codemirror_mode": {
    "name": "ipython",
    "version": 3
   },
   "file_extension": ".py",
   "mimetype": "text/x-python",
   "name": "python",
   "nbconvert_exporter": "python",
   "pygments_lexer": "ipython3",
   "version": "3.6.5"
  }
 },
 "nbformat": 4,
 "nbformat_minor": 2
}
